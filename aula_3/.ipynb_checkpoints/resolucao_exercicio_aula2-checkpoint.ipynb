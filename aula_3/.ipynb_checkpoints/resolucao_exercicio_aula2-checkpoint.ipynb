{
 "cells": [
  {
   "cell_type": "code",
   "execution_count": 1,
   "metadata": {},
   "outputs": [],
   "source": [
    "import numpy as np\n",
    "import matplotlib.pyplot as plt\n",
    "\n",
    "from sklearn.linear_model import LinearRegression, Lasso, Ridge\n",
    "\n",
    "from IPython.display import display                               \n",
    "from ipywidgets import interactive\n",
    "\n",
    "%matplotlib inline"
   ]
  },
  {
   "cell_type": "code",
   "execution_count": 2,
   "metadata": {},
   "outputs": [],
   "source": [
    "x = np.array([-2.5,  -2, -1.76,  -1, -0.2, 0.5, 0.8, 1.0, 1.1])\n",
    "y = np.array([4.21, 2.5,  1.4, 1.37, 2.29, 2.4, 3.98, 1.2, 0.99])"
   ]
  },
  {
   "cell_type": "code",
   "execution_count": 3,
   "metadata": {},
   "outputs": [
    {
     "data": {
      "text/plain": [
       "<matplotlib.collections.PathCollection at 0x7f01a542d940>"
      ]
     },
     "execution_count": 3,
     "metadata": {},
     "output_type": "execute_result"
    },
    {
     "data": {
      "image/png": "[encoded data removed]",
      "text/plain": [
       "<Figure size 432x288 with 1 Axes>"
      ]
     },
     "metadata": {},
     "output_type": "display_data"
    }
   ],
   "source": [
    "plt.scatter(x, y)"
   ]
  },
  {
   "cell_type": "code",
   "execution_count": 4,
   "metadata": {},
   "outputs": [
    {
     "data": {
      "image/png": "[encoded data removed]",
      "text/plain": [
       "<Figure size 432x288 with 1 Axes>"
      ]
     },
     "metadata": {},
     "output_type": "display_data"
    }
   ],
   "source": [
    "def regressao(tipo, grau=1, penalidade=1.0):\n",
    "    if tipo == 'Linear':\n",
    "        regressor = LinearRegression()\n",
    "    elif tipo == 'Lasso':\n",
    "        regressor = Lasso(alpha=penalidade)\n",
    "    else:\n",
    "        regressor = Ridge(alpha=penalidade)\n",
    "    \n",
    "    entradas = (x.reshape(-1, 1) ** (np.arange(grau) + 1))\n",
    "    regressor.fit(entradas, y)\n",
    "    \n",
    "    plt.scatter(x, y)\n",
    "    graphx = np.linspace(x.min(), x.max(), 100)\n",
    "    graphentrada = graphx.reshape(-1, 1) ** (np.arange(grau) + 1)\n",
    "    plt.plot(graphx, regressor.predict(graphentrada), c='r')\n",
    "\n",
    "regressao('Linear', grau=2)"
   ]
  },
  {
   "cell_type": "code",
   "execution_count": 12,
   "metadata": {},
   "outputs": [
    {
     "data": {
      "application/vnd.jupyter.widget-view+json": {
       "model_id": "cdb5739680df4dbfb5c6f0f222b645dc",
       "version_major": 2,
       "version_minor": 0
      },
      "text/plain": [
       "interactive(children=(Dropdown(description='tipo', options=('Linear', 'Lasso', 'Ridge'), value='Linear'), Drop…"
      ]
     },
     "metadata": {},
     "output_type": "display_data"
    }
   ],
   "source": [
    "inter = interactive(regressao,\n",
    "                    tipo=['Linear', 'Lasso', 'Ridge'],\n",
    "                    grau=np.arange(15) + 1,\n",
    "                    penalidade=(0.1, 5.0))\n",
    "\n",
    "display(inter)"
   ]
  },
  {
   "cell_type": "code",
   "execution_count": 11,
   "metadata": {},
   "outputs": [],
   "source": [
    "from sklearn.datasets import load_wine\n",
    "from sklearn.tree import DecisionTreeClassifier, export_graphviz\n",
    "from sklearn.model_selection import train_test_split\n",
    "from sklearn.metrics import confusion_matrix\n",
    "import graphviz"
   ]
  },
  {
   "cell_type": "code",
   "execution_count": 7,
   "metadata": {},
   "outputs": [],
   "source": [
    "wine = load_wine()\n",
    "w_x = wine.data\n",
    "w_y = wine.target"
   ]
  },
  {
   "cell_type": "code",
   "execution_count": 8,
   "metadata": {},
   "outputs": [
    {
     "data": {
      "image/svg+xml": [
       "<?xml version=\"1.0\" encoding=\"UTF-8\" standalone=\"no\"?>\n",
       "<!DOCTYPE svg PUBLIC \"-//W3C//DTD SVG 1.1//EN\"\n",
       " \"http://www.w3.org/Graphics/SVG/1.1/DTD/svg11.dtd\">\n",
       "<!-- Generated by graphviz version 2.38.0 (20140413.2041)\n",
       " -->\n",
       "<!-- Title: Tree Pages: 1 -->\n",
       "<svg width=\"512pt\" height=\"269pt\"\n",
       " viewBox=\"0.00 0.00 511.50 269.00\" xmlns=\"http://www.w3.org/2000/svg\" xmlns:xlink=\"http://www.w3.org/1999/xlink\">\n",
       "<g id=\"graph0\" class=\"graph\" transform=\"scale(1 1) rotate(0) translate(4 265)\">\n",
       "<title>Tree</title>\n",
       "<polygon fill=\"white\" stroke=\"none\" points=\"-4,4 -4,-265 507.5,-265 507.5,4 -4,4\"/>\n",
       "<!-- 0 -->\n",
       "<g id=\"node1\" class=\"node\"><title>0</title>\n",
       "<polygon fill=\"none\" stroke=\"black\" points=\"311,-261 185,-261 185,-193 311,-193 311,-261\"/>\n",
       "<text text-anchor=\"middle\" x=\"248\" y=\"-245.8\" font-family=\"Times,serif\" font-size=\"14.00\">alcohol &lt;= 12.755</text>\n",
       "<text text-anchor=\"middle\" x=\"248\" y=\"-230.8\" font-family=\"Times,serif\" font-size=\"14.00\">gini = 0.655</text>\n",
       "<text text-anchor=\"middle\" x=\"248\" y=\"-215.8\" font-family=\"Times,serif\" font-size=\"14.00\">samples = 106</text>\n",
       "<text text-anchor=\"middle\" x=\"248\" y=\"-200.8\" font-family=\"Times,serif\" font-size=\"14.00\">value = [39, 41, 26]</text>\n",
       "</g>\n",
       "<!-- 1 -->\n",
       "<g id=\"node2\" class=\"node\"><title>1</title>\n",
       "<polygon fill=\"none\" stroke=\"black\" points=\"235.5,-157 122.5,-157 122.5,-89 235.5,-89 235.5,-157\"/>\n",
       "<text text-anchor=\"middle\" x=\"179\" y=\"-141.8\" font-family=\"Times,serif\" font-size=\"14.00\">hue &lt;= 0.82</text>\n",
       "<text text-anchor=\"middle\" x=\"179\" y=\"-126.8\" font-family=\"Times,serif\" font-size=\"14.00\">gini = 0.139</text>\n",
       "<text text-anchor=\"middle\" x=\"179\" y=\"-111.8\" font-family=\"Times,serif\" font-size=\"14.00\">samples = 40</text>\n",
       "<text text-anchor=\"middle\" x=\"179\" y=\"-96.8\" font-family=\"Times,serif\" font-size=\"14.00\">value = [0, 37, 3]</text>\n",
       "</g>\n",
       "<!-- 0&#45;&gt;1 -->\n",
       "<g id=\"edge1\" class=\"edge\"><title>0&#45;&gt;1</title>\n",
       "<path fill=\"none\" stroke=\"black\" d=\"M225.598,-192.884C219.753,-184.243 213.378,-174.819 207.272,-165.793\"/>\n",
       "<polygon fill=\"black\" stroke=\"black\" points=\"210.028,-163.621 201.526,-157.299 204.23,-167.543 210.028,-163.621\"/>\n",
       "<text text-anchor=\"middle\" x=\"196.789\" y=\"-178.146\" font-family=\"Times,serif\" font-size=\"14.00\">True</text>\n",
       "</g>\n",
       "<!-- 4 -->\n",
       "<g id=\"node5\" class=\"node\"><title>4</title>\n",
       "<polygon fill=\"none\" stroke=\"black\" points=\"382,-157 254,-157 254,-89 382,-89 382,-157\"/>\n",
       "<text text-anchor=\"middle\" x=\"318\" y=\"-141.8\" font-family=\"Times,serif\" font-size=\"14.00\">flavanoids &lt;= 1.705</text>\n",
       "<text text-anchor=\"middle\" x=\"318\" y=\"-126.8\" font-family=\"Times,serif\" font-size=\"14.00\">gini = 0.526</text>\n",
       "<text text-anchor=\"middle\" x=\"318\" y=\"-111.8\" font-family=\"Times,serif\" font-size=\"14.00\">samples = 66</text>\n",
       "<text text-anchor=\"middle\" x=\"318\" y=\"-96.8\" font-family=\"Times,serif\" font-size=\"14.00\">value = [39, 4, 23]</text>\n",
       "</g>\n",
       "<!-- 0&#45;&gt;4 -->\n",
       "<g id=\"edge4\" class=\"edge\"><title>0&#45;&gt;4</title>\n",
       "<path fill=\"none\" stroke=\"black\" d=\"M270.727,-192.884C276.657,-184.243 283.124,-174.819 289.319,-165.793\"/>\n",
       "<polygon fill=\"black\" stroke=\"black\" points=\"292.375,-167.525 295.147,-157.299 286.603,-163.564 292.375,-167.525\"/>\n",
       "<text text-anchor=\"middle\" x=\"299.72\" y=\"-178.178\" font-family=\"Times,serif\" font-size=\"14.00\">False</text>\n",
       "</g>\n",
       "<!-- 2 -->\n",
       "<g id=\"node3\" class=\"node\"><title>2</title>\n",
       "<polygon fill=\"none\" stroke=\"black\" points=\"106,-53 7.10543e-15,-53 7.10543e-15,-0 106,-0 106,-53\"/>\n",
       "<text text-anchor=\"middle\" x=\"53\" y=\"-37.8\" font-family=\"Times,serif\" font-size=\"14.00\">gini = 0.375</text>\n",
       "<text text-anchor=\"middle\" x=\"53\" y=\"-22.8\" font-family=\"Times,serif\" font-size=\"14.00\">samples = 4</text>\n",
       "<text text-anchor=\"middle\" x=\"53\" y=\"-7.8\" font-family=\"Times,serif\" font-size=\"14.00\">value = [0, 1, 3]</text>\n",
       "</g>\n",
       "<!-- 1&#45;&gt;2 -->\n",
       "<g id=\"edge2\" class=\"edge\"><title>1&#45;&gt;2</title>\n",
       "<path fill=\"none\" stroke=\"black\" d=\"M134.931,-88.9485C122.124,-79.3431 108.166,-68.8747 95.46,-59.345\"/>\n",
       "<polygon fill=\"black\" stroke=\"black\" points=\"97.4156,-56.4367 87.3156,-53.2367 93.2156,-62.0368 97.4156,-56.4367\"/>\n",
       "</g>\n",
       "<!-- 3 -->\n",
       "<g id=\"node4\" class=\"node\"><title>3</title>\n",
       "<polygon fill=\"none\" stroke=\"black\" points=\"237.5,-53 124.5,-53 124.5,-0 237.5,-0 237.5,-53\"/>\n",
       "<text text-anchor=\"middle\" x=\"181\" y=\"-37.8\" font-family=\"Times,serif\" font-size=\"14.00\">gini = 0.0</text>\n",
       "<text text-anchor=\"middle\" x=\"181\" y=\"-22.8\" font-family=\"Times,serif\" font-size=\"14.00\">samples = 36</text>\n",
       "<text text-anchor=\"middle\" x=\"181\" y=\"-7.8\" font-family=\"Times,serif\" font-size=\"14.00\">value = [0, 36, 0]</text>\n",
       "</g>\n",
       "<!-- 1&#45;&gt;3 -->\n",
       "<g id=\"edge3\" class=\"edge\"><title>1&#45;&gt;3</title>\n",
       "<path fill=\"none\" stroke=\"black\" d=\"M179.7,-88.9485C179.874,-80.7153 180.061,-71.848 180.238,-63.4814\"/>\n",
       "<polygon fill=\"black\" stroke=\"black\" points=\"183.743,-63.3086 180.455,-53.2367 176.744,-63.1604 183.743,-63.3086\"/>\n",
       "</g>\n",
       "<!-- 5 -->\n",
       "<g id=\"node6\" class=\"node\"><title>5</title>\n",
       "<polygon fill=\"none\" stroke=\"black\" points=\"372.5,-53 259.5,-53 259.5,-0 372.5,-0 372.5,-53\"/>\n",
       "<text text-anchor=\"middle\" x=\"316\" y=\"-37.8\" font-family=\"Times,serif\" font-size=\"14.00\">gini = 0.0</text>\n",
       "<text text-anchor=\"middle\" x=\"316\" y=\"-22.8\" font-family=\"Times,serif\" font-size=\"14.00\">samples = 23</text>\n",
       "<text text-anchor=\"middle\" x=\"316\" y=\"-7.8\" font-family=\"Times,serif\" font-size=\"14.00\">value = [0, 0, 23]</text>\n",
       "</g>\n",
       "<!-- 4&#45;&gt;5 -->\n",
       "<g id=\"edge5\" class=\"edge\"><title>4&#45;&gt;5</title>\n",
       "<path fill=\"none\" stroke=\"black\" d=\"M317.3,-88.9485C317.126,-80.7153 316.939,-71.848 316.762,-63.4814\"/>\n",
       "<polygon fill=\"black\" stroke=\"black\" points=\"320.256,-63.1604 316.545,-53.2367 313.257,-63.3086 320.256,-63.1604\"/>\n",
       "</g>\n",
       "<!-- 6 -->\n",
       "<g id=\"node7\" class=\"node\"><title>6</title>\n",
       "<polygon fill=\"none\" stroke=\"black\" points=\"503.5,-53 390.5,-53 390.5,-0 503.5,-0 503.5,-53\"/>\n",
       "<text text-anchor=\"middle\" x=\"447\" y=\"-37.8\" font-family=\"Times,serif\" font-size=\"14.00\">gini = 0.169</text>\n",
       "<text text-anchor=\"middle\" x=\"447\" y=\"-22.8\" font-family=\"Times,serif\" font-size=\"14.00\">samples = 43</text>\n",
       "<text text-anchor=\"middle\" x=\"447\" y=\"-7.8\" font-family=\"Times,serif\" font-size=\"14.00\">value = [39, 4, 0]</text>\n",
       "</g>\n",
       "<!-- 4&#45;&gt;6 -->\n",
       "<g id=\"edge6\" class=\"edge\"><title>4&#45;&gt;6</title>\n",
       "<path fill=\"none\" stroke=\"black\" d=\"M363.118,-88.9485C376.23,-79.3431 390.52,-68.8747 403.529,-59.345\"/>\n",
       "<polygon fill=\"black\" stroke=\"black\" points=\"405.869,-61.9698 411.867,-53.2367 401.732,-56.3228 405.869,-61.9698\"/>\n",
       "</g>\n",
       "</g>\n",
       "</svg>\n"
      ],
      "text/plain": [
       "<graphviz.files.Source at 0x7f01a1c86be0>"
      ]
     },
     "metadata": {},
     "output_type": "display_data"
    },
    {
     "name": "stdout",
     "output_type": "stream",
     "text": [
      "[[20  0  0]\n",
      " [ 3 18  9]\n",
      " [ 0  0 22]]\n"
     ]
    }
   ],
   "source": [
    "parte_teste = 0.4\n",
    "x_treino, x_teste, y_treino, y_teste = train_test_split(w_x, w_y, test_size=parte_teste)\n",
    "\n",
    "def arvore(altura_maxima=4):\n",
    "    clf = DecisionTreeClassifier(max_depth=altura_maxima)\n",
    "    clf.fit(x_treino, y_treino)\n",
    "    \n",
    "    source = graphviz.Source(export_graphviz(clf,\n",
    "                                             out_file=None,\n",
    "                                             feature_names=wine.feature_names))\n",
    "    \n",
    "    display(source)\n",
    "    \n",
    "    print(confusion_matrix(y_pred=clf.predict(x_teste), y_true=y_teste))\n",
    "    \n",
    "arvore(altura_maxima=2)"
   ]
  },
  {
   "cell_type": "code",
   "execution_count": 9,
   "metadata": {},
   "outputs": [
    {
     "data": {
      "application/vnd.jupyter.widget-view+json": {
       "model_id": "7bf8f70ca42b44ffa04b0858364079e3",
       "version_major": 2,
       "version_minor": 0
      },
      "text/plain": [
       "interactive(children=(Dropdown(description='altura_maxima', index=2, options=(2, 3, 4, 5, 6, 7, 8, 9), value=4…"
      ]
     },
     "metadata": {},
     "output_type": "display_data"
    }
   ],
   "source": [
    "inter = interactive(arvore,\n",
    "                    altura_maxima=np.arange(8) + 2)\n",
    "display(inter)"
   ]
  },
  {
   "cell_type": "code",
   "execution_count": null,
   "metadata": {},
   "outputs": [],
   "source": []
  }
 ],
 "metadata": {
  "kernelspec": {
   "display_name": "Python 3",
   "language": "python",
   "name": "python3"
  },
  "language_info": {
   "codemirror_mode": {
    "name": "ipython",
    "version": 3
   },
   "file_extension": ".py",
   "mimetype": "text/x-python",
   "name": "python",
   "nbconvert_exporter": "python",
   "pygments_lexer": "ipython3",
   "version": "3.6.6"
  }
 },
 "nbformat": 4,
 "nbformat_minor": 2
}
