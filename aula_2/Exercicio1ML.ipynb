{
 "cells": [
  {
   "cell_type": "code",
   "execution_count": 1,
   "metadata": {},
   "outputs": [
    {
     "name": "stderr",
     "output_type": "stream",
     "text": [
      "/home/chinen/.pyenv/versions/3.6.6/lib/python3.6/importlib/_bootstrap.py:219: RuntimeWarning: numpy.dtype size changed, may indicate binary incompatibility. Expected 96, got 88\n",
      "  return f(*args, **kwds)\n"
     ]
    },
    {
     "ename": "ModuleNotFoundError",
     "evalue": "No module named 'matplotlib'",
     "output_type": "error",
     "traceback": [
      "\u001b[0;31m---------------------------------------------------------------------------\u001b[0m",
      "\u001b[0;31mModuleNotFoundError\u001b[0m                       Traceback (most recent call last)",
      "\u001b[0;32m<ipython-input-1-b4a7f07122a3>\u001b[0m in \u001b[0;36m<module>\u001b[0;34m()\u001b[0m\n\u001b[1;32m      1\u001b[0m \u001b[0;32mimport\u001b[0m \u001b[0mnumpy\u001b[0m \u001b[0;32mas\u001b[0m \u001b[0mnp\u001b[0m\u001b[0;34m\u001b[0m\u001b[0m\n\u001b[1;32m      2\u001b[0m \u001b[0;32mimport\u001b[0m \u001b[0mpandas\u001b[0m \u001b[0;32mas\u001b[0m \u001b[0mpd\u001b[0m\u001b[0;34m\u001b[0m\u001b[0m\n\u001b[0;32m----> 3\u001b[0;31m \u001b[0;32mimport\u001b[0m \u001b[0mmatplotlib\u001b[0m\u001b[0;34m.\u001b[0m\u001b[0mpyplot\u001b[0m \u001b[0;32mas\u001b[0m \u001b[0mplt\u001b[0m\u001b[0;34m\u001b[0m\u001b[0m\n\u001b[0m\u001b[1;32m      4\u001b[0m \u001b[0;34m\u001b[0m\u001b[0m\n\u001b[1;32m      5\u001b[0m \u001b[0;32mfrom\u001b[0m \u001b[0mscipy\u001b[0m\u001b[0;34m.\u001b[0m\u001b[0mstats\u001b[0m \u001b[0;32mimport\u001b[0m \u001b[0mpearsonr\u001b[0m\u001b[0;34m\u001b[0m\u001b[0m\n",
      "\u001b[0;31mModuleNotFoundError\u001b[0m: No module named 'matplotlib'"
     ]
    }
   ],
   "source": [
    "import numpy as np\n",
    "import pandas as pd\n",
    "import matplotlib.pyplot as plt\n",
    "\n",
    "from scipy.stats import pearsonr\n",
    "from sklearn.datasets import load_wine\n",
    "from sklearn.linear_model import LinearRegression, Lasso\n",
    "from sklearn.metrics import r2_score, mean_absolute_error, mean_squared_error\n",
    "%matplotlib inline\n",
    "\n",
    "x = np.array([-2.5,  -2, -1.76,  -1, -0.2, 0.5, 0.8, 1.0, 1.1]).reshape(-1,1)\n",
    "y = np.array([4.21, 2.5,  1.4, 1.37, 2.29, 2.4, 3.98, 1.2, 0.99]).reshape(-1,1)\n",
    "#Aproximação atraveś de uma linha usando regressão linear\n",
    "regressorlinear = LinearRegression()\n",
    "regressorlinear.fit(x, y)\n",
    "y0 = regressorlinear.intercept_\n",
    "m = regressorlinear.coef_[0]\n",
    "\n",
    "plt.scatter(x, y)\n",
    "\n",
    "linha = np.linspace(-3,1,2).reshape(-1,1)\n",
    "plt.title(\"Reta : Regressão linear\")\n",
    "plt.plot(linha, regressorlinear.predict(linha), c='r')\n",
    "\n",
    "predito = regressor.predict(x)\n",
    "print(\"R^2: \"+str(r2_score(y, predito)))\n",
    "\n",
    "print(\"Pearson ao quadrado:\",str(pearsonr(x, y)[0] ** 2))\n",
    "\n",
    "print(\"Média do erro absoluto:\",str(mean_absolute_error(y, predito)))\n",
    "\n",
    "print(\"Erro quadrático médio:\",str(mean_squared_error(y,predito)))\n"
   ]
  },
  {
   "cell_type": "code",
   "execution_count": 82,
   "metadata": {},
   "outputs": [
    {
     "name": "stdout",
     "output_type": "stream",
     "text": [
      "[1.85394674] [0.         0.20897546]\n",
      "R^2: 0.16996686199875122\n",
      "Média do erro absoluto: 0.8808376004520734\n",
      "Média quadrática do erro: 1.024371563378608\n"
     ]
    },
    {
     "data": {
      "text/plain": [
       "[<matplotlib.lines.Line2D at 0x7f2f69da8dd8>]"
      ]
     },
     "execution_count": 82,
     "metadata": {},
     "output_type": "execute_result"
    },
    {
     "data": {
      "image/png": "[encoded data removed]",
      "text/plain": [
       "<Figure size 432x288 with 1 Axes>"
      ]
     },
     "metadata": {},
     "output_type": "display_data"
    }
   ],
   "source": [
    "#LASSO\n",
    "\n",
    "x1 = np.array([-2.5,  -2, -1.76,  -1, -0.2, 0.5, 0.8, 1.0, 1.1]).reshape(-1,1)\n",
    "x2 = x1**2\n",
    "x = np.hstack([x1, x2])\n",
    "y = np.array([4.21, 2.5,  1.4, 1.37, 2.29, 2.4, 3.98, 1.2, 0.99]).reshape(-1,1)\n",
    "\n",
    "regressorlasso = Lasso(alpha = 0.1).fit(x, y)\n",
    "y0 = regressorlasso.intercept_\n",
    "m = regressorlasso.coef_\n",
    "print(y0, m)\n",
    "\n",
    "curva = regressorlasso.predict(x)\n",
    "\n",
    "print(\"R^2:\", str(r2_score(y, curva)))\n",
    "print(\"Média do erro absoluto:\", str(mean_absolute_error(y, curva)))\n",
    "print(\"Média quadrática do erro:\", str(mean_squared_error(y, curva)))\n",
    "\n",
    "plt.scatter(x1, y)\n",
    "plt.title(\"Lasso com um polinomio de grau 2\")\n",
    "plt.plot(x1, curva, c='red')"
   ]
  },
  {
   "cell_type": "code",
   "execution_count": null,
   "metadata": {},
   "outputs": [],
   "source": []
  }
 ],
 "metadata": {
  "kernelspec": {
   "display_name": "Python 3",
   "language": "python",
   "name": "python3"
  },
  "language_info": {
   "codemirror_mode": {
    "name": "ipython",
    "version": 3
   },
   "file_extension": ".py",
   "mimetype": "text/x-python",
   "name": "python",
   "nbconvert_exporter": "python",
   "pygments_lexer": "ipython3",
   "version": "3.6.6"
  }
 },
 "nbformat": 4,
 "nbformat_minor": 2
}
