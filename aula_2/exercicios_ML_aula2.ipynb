{
 "cells": [
  {
   "cell_type": "code",
   "execution_count": 1,
   "metadata": {},
   "outputs": [
    {
     "name": "stderr",
     "output_type": "stream",
     "text": [
      "/home/chinen/.pyenv/versions/3.6.6/lib/python3.6/importlib/_bootstrap.py:219: RuntimeWarning: numpy.dtype size changed, may indicate binary incompatibility. Expected 96, got 88\n",
      "  return f(*args, **kwds)\n",
      "/home/chinen/.pyenv/versions/3.6.6/lib/python3.6/importlib/_bootstrap.py:219: RuntimeWarning: numpy.dtype size changed, may indicate binary incompatibility. Expected 96, got 88\n",
      "  return f(*args, **kwds)\n"
     ]
    }
   ],
   "source": [
    "import numpy as np\n",
    "import pandas as pd\n",
    "from sklearn.datasets import load_wine"
   ]
  },
  {
   "cell_type": "code",
   "execution_count": 34,
   "metadata": {},
   "outputs": [],
   "source": [
    "x = np.array([-2.5,  -2, -1.76,  -1, -0.2, 0.5, 0.8, 1.0, 1.1])\n",
    "y = np.array([4.21, 2.5,  1.4, 1.37, 2.29, 2.4, 3.98, 1.2, 0.99])"
   ]
  },
  {
   "cell_type": "markdown",
   "metadata": {},
   "source": [
    "**Exercício 1:** Faça regressões lineares sobre esses dados, utilizando as seguintes configurações:\n",
    "\n",
    "- Uma reta\n",
    "- Um polinômio de grau 2 com penalidade Lasso\n",
    "- A regressão que achar mais adequada.\n",
    "\n",
    "Visualize as três regressões.\n",
    "\n",
    "Existem pontos nesse conjunto que você consideraria um _outlier_?"
   ]
  },
  {
   "cell_type": "markdown",
   "metadata": {},
   "source": [
    "Considere a base de dados Wine, contém a classificação de vinhos de acordo com algumas propriedades numéricas, presente no pacote `sklearn.datasets`.\n",
    "\n",
    "**Exercício 2:**\n",
    "\n",
    "1. Separe os dados da base Wine entre treino e teste, com 60% dos dados para treino e 40% para teste\n",
    "2. Crie uma árvore de classificação utilizando os dados de treino, com altura máxima 4\n",
    "3. Visualize as regras da árvore treinada\n",
    "4. Calcule a matriz de confusão do modelo\n"
   ]
  },
  {
   "cell_type": "code",
   "execution_count": 5,
   "metadata": {},
   "outputs": [],
   "source": [
    "df = pd.DataFrame(load_wine().data, columns=load_wine().feature_names)\n",
    "df['target'] = load_wine().target"
   ]
  },
  {
   "cell_type": "code",
   "execution_count": 16,
   "metadata": {},
   "outputs": [
    {
     "name": "stdout",
     "output_type": "stream",
     "text": [
      "R^2: 0.09056137577324885\n",
      "Pearson ao quadrado: [0.09056138]\n",
      "Média do erro absoluto: 0.8761146343725219\n",
      "Erro quadrático médio: 1.1223685207790413\n"
     ]
    },
    {
     "data": {
      "image/png": "[encoded data removed]",
      "text/plain": [
       "<Figure size 432x288 with 1 Axes>"
      ]
     },
     "metadata": {},
     "output_type": "display_data"
    }
   ],
   "source": [
    "#Exercicio 1\n",
    "import matplotlib.pyplot as plt\n",
    "from scipy.stats import pearsonr\n",
    "from sklearn.metrics import r2_score, mean_absolute_error, mean_squared_error\n",
    "\n",
    "x = x.reshape(-1,1)\n",
    "y = y.reshape(-1,1)\n",
    "\n",
    "regressorlinear = LinearRegression().fit(x, y)\n",
    "\n",
    "y0 = regressorlinear.intercept_\n",
    "m = regressorlinear.coef_[0]\n",
    "\n",
    "plt.scatter(x, y)\n",
    "\n",
    "linha = np.linspace(-3,1,2).reshape(-1,1)\n",
    "plt.title(\"Reta : Regressão linear\")\n",
    "plt.plot(linha, regressorlinear.predict(linha), c='r')\n",
    "\n",
    "predito = regressorlinear.predict(x)\n",
    "print(\"R^2: \"+str(r2_score(y, predito)))\n",
    "\n",
    "print(\"Pearson ao quadrado:\",str(pearsonr(x, y)[0] ** 2))\n",
    "\n",
    "print(\"Média do erro absoluto:\",str(mean_absolute_error(y, predito)))\n",
    "\n",
    "print(\"Erro quadrático médio:\",str(mean_squared_error(y,predito)))"
   ]
  },
  {
   "cell_type": "code",
   "execution_count": 20,
   "metadata": {},
   "outputs": [
    {
     "name": "stdout",
     "output_type": "stream",
     "text": [
      "[1.85394674] [0.         0.20897546]\n",
      "R^2: 0.16996686199875122\n",
      "Média do erro absoluto: 0.8808376004520734\n",
      "Média quadrática do erro: 1.024371563378608\n"
     ]
    },
    {
     "data": {
      "text/plain": [
       "[<matplotlib.lines.Line2D at 0x7f07e83e4358>]"
      ]
     },
     "execution_count": 20,
     "metadata": {},
     "output_type": "execute_result"
    },
    {
     "data": {
      "image/png": "[encoded data removed]",
      "text/plain": [
       "<Figure size 432x288 with 1 Axes>"
      ]
     },
     "metadata": {},
     "output_type": "display_data"
    }
   ],
   "source": [
    "from sklearn.linear_model import LinearRegression, Lasso\n",
    "#LASSO\n",
    "\n",
    "x1 = np.array([-2.5,  -2, -1.76,  -1, -0.2, 0.5, 0.8, 1.0, 1.1]).reshape(-1,1)\n",
    "x2 = x1**2\n",
    "x = np.hstack([x1, x2])\n",
    "y = np.array([4.21, 2.5,  1.4, 1.37, 2.29, 2.4, 3.98, 1.2, 0.99]).reshape(-1,1)\n",
    "\n",
    "regressorlasso = Lasso(alpha = 0.1).fit(x, y)\n",
    "y0 = regressorlasso.intercept_\n",
    "m = regressorlasso.coef_\n",
    "print(y0, m)\n",
    "\n",
    "curva = regressorlasso.predict(x)\n",
    "\n",
    "print(\"R^2:\", str(r2_score(y, curva)))\n",
    "print(\"Média do erro absoluto:\", str(mean_absolute_error(y, curva)))\n",
    "print(\"Média quadrática do erro:\", str(mean_squared_error(y, curva)))\n",
    "\n",
    "plt.scatter(x1, y)\n",
    "plt.title(\"Lasso com um polinomio de grau 2\")\n",
    "plt.plot(x1, curva, c='red')"
   ]
  },
  {
   "cell_type": "code",
   "execution_count": 32,
   "metadata": {},
   "outputs": [
    {
     "name": "stdout",
     "output_type": "stream",
     "text": [
      "R^2: 0.0902349405969034\n",
      "Pearson ao quadrado: [0.09056138]\n",
      "Média do erro absoluto: 0.8747468882472965\n",
      "Erro quadrático médio: 1.1227713853113417\n"
     ]
    },
    {
     "data": {
      "image/png": "[encoded data removed]",
      "text/plain": [
       "<Figure size 432x288 with 1 Axes>"
      ]
     },
     "metadata": {},
     "output_type": "display_data"
    }
   ],
   "source": [
    "#Regressao de Ridge\n",
    "\n",
    "from sklearn.linear_model import Ridge\n",
    "\n",
    "x = np.array([-2.5,  -2, -1.76,  -1, -0.2, 0.5, 0.8, 1.0, 1.1]).reshape(-1,1)\n",
    "y = np.array([4.21, 2.5,  1.4, 1.37, 2.29, 2.4, 3.98, 1.2, 0.99]).reshape(-1,1)\n",
    "\n",
    "regressao = Ridge(alpha = 1.0)\n",
    "regressao.fit(x, y)\n",
    "y0 = regressao.intercept_\n",
    "m = regressao.coef_[0]\n",
    "\n",
    "plt.scatter(x1, y)\n",
    "\n",
    "linha = np.linspace(-3,1,2).reshape(-1,1)\n",
    "plt.title(\"Reta : Regressão linear Ridge\")\n",
    "plt.plot(linha, regressao.predict(linha), c='r')\n",
    "\n",
    "predito = regressao.predict(x)\n",
    "print(\"R^2: \"+str(r2_score(y, predito)))\n",
    "\n",
    "print(\"Pearson ao quadrado:\",str(pearsonr(x, y)[0] ** 2))\n",
    "\n",
    "print(\"Média do erro absoluto:\",str(mean_absolute_error(y, predito)))\n",
    "\n",
    "print(\"Erro quadrático médio:\",str(mean_squared_error(y,predito)))"
   ]
  },
  {
   "cell_type": "code",
   "execution_count": 9,
   "metadata": {},
   "outputs": [
    {
     "data": {
      "image/svg+xml": [
       "<?xml version=\"1.0\" encoding=\"UTF-8\" standalone=\"no\"?>\n",
       "<!DOCTYPE svg PUBLIC \"-//W3C//DTD SVG 1.1//EN\"\n",
       " \"http://www.w3.org/Graphics/SVG/1.1/DTD/svg11.dtd\">\n",
       "<!-- Generated by graphviz version 2.38.0 (20140413.2041)\n",
       " -->\n",
       "<!-- Title: Tree Pages: 1 -->\n",
       "<svg width=\"651pt\" height=\"441pt\"\n",
       " viewBox=\"0.00 0.00 651.00 440.50\" xmlns=\"http://www.w3.org/2000/svg\" xmlns:xlink=\"http://www.w3.org/1999/xlink\">\n",
       "<g id=\"graph0\" class=\"graph\" transform=\"scale(1 1) rotate(0) translate(4 436.5)\">\n",
       "<title>Tree</title>\n",
       "<polygon fill=\"white\" stroke=\"none\" points=\"-4,4 -4,-436.5 647,-436.5 647,4 -4,4\"/>\n",
       "<!-- 0 -->\n",
       "<g id=\"node1\" class=\"node\"><title>0</title>\n",
       "<polygon fill=\"none\" stroke=\"black\" points=\"324.5,-432.5 172.5,-432.5 172.5,-349.5 324.5,-349.5 324.5,-432.5\"/>\n",
       "<text text-anchor=\"middle\" x=\"248.5\" y=\"-417.3\" font-family=\"Times,serif\" font-size=\"14.00\">color_intensity &lt;= 3.825</text>\n",
       "<text text-anchor=\"middle\" x=\"248.5\" y=\"-402.3\" font-family=\"Times,serif\" font-size=\"14.00\">gini = 0.659</text>\n",
       "<text text-anchor=\"middle\" x=\"248.5\" y=\"-387.3\" font-family=\"Times,serif\" font-size=\"14.00\">samples = 106</text>\n",
       "<text text-anchor=\"middle\" x=\"248.5\" y=\"-372.3\" font-family=\"Times,serif\" font-size=\"14.00\">value = [35, 42, 29]</text>\n",
       "<text text-anchor=\"middle\" x=\"248.5\" y=\"-357.3\" font-family=\"Times,serif\" font-size=\"14.00\">class = class_1</text>\n",
       "</g>\n",
       "<!-- 1 -->\n",
       "<g id=\"node2\" class=\"node\"><title>1</title>\n",
       "<polygon fill=\"none\" stroke=\"black\" points=\"270,-313.5 27,-313.5 27,-230.5 270,-230.5 270,-313.5\"/>\n",
       "<text text-anchor=\"middle\" x=\"148.5\" y=\"-298.3\" font-family=\"Times,serif\" font-size=\"14.00\">od280/od315_of_diluted_wines &lt;= 3.695</text>\n",
       "<text text-anchor=\"middle\" x=\"148.5\" y=\"-283.3\" font-family=\"Times,serif\" font-size=\"14.00\">gini = 0.1</text>\n",
       "<text text-anchor=\"middle\" x=\"148.5\" y=\"-268.3\" font-family=\"Times,serif\" font-size=\"14.00\">samples = 38</text>\n",
       "<text text-anchor=\"middle\" x=\"148.5\" y=\"-253.3\" font-family=\"Times,serif\" font-size=\"14.00\">value = [2, 36, 0]</text>\n",
       "<text text-anchor=\"middle\" x=\"148.5\" y=\"-238.3\" font-family=\"Times,serif\" font-size=\"14.00\">class = class_1</text>\n",
       "</g>\n",
       "<!-- 0&#45;&gt;1 -->\n",
       "<g id=\"edge1\" class=\"edge\"><title>0&#45;&gt;1</title>\n",
       "<path fill=\"none\" stroke=\"black\" d=\"M213.805,-349.407C206.049,-340.332 197.749,-330.621 189.756,-321.269\"/>\n",
       "<polygon fill=\"black\" stroke=\"black\" points=\"192.291,-318.849 183.133,-313.521 186.97,-323.397 192.291,-318.849\"/>\n",
       "<text text-anchor=\"middle\" x=\"181.181\" y=\"-334.744\" font-family=\"Times,serif\" font-size=\"14.00\">True</text>\n",
       "</g>\n",
       "<!-- 4 -->\n",
       "<g id=\"node5\" class=\"node\"><title>4</title>\n",
       "<polygon fill=\"none\" stroke=\"black\" points=\"409,-313.5 288,-313.5 288,-230.5 409,-230.5 409,-313.5\"/>\n",
       "<text text-anchor=\"middle\" x=\"348.5\" y=\"-298.3\" font-family=\"Times,serif\" font-size=\"14.00\">flavanoids &lt;= 1.58</text>\n",
       "<text text-anchor=\"middle\" x=\"348.5\" y=\"-283.3\" font-family=\"Times,serif\" font-size=\"14.00\">gini = 0.575</text>\n",
       "<text text-anchor=\"middle\" x=\"348.5\" y=\"-268.3\" font-family=\"Times,serif\" font-size=\"14.00\">samples = 68</text>\n",
       "<text text-anchor=\"middle\" x=\"348.5\" y=\"-253.3\" font-family=\"Times,serif\" font-size=\"14.00\">value = [33, 6, 29]</text>\n",
       "<text text-anchor=\"middle\" x=\"348.5\" y=\"-238.3\" font-family=\"Times,serif\" font-size=\"14.00\">class = class_0</text>\n",
       "</g>\n",
       "<!-- 0&#45;&gt;4 -->\n",
       "<g id=\"edge4\" class=\"edge\"><title>0&#45;&gt;4</title>\n",
       "<path fill=\"none\" stroke=\"black\" d=\"M283.195,-349.407C290.951,-340.332 299.251,-330.621 307.244,-321.269\"/>\n",
       "<polygon fill=\"black\" stroke=\"black\" points=\"310.03,-323.397 313.867,-313.521 304.709,-318.849 310.03,-323.397\"/>\n",
       "<text text-anchor=\"middle\" x=\"315.819\" y=\"-334.744\" font-family=\"Times,serif\" font-size=\"14.00\">False</text>\n",
       "</g>\n",
       "<!-- 2 -->\n",
       "<g id=\"node3\" class=\"node\"><title>2</title>\n",
       "<polygon fill=\"none\" stroke=\"black\" points=\"113,-68 0,-68 0,-0 113,-0 113,-68\"/>\n",
       "<text text-anchor=\"middle\" x=\"56.5\" y=\"-52.8\" font-family=\"Times,serif\" font-size=\"14.00\">gini = 0.0</text>\n",
       "<text text-anchor=\"middle\" x=\"56.5\" y=\"-37.8\" font-family=\"Times,serif\" font-size=\"14.00\">samples = 36</text>\n",
       "<text text-anchor=\"middle\" x=\"56.5\" y=\"-22.8\" font-family=\"Times,serif\" font-size=\"14.00\">value = [0, 36, 0]</text>\n",
       "<text text-anchor=\"middle\" x=\"56.5\" y=\"-7.8\" font-family=\"Times,serif\" font-size=\"14.00\">class = class_1</text>\n",
       "</g>\n",
       "<!-- 1&#45;&gt;2 -->\n",
       "<g id=\"edge2\" class=\"edge\"><title>1&#45;&gt;2</title>\n",
       "<path fill=\"none\" stroke=\"black\" d=\"M132.685,-230.43C116.063,-187.792 90.0277,-121.006 73.1125,-77.6147\"/>\n",
       "<polygon fill=\"black\" stroke=\"black\" points=\"76.3323,-76.2375 69.4391,-68.1917 69.8103,-78.78 76.3323,-76.2375\"/>\n",
       "</g>\n",
       "<!-- 3 -->\n",
       "<g id=\"node4\" class=\"node\"><title>3</title>\n",
       "<polygon fill=\"none\" stroke=\"black\" points=\"237.5,-68 131.5,-68 131.5,-0 237.5,-0 237.5,-68\"/>\n",
       "<text text-anchor=\"middle\" x=\"184.5\" y=\"-52.8\" font-family=\"Times,serif\" font-size=\"14.00\">gini = 0.0</text>\n",
       "<text text-anchor=\"middle\" x=\"184.5\" y=\"-37.8\" font-family=\"Times,serif\" font-size=\"14.00\">samples = 2</text>\n",
       "<text text-anchor=\"middle\" x=\"184.5\" y=\"-22.8\" font-family=\"Times,serif\" font-size=\"14.00\">value = [2, 0, 0]</text>\n",
       "<text text-anchor=\"middle\" x=\"184.5\" y=\"-7.8\" font-family=\"Times,serif\" font-size=\"14.00\">class = class_0</text>\n",
       "</g>\n",
       "<!-- 1&#45;&gt;3 -->\n",
       "<g id=\"edge3\" class=\"edge\"><title>1&#45;&gt;3</title>\n",
       "<path fill=\"none\" stroke=\"black\" d=\"M154.689,-230.43C161.165,-187.971 171.295,-121.567 177.916,-78.1629\"/>\n",
       "<polygon fill=\"black\" stroke=\"black\" points=\"181.389,-78.6052 179.437,-68.1917 174.469,-77.5495 181.389,-78.6052\"/>\n",
       "</g>\n",
       "<!-- 5 -->\n",
       "<g id=\"node6\" class=\"node\"><title>5</title>\n",
       "<polygon fill=\"none\" stroke=\"black\" points=\"387,-68 274,-68 274,-0 387,-0 387,-68\"/>\n",
       "<text text-anchor=\"middle\" x=\"330.5\" y=\"-52.8\" font-family=\"Times,serif\" font-size=\"14.00\">gini = 0.0</text>\n",
       "<text text-anchor=\"middle\" x=\"330.5\" y=\"-37.8\" font-family=\"Times,serif\" font-size=\"14.00\">samples = 29</text>\n",
       "<text text-anchor=\"middle\" x=\"330.5\" y=\"-22.8\" font-family=\"Times,serif\" font-size=\"14.00\">value = [0, 0, 29]</text>\n",
       "<text text-anchor=\"middle\" x=\"330.5\" y=\"-7.8\" font-family=\"Times,serif\" font-size=\"14.00\">class = class_2</text>\n",
       "</g>\n",
       "<!-- 4&#45;&gt;5 -->\n",
       "<g id=\"edge5\" class=\"edge\"><title>4&#45;&gt;5</title>\n",
       "<path fill=\"none\" stroke=\"black\" d=\"M345.406,-230.43C342.167,-187.971 337.103,-121.567 333.792,-78.1629\"/>\n",
       "<polygon fill=\"black\" stroke=\"black\" points=\"337.282,-77.8965 333.032,-68.1917 330.302,-78.4289 337.282,-77.8965\"/>\n",
       "</g>\n",
       "<!-- 6 -->\n",
       "<g id=\"node7\" class=\"node\"><title>6</title>\n",
       "<polygon fill=\"none\" stroke=\"black\" points=\"522.5,-194.5 394.5,-194.5 394.5,-111.5 522.5,-111.5 522.5,-194.5\"/>\n",
       "<text text-anchor=\"middle\" x=\"458.5\" y=\"-179.3\" font-family=\"Times,serif\" font-size=\"14.00\">magnesium &lt;= 88.5</text>\n",
       "<text text-anchor=\"middle\" x=\"458.5\" y=\"-164.3\" font-family=\"Times,serif\" font-size=\"14.00\">gini = 0.26</text>\n",
       "<text text-anchor=\"middle\" x=\"458.5\" y=\"-149.3\" font-family=\"Times,serif\" font-size=\"14.00\">samples = 39</text>\n",
       "<text text-anchor=\"middle\" x=\"458.5\" y=\"-134.3\" font-family=\"Times,serif\" font-size=\"14.00\">value = [33, 6, 0]</text>\n",
       "<text text-anchor=\"middle\" x=\"458.5\" y=\"-119.3\" font-family=\"Times,serif\" font-size=\"14.00\">class = class_0</text>\n",
       "</g>\n",
       "<!-- 4&#45;&gt;6 -->\n",
       "<g id=\"edge6\" class=\"edge\"><title>4&#45;&gt;6</title>\n",
       "<path fill=\"none\" stroke=\"black\" d=\"M386.664,-230.407C395.281,-221.242 404.509,-211.427 413.382,-201.989\"/>\n",
       "<polygon fill=\"black\" stroke=\"black\" points=\"416.104,-204.204 420.404,-194.521 411.004,-199.409 416.104,-204.204\"/>\n",
       "</g>\n",
       "<!-- 7 -->\n",
       "<g id=\"node8\" class=\"node\"><title>7</title>\n",
       "<polygon fill=\"none\" stroke=\"black\" points=\"511.5,-68 405.5,-68 405.5,-0 511.5,-0 511.5,-68\"/>\n",
       "<text text-anchor=\"middle\" x=\"458.5\" y=\"-52.8\" font-family=\"Times,serif\" font-size=\"14.00\">gini = 0.0</text>\n",
       "<text text-anchor=\"middle\" x=\"458.5\" y=\"-37.8\" font-family=\"Times,serif\" font-size=\"14.00\">samples = 6</text>\n",
       "<text text-anchor=\"middle\" x=\"458.5\" y=\"-22.8\" font-family=\"Times,serif\" font-size=\"14.00\">value = [0, 6, 0]</text>\n",
       "<text text-anchor=\"middle\" x=\"458.5\" y=\"-7.8\" font-family=\"Times,serif\" font-size=\"14.00\">class = class_1</text>\n",
       "</g>\n",
       "<!-- 6&#45;&gt;7 -->\n",
       "<g id=\"edge7\" class=\"edge\"><title>6&#45;&gt;7</title>\n",
       "<path fill=\"none\" stroke=\"black\" d=\"M458.5,-111.407C458.5,-100.704 458.5,-89.1154 458.5,-78.2762\"/>\n",
       "<polygon fill=\"black\" stroke=\"black\" points=\"462,-78.1669 458.5,-68.1669 455,-78.167 462,-78.1669\"/>\n",
       "</g>\n",
       "<!-- 8 -->\n",
       "<g id=\"node9\" class=\"node\"><title>8</title>\n",
       "<polygon fill=\"none\" stroke=\"black\" points=\"643,-68 530,-68 530,-0 643,-0 643,-68\"/>\n",
       "<text text-anchor=\"middle\" x=\"586.5\" y=\"-52.8\" font-family=\"Times,serif\" font-size=\"14.00\">gini = 0.0</text>\n",
       "<text text-anchor=\"middle\" x=\"586.5\" y=\"-37.8\" font-family=\"Times,serif\" font-size=\"14.00\">samples = 33</text>\n",
       "<text text-anchor=\"middle\" x=\"586.5\" y=\"-22.8\" font-family=\"Times,serif\" font-size=\"14.00\">value = [33, 0, 0]</text>\n",
       "<text text-anchor=\"middle\" x=\"586.5\" y=\"-7.8\" font-family=\"Times,serif\" font-size=\"14.00\">class = class_0</text>\n",
       "</g>\n",
       "<!-- 6&#45;&gt;8 -->\n",
       "<g id=\"edge8\" class=\"edge\"><title>6&#45;&gt;8</title>\n",
       "<path fill=\"none\" stroke=\"black\" d=\"M502.909,-111.407C515.826,-99.6005 529.921,-86.7166 542.795,-74.9495\"/>\n",
       "<polygon fill=\"black\" stroke=\"black\" points=\"545.195,-77.4972 550.215,-68.1669 540.472,-72.3304 545.195,-77.4972\"/>\n",
       "</g>\n",
       "</g>\n",
       "</svg>\n"
      ],
      "text/plain": [
       "<graphviz.files.Source at 0x7fae47ae2ef0>"
      ]
     },
     "execution_count": 9,
     "metadata": {},
     "output_type": "execute_result"
    }
   ],
   "source": [
    "#Exercicio 2\n",
    "from sklearn.model_selection import train_test_split\n",
    "from sklearn import tree\n",
    "import graphviz\n",
    "\n",
    "df['target'] = pd.Categorical(df['target'])\n",
    "#Dividindo as amostras em 60% treinamento e 40% teste\n",
    "train, test = train_test_split(df, stratify = df['target'], train_size=0.6, test_size=0.4)\n",
    "#Criando a árvore com profundidade máxima = 4\n",
    "clf = tree.DecisionTreeClassifier(max_depth=4)\n",
    "#\n",
    "train_data = train.drop(columns=['target'])\n",
    "\n",
    "clf = clf.fit(train_data, train['target'])\n",
    "\n",
    "dot_data = tree.export_graphviz(clf, out_file=None,\n",
    "                                class_names=list(load_wine().target_names),\n",
    "                                feature_names=list(load_wine().feature_names),\n",
    "                                leaves_parallel=True)\n",
    "graphviz.Source(dot_data)"
   ]
  },
  {
   "cell_type": "code",
   "execution_count": null,
   "metadata": {},
   "outputs": [],
   "source": []
  },
  {
   "cell_type": "code",
   "execution_count": null,
   "metadata": {},
   "outputs": [],
   "source": []
  }
 ],
 "metadata": {
  "kernelspec": {
   "display_name": "Python 3",
   "language": "python",
   "name": "python3"
  },
  "language_info": {
   "codemirror_mode": {
    "name": "ipython",
    "version": 3
   },
   "file_extension": ".py",
   "mimetype": "text/x-python",
   "name": "python",
   "nbconvert_exporter": "python",
   "pygments_lexer": "ipython3",
   "version": "3.6.6"
  }
 },
 "nbformat": 4,
 "nbformat_minor": 2
}
