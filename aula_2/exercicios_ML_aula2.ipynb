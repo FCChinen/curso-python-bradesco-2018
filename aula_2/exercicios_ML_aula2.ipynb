{
 "cells": [
  {
   "cell_type": "code",
   "execution_count": 4,
   "metadata": {},
   "outputs": [
    {
     "name": "stderr",
     "output_type": "stream",
     "text": [
      "/home/chinen/.pyenv/versions/3.6.6/lib/python3.6/importlib/_bootstrap.py:219: RuntimeWarning: numpy.dtype size changed, may indicate binary incompatibility. Expected 96, got 88\n",
      "  return f(*args, **kwds)\n"
     ]
    }
   ],
   "source": [
    "import numpy as np\n",
    "import pandas as pd\n",
    "from sklearn.datasets import load_wine"
   ]
  },
  {
   "cell_type": "code",
   "execution_count": 5,
   "metadata": {},
   "outputs": [],
   "source": [
    "x = np.array([-2.5,  -2, -1.76,  -1, -0.2, 0.5, 0.8, 1.0, 1.1])\n",
    "y = np.array([4.21, 2.5,  1.4, 1.37, 2.29, 2.4, 3.98, 1.2, 0.99])"
   ]
  },
  {
   "cell_type": "markdown",
   "metadata": {},
   "source": [
    "**Exercício 1:** Faça regressões lineares sobre esses dados, utilizando as seguintes configurações:\n",
    "\n",
    "- Uma reta\n",
    "- Um polinômio de grau 2 com penalidade Lasso\n",
    "- A regressão que achar mais adequada.\n",
    "\n",
    "Visualize as três regressões.\n",
    "\n",
    "Existem pontos nesse conjunto que você consideraria um _outlier_?"
   ]
  },
  {
   "cell_type": "markdown",
   "metadata": {},
   "source": [
    "Considere a base de dados Wine, contém a classificação de vinhos de acordo com algumas propriedades numéricas, presente no pacote `sklearn.datasets`.\n",
    "\n",
    "**Exercício 2:**\n",
    "\n",
    "1. Separe os dados da base Wine entre treino e teste, com 60% dos dados para treino e 40% para teste\n",
    "2. Crie uma árvore de classificação utilizando os dados de treino, com altura máxima 4\n",
    "3. Visualize as regras da árvore treinada\n",
    "4. Calcule a matriz de confusão do modelo\n"
   ]
  },
  {
   "cell_type": "code",
   "execution_count": 6,
   "metadata": {},
   "outputs": [],
   "source": [
    "df = pd.DataFrame(load_wine().data, columns=load_wine().feature_names)\n",
    "df['target'] = load_wine().target"
   ]
  },
  {
   "cell_type": "code",
   "execution_count": 30,
   "metadata": {},
   "outputs": [
    {
     "name": "stdout",
     "output_type": "stream",
     "text": [
      "R^2: 0.09056137577324885\n",
      "Pearson ao quadrado: [0.09056138]\n",
      "Média do erro absoluto: 0.8761146343725219\n",
      "Erro quadrático médio: 1.1223685207790413\n"
     ]
    },
    {
     "data": {
      "image/png": "[encoded data removed]",
      "text/plain": [
       "<Figure size 432x288 with 1 Axes>"
      ]
     },
     "metadata": {},
     "output_type": "display_data"
    }
   ],
   "source": [
    "# Exercicio 1\n",
    "import matplotlib.pyplot as plt\n",
    "from scipy.stats import pearsonr\n",
    "from sklearn.linear_model import LinearRegression\n",
    "from sklearn.metrics import r2_score, mean_absolute_error, mean_squared_error\n",
    "\n",
    "# Ajustando x\n",
    "x1 = x.reshape(-1,1)\n",
    "\n",
    "# Chamando a função de regressão linear e inserindo x e y para ajuste\n",
    "regressorlinear = LinearRegression()\n",
    "regressorlinear.fit(x1,y)\n",
    "\n",
    "y0 = regressorlinear.intercept_\n",
    "m = regressorlinear.coef_[0]\n",
    "\n",
    "# Plotando no gráfico as tuplas (x, y)\n",
    "plt.scatter(x1, y)\n",
    "\n",
    "# Criando um array para os a predição dos valores\n",
    "linha = np.linspace(x.min(),x.max(),100).reshape(-1, 1)\n",
    "#plt.title(\"Reta : Regressão linear simples\")\n",
    "plt.plot(linha, regressorlinear.predict(linha), c='r')\n",
    "\n",
    "predito = regressorlinear.predict(x1)\n",
    "print(\"R^2: \"+str(r2_score(y, predito)))\n",
    "\n",
    "print(\"Pearson ao quadrado:\",str(pearsonr(x, y)[0] ** 2))\n",
    "\n",
    "print(\"Média do erro absoluto:\",str(mean_absolute_error(y, predito)))\n",
    "\n",
    "print(\"Erro quadrático médio:\",str(mean_squared_error(y,predito)))"
   ]
  },
  {
   "cell_type": "code",
   "execution_count": 38,
   "metadata": {},
   "outputs": [
    {
     "data": {
      "text/plain": [
       "[<matplotlib.lines.Line2D at 0x7fd92addd588>]"
      ]
     },
     "execution_count": 38,
     "metadata": {},
     "output_type": "execute_result"
    },
    {
     "data": {
      "image/png": "[encoded data removed]",
      "text/plain": [
       "<Figure size 432x288 with 1 Axes>"
      ]
     },
     "metadata": {},
     "output_type": "display_data"
    }
   ],
   "source": [
    "from sklearn.linear_model import Lasso\n",
    "from sklearn.metrics import r2_score, mean_absolute_error, mean_squared_error\n",
    "# LASSO\n",
    "\n",
    "# Ajustando a entrada x1 para ter grau 2\n",
    "x1 = x.reshape(-1,1) ** (np.arange(2)+1)\n",
    "\n",
    "#Chamando a função Lasso\n",
    "regressorlasso = Lasso(alpha = 0.1)\n",
    "regressorlasso.fit(x1, y)\n",
    "\n",
    "# Plotando a tupla(x, y)\n",
    "plt.scatter(x, y)\n",
    "\n",
    "# Criando o array com as informações para a predição\n",
    "ent = np.linspace(x.min(), x.max(), 100)\n",
    "\n",
    "entradagrafico = ent.reshape(-1, 1) ** (np.arange(2)+1)\n",
    "\n",
    "curva = regressorlasso.predict(entradagrafico)\n",
    "\n",
    "plt.title(\"Lasso com um polinomio de grau 2\")\n",
    "plt.plot(ent, regressorlasso.predict(entradagrafico), c='red')"
   ]
  },
  {
   "cell_type": "code",
   "execution_count": null,
   "metadata": {},
   "outputs": [],
   "source": []
  },
  {
   "cell_type": "code",
   "execution_count": 11,
   "metadata": {},
   "outputs": [
    {
     "name": "stdout",
     "output_type": "stream",
     "text": [
      "R^2: 0.0902349405969034\n",
      "Pearson ao quadrado: [0.09056138]\n",
      "Média do erro absoluto: 0.8747468882472965\n",
      "Erro quadrático médio: 1.1227713853113417\n"
     ]
    },
    {
     "data": {
      "image/png": "[encoded data removed]",
      "text/plain": [
       "<Figure size 432x288 with 1 Axes>"
      ]
     },
     "metadata": {},
     "output_type": "display_data"
    }
   ],
   "source": [
    "#Regressao de Ridge\n",
    "\n",
    "from sklearn.linear_model import Ridge\n",
    "\n",
    "x = np.array([-2.5,  -2, -1.76,  -1, -0.2, 0.5, 0.8, 1.0, 1.1]).reshape(-1,1)\n",
    "y = np.array([4.21, 2.5,  1.4, 1.37, 2.29, 2.4, 3.98, 1.2, 0.99]).reshape(-1,1)\n",
    "\n",
    "regressao = Ridge(alpha = 1.0)\n",
    "regressao.fit(x, y)\n",
    "y0 = regressao.intercept_\n",
    "m = regressao.coef_[0]\n",
    "\n",
    "plt.scatter(x, y)\n",
    "\n",
    "linha = np.linspace(-3,1,2).reshape(-1,1)\n",
    "plt.title(\"Reta : Regressão linear Ridge\")\n",
    "plt.plot(linha, regressao.predict(linha), c='r')\n",
    "\n",
    "predito = regressao.predict(x)\n",
    "print(\"R^2: \"+str(r2_score(y, predito)))\n",
    "\n",
    "print(\"Pearson ao quadrado:\",str(pearsonr(x, y)[0] ** 2))\n",
    "\n",
    "print(\"Média do erro absoluto:\",str(mean_absolute_error(y, predito)))\n",
    "\n",
    "print(\"Erro quadrático médio:\",str(mean_squared_error(y,predito)))"
   ]
  },
  {
   "cell_type": "code",
   "execution_count": 12,
   "metadata": {},
   "outputs": [
    {
     "data": {
      "text/plain": [
       "<matplotlib.collections.PathCollection at 0x7fdc0e9deef0>"
      ]
     },
     "execution_count": 12,
     "metadata": {},
     "output_type": "execute_result"
    },
    {
     "data": {
      "image/png": "[encoded data removed]",
      "text/plain": [
       "<Figure size 432x288 with 1 Axes>"
      ]
     },
     "metadata": {},
     "output_type": "display_data"
    }
   ],
   "source": []
  },
  {
   "cell_type": "code",
   "execution_count": 13,
   "metadata": {},
   "outputs": [
    {
     "data": {
      "image/svg+xml": [
       "<?xml version=\"1.0\" encoding=\"UTF-8\" standalone=\"no\"?>\n",
       "<!DOCTYPE svg PUBLIC \"-//W3C//DTD SVG 1.1//EN\"\n",
       " \"http://www.w3.org/Graphics/SVG/1.1/DTD/svg11.dtd\">\n",
       "<!-- Generated by graphviz version 2.38.0 (20140413.2041)\n",
       " -->\n",
       "<!-- Title: Tree Pages: 1 -->\n",
       "<svg width=\"1006pt\" height=\"560pt\"\n",
       " viewBox=\"0.00 0.00 1006.00 559.50\" xmlns=\"http://www.w3.org/2000/svg\" xmlns:xlink=\"http://www.w3.org/1999/xlink\">\n",
       "<g id=\"graph0\" class=\"graph\" transform=\"scale(1 1) rotate(0) translate(4 555.5)\">\n",
       "<title>Tree</title>\n",
       "<polygon fill=\"white\" stroke=\"none\" points=\"-4,4 -4,-555.5 1002,-555.5 1002,4 -4,4\"/>\n",
       "<!-- 0 -->\n",
       "<g id=\"node1\" class=\"node\"><title>0</title>\n",
       "<polygon fill=\"none\" stroke=\"black\" points=\"524.5,-551.5 281.5,-551.5 281.5,-468.5 524.5,-468.5 524.5,-551.5\"/>\n",
       "<text text-anchor=\"middle\" x=\"403\" y=\"-536.3\" font-family=\"Times,serif\" font-size=\"14.00\">od280/od315_of_diluted_wines &lt;= 2.125</text>\n",
       "<text text-anchor=\"middle\" x=\"403\" y=\"-521.3\" font-family=\"Times,serif\" font-size=\"14.00\">gini = 0.659</text>\n",
       "<text text-anchor=\"middle\" x=\"403\" y=\"-506.3\" font-family=\"Times,serif\" font-size=\"14.00\">samples = 106</text>\n",
       "<text text-anchor=\"middle\" x=\"403\" y=\"-491.3\" font-family=\"Times,serif\" font-size=\"14.00\">value = [35, 42, 29]</text>\n",
       "<text text-anchor=\"middle\" x=\"403\" y=\"-476.3\" font-family=\"Times,serif\" font-size=\"14.00\">class = class_1</text>\n",
       "</g>\n",
       "<!-- 1 -->\n",
       "<g id=\"node2\" class=\"node\"><title>1</title>\n",
       "<polygon fill=\"none\" stroke=\"black\" points=\"327,-432.5 163,-432.5 163,-349.5 327,-349.5 327,-432.5\"/>\n",
       "<text text-anchor=\"middle\" x=\"245\" y=\"-417.3\" font-family=\"Times,serif\" font-size=\"14.00\">alcalinity_of_ash &lt;= 17.25</text>\n",
       "<text text-anchor=\"middle\" x=\"245\" y=\"-402.3\" font-family=\"Times,serif\" font-size=\"14.00\">gini = 0.175</text>\n",
       "<text text-anchor=\"middle\" x=\"245\" y=\"-387.3\" font-family=\"Times,serif\" font-size=\"14.00\">samples = 31</text>\n",
       "<text text-anchor=\"middle\" x=\"245\" y=\"-372.3\" font-family=\"Times,serif\" font-size=\"14.00\">value = [0, 3, 28]</text>\n",
       "<text text-anchor=\"middle\" x=\"245\" y=\"-357.3\" font-family=\"Times,serif\" font-size=\"14.00\">class = class_2</text>\n",
       "</g>\n",
       "<!-- 0&#45;&gt;1 -->\n",
       "<g id=\"edge1\" class=\"edge\"><title>0&#45;&gt;1</title>\n",
       "<path fill=\"none\" stroke=\"black\" d=\"M348.183,-468.407C335.192,-458.788 321.236,-448.453 307.917,-438.59\"/>\n",
       "<polygon fill=\"black\" stroke=\"black\" points=\"309.84,-435.659 299.72,-432.521 305.674,-441.285 309.84,-435.659\"/>\n",
       "<text text-anchor=\"middle\" x=\"303.407\" y=\"-453.548\" font-family=\"Times,serif\" font-size=\"14.00\">True</text>\n",
       "</g>\n",
       "<!-- 6 -->\n",
       "<g id=\"node7\" class=\"node\"><title>6</title>\n",
       "<polygon fill=\"none\" stroke=\"black\" points=\"556.5,-432.5 437.5,-432.5 437.5,-349.5 556.5,-349.5 556.5,-432.5\"/>\n",
       "<text text-anchor=\"middle\" x=\"497\" y=\"-417.3\" font-family=\"Times,serif\" font-size=\"14.00\">proline &lt;= 726.5</text>\n",
       "<text text-anchor=\"middle\" x=\"497\" y=\"-402.3\" font-family=\"Times,serif\" font-size=\"14.00\">gini = 0.512</text>\n",
       "<text text-anchor=\"middle\" x=\"497\" y=\"-387.3\" font-family=\"Times,serif\" font-size=\"14.00\">samples = 75</text>\n",
       "<text text-anchor=\"middle\" x=\"497\" y=\"-372.3\" font-family=\"Times,serif\" font-size=\"14.00\">value = [35, 39, 1]</text>\n",
       "<text text-anchor=\"middle\" x=\"497\" y=\"-357.3\" font-family=\"Times,serif\" font-size=\"14.00\">class = class_1</text>\n",
       "</g>\n",
       "<!-- 0&#45;&gt;6 -->\n",
       "<g id=\"edge6\" class=\"edge\"><title>0&#45;&gt;6</title>\n",
       "<path fill=\"none\" stroke=\"black\" d=\"M435.613,-468.407C442.831,-459.423 450.55,-449.815 457.994,-440.55\"/>\n",
       "<polygon fill=\"black\" stroke=\"black\" points=\"460.91,-442.509 464.445,-432.521 455.453,-438.124 460.91,-442.509\"/>\n",
       "<text text-anchor=\"middle\" x=\"467.154\" y=\"-453.674\" font-family=\"Times,serif\" font-size=\"14.00\">False</text>\n",
       "</g>\n",
       "<!-- 2 -->\n",
       "<g id=\"node3\" class=\"node\"><title>2</title>\n",
       "<polygon fill=\"none\" stroke=\"black\" points=\"106,-68 7.10543e-15,-68 7.10543e-15,-0 106,-0 106,-68\"/>\n",
       "<text text-anchor=\"middle\" x=\"53\" y=\"-52.8\" font-family=\"Times,serif\" font-size=\"14.00\">gini = 0.0</text>\n",
       "<text text-anchor=\"middle\" x=\"53\" y=\"-37.8\" font-family=\"Times,serif\" font-size=\"14.00\">samples = 2</text>\n",
       "<text text-anchor=\"middle\" x=\"53\" y=\"-22.8\" font-family=\"Times,serif\" font-size=\"14.00\">value = [0, 2, 0]</text>\n",
       "<text text-anchor=\"middle\" x=\"53\" y=\"-7.8\" font-family=\"Times,serif\" font-size=\"14.00\">class = class_1</text>\n",
       "</g>\n",
       "<!-- 1&#45;&gt;2 -->\n",
       "<g id=\"edge2\" class=\"edge\"><title>1&#45;&gt;2</title>\n",
       "<path fill=\"none\" stroke=\"black\" d=\"M207.541,-349.063C190.898,-330.874 175,-313.5 175,-313.5 175,-313.5 105.834,-155.608 71.6589,-77.5942\"/>\n",
       "<polygon fill=\"black\" stroke=\"black\" points=\"74.6925,-75.7966 67.4741,-68.0413 68.2808,-78.6053 74.6925,-75.7966\"/>\n",
       "</g>\n",
       "<!-- 3 -->\n",
       "<g id=\"node4\" class=\"node\"><title>3</title>\n",
       "<polygon fill=\"none\" stroke=\"black\" points=\"305.5,-313.5 184.5,-313.5 184.5,-230.5 305.5,-230.5 305.5,-313.5\"/>\n",
       "<text text-anchor=\"middle\" x=\"245\" y=\"-298.3\" font-family=\"Times,serif\" font-size=\"14.00\">flavanoids &lt;= 1.58</text>\n",
       "<text text-anchor=\"middle\" x=\"245\" y=\"-283.3\" font-family=\"Times,serif\" font-size=\"14.00\">gini = 0.067</text>\n",
       "<text text-anchor=\"middle\" x=\"245\" y=\"-268.3\" font-family=\"Times,serif\" font-size=\"14.00\">samples = 29</text>\n",
       "<text text-anchor=\"middle\" x=\"245\" y=\"-253.3\" font-family=\"Times,serif\" font-size=\"14.00\">value = [0, 1, 28]</text>\n",
       "<text text-anchor=\"middle\" x=\"245\" y=\"-238.3\" font-family=\"Times,serif\" font-size=\"14.00\">class = class_2</text>\n",
       "</g>\n",
       "<!-- 1&#45;&gt;3 -->\n",
       "<g id=\"edge3\" class=\"edge\"><title>1&#45;&gt;3</title>\n",
       "<path fill=\"none\" stroke=\"black\" d=\"M245,-349.407C245,-341.149 245,-332.364 245,-323.802\"/>\n",
       "<polygon fill=\"black\" stroke=\"black\" points=\"248.5,-323.521 245,-313.521 241.5,-323.521 248.5,-323.521\"/>\n",
       "</g>\n",
       "<!-- 4 -->\n",
       "<g id=\"node5\" class=\"node\"><title>4</title>\n",
       "<polygon fill=\"none\" stroke=\"black\" points=\"237.5,-68 124.5,-68 124.5,-0 237.5,-0 237.5,-68\"/>\n",
       "<text text-anchor=\"middle\" x=\"181\" y=\"-52.8\" font-family=\"Times,serif\" font-size=\"14.00\">gini = 0.0</text>\n",
       "<text text-anchor=\"middle\" x=\"181\" y=\"-37.8\" font-family=\"Times,serif\" font-size=\"14.00\">samples = 28</text>\n",
       "<text text-anchor=\"middle\" x=\"181\" y=\"-22.8\" font-family=\"Times,serif\" font-size=\"14.00\">value = [0, 0, 28]</text>\n",
       "<text text-anchor=\"middle\" x=\"181\" y=\"-7.8\" font-family=\"Times,serif\" font-size=\"14.00\">class = class_2</text>\n",
       "</g>\n",
       "<!-- 3&#45;&gt;4 -->\n",
       "<g id=\"edge4\" class=\"edge\"><title>3&#45;&gt;4</title>\n",
       "<path fill=\"none\" stroke=\"black\" d=\"M233.998,-230.43C222.46,-187.882 204.4,-121.286 192.631,-77.8885\"/>\n",
       "<polygon fill=\"black\" stroke=\"black\" points=\"195.997,-76.927 190.001,-68.1917 189.241,-78.7592 195.997,-76.927\"/>\n",
       "</g>\n",
       "<!-- 5 -->\n",
       "<g id=\"node6\" class=\"node\"><title>5</title>\n",
       "<polygon fill=\"none\" stroke=\"black\" points=\"362,-68 256,-68 256,-0 362,-0 362,-68\"/>\n",
       "<text text-anchor=\"middle\" x=\"309\" y=\"-52.8\" font-family=\"Times,serif\" font-size=\"14.00\">gini = 0.0</text>\n",
       "<text text-anchor=\"middle\" x=\"309\" y=\"-37.8\" font-family=\"Times,serif\" font-size=\"14.00\">samples = 1</text>\n",
       "<text text-anchor=\"middle\" x=\"309\" y=\"-22.8\" font-family=\"Times,serif\" font-size=\"14.00\">value = [0, 1, 0]</text>\n",
       "<text text-anchor=\"middle\" x=\"309\" y=\"-7.8\" font-family=\"Times,serif\" font-size=\"14.00\">class = class_1</text>\n",
       "</g>\n",
       "<!-- 3&#45;&gt;5 -->\n",
       "<g id=\"edge5\" class=\"edge\"><title>3&#45;&gt;5</title>\n",
       "<path fill=\"none\" stroke=\"black\" d=\"M256.002,-230.43C267.54,-187.882 285.6,-121.286 297.369,-77.8885\"/>\n",
       "<polygon fill=\"black\" stroke=\"black\" points=\"300.759,-78.7592 299.999,-68.1917 294.003,-76.927 300.759,-78.7592\"/>\n",
       "</g>\n",
       "<!-- 7 -->\n",
       "<g id=\"node8\" class=\"node\"><title>7</title>\n",
       "<polygon fill=\"none\" stroke=\"black\" points=\"574,-313.5 420,-313.5 420,-230.5 574,-230.5 574,-313.5\"/>\n",
       "<text text-anchor=\"middle\" x=\"497\" y=\"-298.3\" font-family=\"Times,serif\" font-size=\"14.00\">proanthocyanins &lt;= 0.85</text>\n",
       "<text text-anchor=\"middle\" x=\"497\" y=\"-283.3\" font-family=\"Times,serif\" font-size=\"14.00\">gini = 0.099</text>\n",
       "<text text-anchor=\"middle\" x=\"497\" y=\"-268.3\" font-family=\"Times,serif\" font-size=\"14.00\">samples = 39</text>\n",
       "<text text-anchor=\"middle\" x=\"497\" y=\"-253.3\" font-family=\"Times,serif\" font-size=\"14.00\">value = [1, 37, 1]</text>\n",
       "<text text-anchor=\"middle\" x=\"497\" y=\"-238.3\" font-family=\"Times,serif\" font-size=\"14.00\">class = class_1</text>\n",
       "</g>\n",
       "<!-- 6&#45;&gt;7 -->\n",
       "<g id=\"edge7\" class=\"edge\"><title>6&#45;&gt;7</title>\n",
       "<path fill=\"none\" stroke=\"black\" d=\"M497,-349.407C497,-341.149 497,-332.364 497,-323.802\"/>\n",
       "<polygon fill=\"black\" stroke=\"black\" points=\"500.5,-323.521 497,-313.521 493.5,-323.521 500.5,-323.521\"/>\n",
       "</g>\n",
       "<!-- 12 -->\n",
       "<g id=\"node13\" class=\"node\"><title>12</title>\n",
       "<polygon fill=\"none\" stroke=\"black\" points=\"884.5,-313.5 749.5,-313.5 749.5,-230.5 884.5,-230.5 884.5,-313.5\"/>\n",
       "<text text-anchor=\"middle\" x=\"817\" y=\"-298.3\" font-family=\"Times,serif\" font-size=\"14.00\">magnesium &lt;= 135.5</text>\n",
       "<text text-anchor=\"middle\" x=\"817\" y=\"-283.3\" font-family=\"Times,serif\" font-size=\"14.00\">gini = 0.105</text>\n",
       "<text text-anchor=\"middle\" x=\"817\" y=\"-268.3\" font-family=\"Times,serif\" font-size=\"14.00\">samples = 36</text>\n",
       "<text text-anchor=\"middle\" x=\"817\" y=\"-253.3\" font-family=\"Times,serif\" font-size=\"14.00\">value = [34, 2, 0]</text>\n",
       "<text text-anchor=\"middle\" x=\"817\" y=\"-238.3\" font-family=\"Times,serif\" font-size=\"14.00\">class = class_0</text>\n",
       "</g>\n",
       "<!-- 6&#45;&gt;12 -->\n",
       "<g id=\"edge12\" class=\"edge\"><title>6&#45;&gt;12</title>\n",
       "<path fill=\"none\" stroke=\"black\" d=\"M556.814,-368.13C608.543,-349.217 683.65,-321.756 739.886,-301.195\"/>\n",
       "<polygon fill=\"black\" stroke=\"black\" points=\"741.258,-304.42 749.448,-297.699 738.854,-297.845 741.258,-304.42\"/>\n",
       "</g>\n",
       "<!-- 8 -->\n",
       "<g id=\"node9\" class=\"node\"><title>8</title>\n",
       "<polygon fill=\"none\" stroke=\"black\" points=\"486,-68 380,-68 380,-0 486,-0 486,-68\"/>\n",
       "<text text-anchor=\"middle\" x=\"433\" y=\"-52.8\" font-family=\"Times,serif\" font-size=\"14.00\">gini = 0.0</text>\n",
       "<text text-anchor=\"middle\" x=\"433\" y=\"-37.8\" font-family=\"Times,serif\" font-size=\"14.00\">samples = 1</text>\n",
       "<text text-anchor=\"middle\" x=\"433\" y=\"-22.8\" font-family=\"Times,serif\" font-size=\"14.00\">value = [0, 0, 1]</text>\n",
       "<text text-anchor=\"middle\" x=\"433\" y=\"-7.8\" font-family=\"Times,serif\" font-size=\"14.00\">class = class_2</text>\n",
       "</g>\n",
       "<!-- 7&#45;&gt;8 -->\n",
       "<g id=\"edge8\" class=\"edge\"><title>7&#45;&gt;8</title>\n",
       "<path fill=\"none\" stroke=\"black\" d=\"M485.998,-230.43C474.46,-187.882 456.4,-121.286 444.631,-77.8885\"/>\n",
       "<polygon fill=\"black\" stroke=\"black\" points=\"447.997,-76.927 442.001,-68.1917 441.241,-78.7592 447.997,-76.927\"/>\n",
       "</g>\n",
       "<!-- 9 -->\n",
       "<g id=\"node10\" class=\"node\"><title>9</title>\n",
       "<polygon fill=\"none\" stroke=\"black\" points=\"626.5,-194.5 495.5,-194.5 495.5,-111.5 626.5,-111.5 626.5,-194.5\"/>\n",
       "<text text-anchor=\"middle\" x=\"561\" y=\"-179.3\" font-family=\"Times,serif\" font-size=\"14.00\">malic_acid &lt;= 3.925</text>\n",
       "<text text-anchor=\"middle\" x=\"561\" y=\"-164.3\" font-family=\"Times,serif\" font-size=\"14.00\">gini = 0.051</text>\n",
       "<text text-anchor=\"middle\" x=\"561\" y=\"-149.3\" font-family=\"Times,serif\" font-size=\"14.00\">samples = 38</text>\n",
       "<text text-anchor=\"middle\" x=\"561\" y=\"-134.3\" font-family=\"Times,serif\" font-size=\"14.00\">value = [1, 37, 0]</text>\n",
       "<text text-anchor=\"middle\" x=\"561\" y=\"-119.3\" font-family=\"Times,serif\" font-size=\"14.00\">class = class_1</text>\n",
       "</g>\n",
       "<!-- 7&#45;&gt;9 -->\n",
       "<g id=\"edge9\" class=\"edge\"><title>7&#45;&gt;9</title>\n",
       "<path fill=\"none\" stroke=\"black\" d=\"M519.204,-230.407C523.97,-221.695 529.056,-212.397 533.981,-203.393\"/>\n",
       "<polygon fill=\"black\" stroke=\"black\" points=\"537.106,-204.974 538.835,-194.521 530.965,-201.614 537.106,-204.974\"/>\n",
       "</g>\n",
       "<!-- 10 -->\n",
       "<g id=\"node11\" class=\"node\"><title>10</title>\n",
       "<polygon fill=\"none\" stroke=\"black\" points=\"617.5,-68 504.5,-68 504.5,-0 617.5,-0 617.5,-68\"/>\n",
       "<text text-anchor=\"middle\" x=\"561\" y=\"-52.8\" font-family=\"Times,serif\" font-size=\"14.00\">gini = 0.0</text>\n",
       "<text text-anchor=\"middle\" x=\"561\" y=\"-37.8\" font-family=\"Times,serif\" font-size=\"14.00\">samples = 35</text>\n",
       "<text text-anchor=\"middle\" x=\"561\" y=\"-22.8\" font-family=\"Times,serif\" font-size=\"14.00\">value = [0, 35, 0]</text>\n",
       "<text text-anchor=\"middle\" x=\"561\" y=\"-7.8\" font-family=\"Times,serif\" font-size=\"14.00\">class = class_1</text>\n",
       "</g>\n",
       "<!-- 9&#45;&gt;10 -->\n",
       "<g id=\"edge10\" class=\"edge\"><title>9&#45;&gt;10</title>\n",
       "<path fill=\"none\" stroke=\"black\" d=\"M561,-111.407C561,-100.704 561,-89.1154 561,-78.2762\"/>\n",
       "<polygon fill=\"black\" stroke=\"black\" points=\"564.5,-78.1669 561,-68.1669 557.5,-78.167 564.5,-78.1669\"/>\n",
       "</g>\n",
       "<!-- 11 -->\n",
       "<g id=\"node12\" class=\"node\"><title>11</title>\n",
       "<polygon fill=\"none\" stroke=\"black\" points=\"742,-68 636,-68 636,-0 742,-0 742,-68\"/>\n",
       "<text text-anchor=\"middle\" x=\"689\" y=\"-52.8\" font-family=\"Times,serif\" font-size=\"14.00\">gini = 0.444</text>\n",
       "<text text-anchor=\"middle\" x=\"689\" y=\"-37.8\" font-family=\"Times,serif\" font-size=\"14.00\">samples = 3</text>\n",
       "<text text-anchor=\"middle\" x=\"689\" y=\"-22.8\" font-family=\"Times,serif\" font-size=\"14.00\">value = [1, 2, 0]</text>\n",
       "<text text-anchor=\"middle\" x=\"689\" y=\"-7.8\" font-family=\"Times,serif\" font-size=\"14.00\">class = class_1</text>\n",
       "</g>\n",
       "<!-- 9&#45;&gt;11 -->\n",
       "<g id=\"edge11\" class=\"edge\"><title>9&#45;&gt;11</title>\n",
       "<path fill=\"none\" stroke=\"black\" d=\"M605.409,-111.407C618.326,-99.6005 632.421,-86.7166 645.295,-74.9495\"/>\n",
       "<polygon fill=\"black\" stroke=\"black\" points=\"647.695,-77.4972 652.715,-68.1669 642.972,-72.3304 647.695,-77.4972\"/>\n",
       "</g>\n",
       "<!-- 13 -->\n",
       "<g id=\"node14\" class=\"node\"><title>13</title>\n",
       "<polygon fill=\"none\" stroke=\"black\" points=\"873.5,-68 760.5,-68 760.5,-0 873.5,-0 873.5,-68\"/>\n",
       "<text text-anchor=\"middle\" x=\"817\" y=\"-52.8\" font-family=\"Times,serif\" font-size=\"14.00\">gini = 0.0</text>\n",
       "<text text-anchor=\"middle\" x=\"817\" y=\"-37.8\" font-family=\"Times,serif\" font-size=\"14.00\">samples = 34</text>\n",
       "<text text-anchor=\"middle\" x=\"817\" y=\"-22.8\" font-family=\"Times,serif\" font-size=\"14.00\">value = [34, 0, 0]</text>\n",
       "<text text-anchor=\"middle\" x=\"817\" y=\"-7.8\" font-family=\"Times,serif\" font-size=\"14.00\">class = class_0</text>\n",
       "</g>\n",
       "<!-- 12&#45;&gt;13 -->\n",
       "<g id=\"edge13\" class=\"edge\"><title>12&#45;&gt;13</title>\n",
       "<path fill=\"none\" stroke=\"black\" d=\"M817,-230.43C817,-188.061 817,-121.847 817,-78.4379\"/>\n",
       "<polygon fill=\"black\" stroke=\"black\" points=\"820.5,-78.1917 817,-68.1917 813.5,-78.1917 820.5,-78.1917\"/>\n",
       "</g>\n",
       "<!-- 14 -->\n",
       "<g id=\"node15\" class=\"node\"><title>14</title>\n",
       "<polygon fill=\"none\" stroke=\"black\" points=\"998,-68 892,-68 892,-0 998,-0 998,-68\"/>\n",
       "<text text-anchor=\"middle\" x=\"945\" y=\"-52.8\" font-family=\"Times,serif\" font-size=\"14.00\">gini = 0.0</text>\n",
       "<text text-anchor=\"middle\" x=\"945\" y=\"-37.8\" font-family=\"Times,serif\" font-size=\"14.00\">samples = 2</text>\n",
       "<text text-anchor=\"middle\" x=\"945\" y=\"-22.8\" font-family=\"Times,serif\" font-size=\"14.00\">value = [0, 2, 0]</text>\n",
       "<text text-anchor=\"middle\" x=\"945\" y=\"-7.8\" font-family=\"Times,serif\" font-size=\"14.00\">class = class_1</text>\n",
       "</g>\n",
       "<!-- 12&#45;&gt;14 -->\n",
       "<g id=\"edge14\" class=\"edge\"><title>12&#45;&gt;14</title>\n",
       "<path fill=\"none\" stroke=\"black\" d=\"M839.004,-230.43C862.227,-187.613 898.657,-120.444 922.183,-77.069\"/>\n",
       "<polygon fill=\"black\" stroke=\"black\" points=\"925.307,-78.6507 926.998,-68.1917 919.153,-75.3133 925.307,-78.6507\"/>\n",
       "</g>\n",
       "</g>\n",
       "</svg>\n"
      ],
      "text/plain": [
       "<graphviz.files.Source at 0x7fdc0e9ac588>"
      ]
     },
     "execution_count": 13,
     "metadata": {},
     "output_type": "execute_result"
    }
   ],
   "source": [
    "# Exercicio 2\n",
    "from sklearn.model_selection import train_test_split\n",
    "from sklearn import tree\n",
    "import graphviz\n",
    "# Definindo 'target' como categórico\n",
    "df['target'] = pd.Categorical(df['target'])\n",
    "\n",
    "# Dividindo as amostras em 60% treinamento e 40% teste\n",
    "train, test = train_test_split(df, stratify = df['target'], train_size=0.6, test_size=0.4)\n",
    "\n",
    "# Criando a árvore com profundidade máxima = 4\n",
    "clf = tree.DecisionTreeClassifier(max_depth=4)\n",
    "\n",
    "# Obtendo os dados sem a coluna 'target'\n",
    "train_data = train.drop(columns=['target'])\n",
    "\n",
    "clf = clf.fit(train_data, train['target'])\n",
    "\n",
    "dot_data = tree.export_graphviz(clf, out_file=None,\n",
    "                                class_names=list(load_wine().target_names),\n",
    "                                feature_names=list(load_wine().feature_names),\n",
    "                                leaves_parallel=True)\n",
    "graphviz.Source(dot_data)"
   ]
  },
  {
   "cell_type": "code",
   "execution_count": 16,
   "metadata": {},
   "outputs": [
    {
     "name": "stdout",
     "output_type": "stream",
     "text": [
      "        Predicted A  Predicted B  Predicted C\n",
      "True A           24            0            0\n",
      "True B            1           25            3\n",
      "True C            1            0           18\n"
     ]
    }
   ],
   "source": [
    "#Matriz de confusão\n",
    "from sklearn import metrics\n",
    "\n",
    "expected = test['target']\n",
    "\n",
    "predicted = clf.predict(test.drop(columns=['target']))\n",
    "\n",
    "metrics.confusion_matrix(expected, predicted)\n",
    "\n",
    "df = pd.DataFrame(metrics.confusion_matrix(expected, predicted),\n",
    "                  columns=['Predicted A', 'Predicted B', 'Predicted C'],\n",
    "                  index=['True A', 'True B', 'True C'])\n",
    "print(df)"
   ]
  },
  {
   "cell_type": "code",
   "execution_count": null,
   "metadata": {},
   "outputs": [],
   "source": []
  }
 ],
 "metadata": {
  "kernelspec": {
   "display_name": "Python 3",
   "language": "python",
   "name": "python3"
  },
  "language_info": {
   "codemirror_mode": {
    "name": "ipython",
    "version": 3
   },
   "file_extension": ".py",
   "mimetype": "text/x-python",
   "name": "python",
   "nbconvert_exporter": "python",
   "pygments_lexer": "ipython3",
   "version": "3.6.6"
  }
 },
 "nbformat": 4,
 "nbformat_minor": 2
}
