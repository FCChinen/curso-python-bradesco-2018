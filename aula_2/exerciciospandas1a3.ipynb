{
 "cells": [
  {
   "cell_type": "code",
   "execution_count": 1,
   "metadata": {},
   "outputs": [
    {
     "name": "stdout",
     "output_type": "stream",
     "text": [
      "['Maior' 'Menor' 'Maior' 'Maior' 'Maior' 'Maior' 'Menor' 'Maior' 'Maior'\n",
      " 'Menor' 'Maior' 'Menor' 'Maior' 'Maior' 'Maior' 'Maior' 'Menor' 'Maior'\n",
      " 'Menor' 'Maior']\n",
      "[ 0  1  2  3  4  5  6  7  8  9 10 11 12 13 14 15 16 17 18 19]\n",
      "7\n",
      "10.166666666666666\n"
     ]
    },
    {
     "name": "stderr",
     "output_type": "stream",
     "text": [
      "/home/chinen/.pyenv/versions/3.6.6/lib/python3.6/importlib/_bootstrap.py:219: RuntimeWarning: numpy.dtype size changed, may indicate binary incompatibility. Expected 96, got 88\n",
      "  return f(*args, **kwds)\n",
      "/home/chinen/.pyenv/versions/3.6.6/lib/python3.6/importlib/_bootstrap.py:219: RuntimeWarning: numpy.dtype size changed, may indicate binary incompatibility. Expected 96, got 88\n",
      "  return f(*args, **kwds)\n"
     ]
    }
   ],
   "source": [
    "import numpy as np\n",
    "import pandas as pd\n",
    "#Exercicio 1\n",
    "def acharz(x):\n",
    "    if x > 4:\n",
    "        return \"Maior\"\n",
    "    else:\n",
    "        return \"Menor\"\n",
    "x = np.random.randint(1,10,20, dtype = \"int64\")\n",
    "y = np.arange(0,20)\n",
    "z = np.vectorize(acharz)(x)\n",
    "#Exercicio 2\n",
    "contador = 0\n",
    "for i in range(20):\n",
    "    if (((y[i] % 2) == 0) and (z[i] == \"Maior\")):\n",
    "        contador += 1\n",
    "print(z)\n",
    "print(y)\n",
    "print(contador)\n",
    "\n",
    "#Exercicio 3\n",
    "\n",
    "media = y[z == \"Menor\"].mean()\n",
    "print(media)"
   ]
  },
  {
   "cell_type": "code",
   "execution_count": null,
   "metadata": {},
   "outputs": [],
   "source": []
  }
 ],
 "metadata": {
  "kernelspec": {
   "display_name": "Python 3",
   "language": "python",
   "name": "python3"
  },
  "language_info": {
   "codemirror_mode": {
    "name": "ipython",
    "version": 3
   },
   "file_extension": ".py",
   "mimetype": "text/x-python",
   "name": "python",
   "nbconvert_exporter": "python",
   "pygments_lexer": "ipython3",
   "version": "3.6.6"
  }
 },
 "nbformat": 4,
 "nbformat_minor": 2
}
