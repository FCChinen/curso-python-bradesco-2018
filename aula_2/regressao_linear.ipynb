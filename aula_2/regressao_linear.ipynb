{
 "cells": [
  {
   "cell_type": "markdown",
   "metadata": {
    "colab_type": "text",
    "id": "FmvK7h9cLGZF"
   },
   "source": [
    "# Regressão linear\n",
    "\n",
    "Regressão é a tarefa de encontrar uma função que aproxima um conjunto de dados, de forma que a variável objetivo é contínua (ou seja, a função tem como imagem $\\mathbb{R}$). Neste exemplo, trataremos de um conjunto de dados onde a variável objetivo é o preço mediano das casas em um determinado bairro, e temos acesso a uma única variável preditora que é a porcentagem da população daquele bairro que é considerada de baixa renda.\n",
    "\n",
    "Intuitivamente, sabemos que bairros com maior concentração de pessoas de baixa renda tem algum tipo de relação com um menor preço das casas naquele bairro."
   ]
  },
  {
   "cell_type": "markdown",
   "metadata": {
    "colab_type": "text",
    "id": "aEa3aLqRLGZF"
   },
   "source": [
    "Começaremos olhando para os nossos dados para ter uma ideia geral do problema que estamos lidando. A biblioteca `pandas` nos dá acesso a funções de tratamento de dados tabulares. Utilizamos essa biblioteca para importar nossos dados, olhar algumas estatísticas básicas e visualizar os dados."
   ]
  },
  {
   "cell_type": "code",
   "execution_count": 13,
   "metadata": {
    "colab": {
     "autoexec": {
      "startup": false,
      "wait_interval": 0
     }
    },
    "colab_type": "code",
    "id": "KyfKx80kLGZH"
   },
   "outputs": [],
   "source": [
    "import numpy as np\n",
    "import pandas as pd\n",
    "import matplotlib.pyplot as plt\n",
    "from scipy.stats import pearsonr\n",
    "from sklearn.linear_model import LinearRegression, Lasso\n",
    "from sklearn.metrics import r2_score, mean_absolute_error, mean_squared_error\n",
    "from sklearn.datasets import load_boston\n",
    "\n",
    "%matplotlib inline"
   ]
  },
  {
   "cell_type": "code",
   "execution_count": 14,
   "metadata": {},
   "outputs": [],
   "source": [
    "boston = load_boston()"
   ]
  },
  {
   "cell_type": "code",
   "execution_count": 15,
   "metadata": {},
   "outputs": [
    {
     "data": {
      "text/html": [
       "<div>\n",
       "<style scoped>\n",
       "    .dataframe tbody tr th:only-of-type {\n",
       "        vertical-align: middle;\n",
       "    }\n",
       "\n",
       "    .dataframe tbody tr th {\n",
       "        vertical-align: top;\n",
       "    }\n",
       "\n",
       "    .dataframe thead th {\n",
       "        text-align: right;\n",
       "    }\n",
       "</style>\n",
       "<table border=\"1\" class=\"dataframe\">\n",
       "  <thead>\n",
       "    <tr style=\"text-align: right;\">\n",
       "      <th></th>\n",
       "      <th>baixa renda</th>\n",
       "      <th>preço</th>\n",
       "    </tr>\n",
       "  </thead>\n",
       "  <tbody>\n",
       "    <tr>\n",
       "      <th>0</th>\n",
       "      <td>4.98</td>\n",
       "      <td>24.0</td>\n",
       "    </tr>\n",
       "    <tr>\n",
       "      <th>1</th>\n",
       "      <td>9.14</td>\n",
       "      <td>21.6</td>\n",
       "    </tr>\n",
       "    <tr>\n",
       "      <th>2</th>\n",
       "      <td>4.03</td>\n",
       "      <td>34.7</td>\n",
       "    </tr>\n",
       "    <tr>\n",
       "      <th>3</th>\n",
       "      <td>2.94</td>\n",
       "      <td>33.4</td>\n",
       "    </tr>\n",
       "    <tr>\n",
       "      <th>4</th>\n",
       "      <td>5.33</td>\n",
       "      <td>36.2</td>\n",
       "    </tr>\n",
       "  </tbody>\n",
       "</table>\n",
       "</div>"
      ],
      "text/plain": [
       "   baixa renda  preço\n",
       "0         4.98   24.0\n",
       "1         9.14   21.6\n",
       "2         4.03   34.7\n",
       "3         2.94   33.4\n",
       "4         5.33   36.2"
      ]
     },
     "execution_count": 15,
     "metadata": {},
     "output_type": "execute_result"
    }
   ],
   "source": [
    "dados = pd.DataFrame({'baixa renda': boston.data[:, -1],\n",
    "                      'preço': boston.target})\n",
    "dados.head()"
   ]
  },
  {
   "cell_type": "code",
   "execution_count": 16,
   "metadata": {
    "colab": {
     "autoexec": {
      "startup": false,
      "wait_interval": 0
     }
    },
    "colab_type": "code",
    "id": "g7IX747GLGZO",
    "outputId": "d4b7ce8e-1f20-43e6-b552-466e19e13f2d"
   },
   "outputs": [
    {
     "data": {
      "text/html": [
       "<div>\n",
       "<style scoped>\n",
       "    .dataframe tbody tr th:only-of-type {\n",
       "        vertical-align: middle;\n",
       "    }\n",
       "\n",
       "    .dataframe tbody tr th {\n",
       "        vertical-align: top;\n",
       "    }\n",
       "\n",
       "    .dataframe thead th {\n",
       "        text-align: right;\n",
       "    }\n",
       "</style>\n",
       "<table border=\"1\" class=\"dataframe\">\n",
       "  <thead>\n",
       "    <tr style=\"text-align: right;\">\n",
       "      <th></th>\n",
       "      <th>baixa renda</th>\n",
       "      <th>preço</th>\n",
       "    </tr>\n",
       "  </thead>\n",
       "  <tbody>\n",
       "    <tr>\n",
       "      <th>161</th>\n",
       "      <td>1.73</td>\n",
       "      <td>50.0</td>\n",
       "    </tr>\n",
       "    <tr>\n",
       "      <th>162</th>\n",
       "      <td>1.92</td>\n",
       "      <td>50.0</td>\n",
       "    </tr>\n",
       "    <tr>\n",
       "      <th>40</th>\n",
       "      <td>1.98</td>\n",
       "      <td>34.9</td>\n",
       "    </tr>\n",
       "    <tr>\n",
       "      <th>232</th>\n",
       "      <td>2.47</td>\n",
       "      <td>41.7</td>\n",
       "    </tr>\n",
       "    <tr>\n",
       "      <th>192</th>\n",
       "      <td>2.87</td>\n",
       "      <td>36.4</td>\n",
       "    </tr>\n",
       "  </tbody>\n",
       "</table>\n",
       "</div>"
      ],
      "text/plain": [
       "     baixa renda  preço\n",
       "161         1.73   50.0\n",
       "162         1.92   50.0\n",
       "40          1.98   34.9\n",
       "232         2.47   41.7\n",
       "192         2.87   36.4"
      ]
     },
     "execution_count": 16,
     "metadata": {},
     "output_type": "execute_result"
    }
   ],
   "source": [
    "dados = dados.sort_values(by='baixa renda')\n",
    "dados.head()"
   ]
  },
  {
   "cell_type": "code",
   "execution_count": 17,
   "metadata": {
    "colab": {
     "autoexec": {
      "startup": false,
      "wait_interval": 0
     }
    },
    "colab_type": "code",
    "id": "Qf8SYNc8LGZS",
    "outputId": "8a3664cb-dcb8-4203-d3bf-30d5e56c5e0e"
   },
   "outputs": [
    {
     "data": {
      "text/plain": [
       "(506, 2)"
      ]
     },
     "execution_count": 17,
     "metadata": {},
     "output_type": "execute_result"
    }
   ],
   "source": [
    "dados.shape"
   ]
  },
  {
   "cell_type": "code",
   "execution_count": 18,
   "metadata": {
    "colab": {
     "autoexec": {
      "startup": false,
      "wait_interval": 0
     }
    },
    "colab_type": "code",
    "id": "0X3B2idvLGZW",
    "outputId": "1d5fbef5-9214-4194-c3e0-00f652000c94"
   },
   "outputs": [
    {
     "data": {
      "text/html": [
       "<div>\n",
       "<style scoped>\n",
       "    .dataframe tbody tr th:only-of-type {\n",
       "        vertical-align: middle;\n",
       "    }\n",
       "\n",
       "    .dataframe tbody tr th {\n",
       "        vertical-align: top;\n",
       "    }\n",
       "\n",
       "    .dataframe thead th {\n",
       "        text-align: right;\n",
       "    }\n",
       "</style>\n",
       "<table border=\"1\" class=\"dataframe\">\n",
       "  <thead>\n",
       "    <tr style=\"text-align: right;\">\n",
       "      <th></th>\n",
       "      <th>baixa renda</th>\n",
       "      <th>preço</th>\n",
       "    </tr>\n",
       "  </thead>\n",
       "  <tbody>\n",
       "    <tr>\n",
       "      <th>count</th>\n",
       "      <td>506.000000</td>\n",
       "      <td>506.000000</td>\n",
       "    </tr>\n",
       "    <tr>\n",
       "      <th>mean</th>\n",
       "      <td>12.653063</td>\n",
       "      <td>22.532806</td>\n",
       "    </tr>\n",
       "    <tr>\n",
       "      <th>std</th>\n",
       "      <td>7.141062</td>\n",
       "      <td>9.197104</td>\n",
       "    </tr>\n",
       "    <tr>\n",
       "      <th>min</th>\n",
       "      <td>1.730000</td>\n",
       "      <td>5.000000</td>\n",
       "    </tr>\n",
       "    <tr>\n",
       "      <th>25%</th>\n",
       "      <td>6.950000</td>\n",
       "      <td>17.025000</td>\n",
       "    </tr>\n",
       "    <tr>\n",
       "      <th>50%</th>\n",
       "      <td>11.360000</td>\n",
       "      <td>21.200000</td>\n",
       "    </tr>\n",
       "    <tr>\n",
       "      <th>75%</th>\n",
       "      <td>16.955000</td>\n",
       "      <td>25.000000</td>\n",
       "    </tr>\n",
       "    <tr>\n",
       "      <th>max</th>\n",
       "      <td>37.970000</td>\n",
       "      <td>50.000000</td>\n",
       "    </tr>\n",
       "  </tbody>\n",
       "</table>\n",
       "</div>"
      ],
      "text/plain": [
       "       baixa renda       preço\n",
       "count   506.000000  506.000000\n",
       "mean     12.653063   22.532806\n",
       "std       7.141062    9.197104\n",
       "min       1.730000    5.000000\n",
       "25%       6.950000   17.025000\n",
       "50%      11.360000   21.200000\n",
       "75%      16.955000   25.000000\n",
       "max      37.970000   50.000000"
      ]
     },
     "execution_count": 18,
     "metadata": {},
     "output_type": "execute_result"
    }
   ],
   "source": [
    "dados.describe()"
   ]
  },
  {
   "cell_type": "code",
   "execution_count": 19,
   "metadata": {
    "colab": {
     "autoexec": {
      "startup": false,
      "wait_interval": 0
     }
    },
    "colab_type": "code",
    "id": "qwZH6AieLGZZ",
    "outputId": "4b3d5f90-d1e7-45b9-d469-54fed23f39c5"
   },
   "outputs": [
    {
     "data": {
      "image/png": "[encoded data removed]",
      "text/plain": [
       "<Figure size 432x288 with 1 Axes>"
      ]
     },
     "metadata": {},
     "output_type": "display_data"
    }
   ],
   "source": [
    "dados.plot.scatter('baixa renda', 'preço');"
   ]
  },
  {
   "cell_type": "code",
   "execution_count": 20,
   "metadata": {
    "colab": {
     "autoexec": {
      "startup": false,
      "wait_interval": 0
     }
    },
    "colab_type": "code",
    "id": "DmQH0jesLGZc",
    "outputId": "ee6013b0-65f4-4920-8ab0-8582f455d17c"
   },
   "outputs": [
    {
     "data": {
      "image/png": "[encoded data removed]",
      "text/plain": [
       "<Figure size 432x288 with 2 Axes>"
      ]
     },
     "metadata": {},
     "output_type": "display_data"
    }
   ],
   "source": [
    "dados.hist();"
   ]
  },
  {
   "cell_type": "code",
   "execution_count": 21,
   "metadata": {
    "colab": {
     "autoexec": {
      "startup": false,
      "wait_interval": 0
     }
    },
    "colab_type": "code",
    "id": "5HS1max7LGZl",
    "outputId": "a6521383-549b-48a0-ca2f-37718dccde0d"
   },
   "outputs": [
    {
     "data": {
      "image/png": "[encoded data removed]",
      "text/plain": [
       "<Figure size 432x288 with 2 Axes>"
      ]
     },
     "metadata": {},
     "output_type": "display_data"
    }
   ],
   "source": [
    "dados.hist(bins=5);"
   ]
  },
  {
   "cell_type": "markdown",
   "metadata": {
    "colab_type": "text",
    "id": "-q-kRFMsLGZp"
   },
   "source": [
    "## Coeficiente de correlação\n",
    "\n",
    "O coeficiente de correlação de Pearson, muitas vezes chamado somente de correlação ou de Pearson r, é uma estatística que calcula o quanto uma variável é linearmente dependente de outra. O valor varia entre -1 (indicando uma correlação perfeita negativa, ou seja, o aumento da variável independente causa uma redução na variável dependente) e 1 (similarmente uma correlação perfeita, mas positiva). O valor zero indica que não há correlação linear entre as variáveis.\n",
    "\n",
    "Existem outros tipos de correlação para outros casos, mas o coeficiente de Pearson é utilizado para dependências lineares.\n",
    "\n",
    "Em Python, temos a função de cálculo de correlação `pearsonr` dentro do pacote `scipy.stats`. A função retorna um par de números, sendo que o primeiro é o coeficiente de correlação (o segundo número é o p-valor, que ignoraremos)."
   ]
  },
  {
   "cell_type": "code",
   "execution_count": 22,
   "metadata": {
    "colab": {
     "autoexec": {
      "startup": false,
      "wait_interval": 0
     }
    },
    "colab_type": "code",
    "id": "rGhHfhu_LGZq",
    "outputId": "b9fd0b35-1a80-4b09-83e1-dbfae80b0530"
   },
   "outputs": [
    {
     "data": {
      "text/plain": [
       "-0.7376627261740151"
      ]
     },
     "execution_count": 22,
     "metadata": {},
     "output_type": "execute_result"
    }
   ],
   "source": [
    "pearsonr(dados['baixa renda'], dados['preço'])[0]"
   ]
  },
  {
   "cell_type": "code",
   "execution_count": 23,
   "metadata": {
    "colab": {
     "autoexec": {
      "startup": false,
      "wait_interval": 0
     }
    },
    "colab_type": "code",
    "id": "QNuV8XkSLGZw"
   },
   "outputs": [],
   "source": [
    "renda = dados['baixa renda'].values.reshape(-1, 1)\n",
    "preco = dados['preço'].values.reshape(-1, 1)"
   ]
  },
  {
   "cell_type": "markdown",
   "metadata": {
    "colab_type": "text",
    "id": "SkuSnvTBLGZz"
   },
   "source": [
    "## Algoritmos de regressão\n",
    "\n",
    "Como estamos interessados em regressão linear, os algoritmos utilizados retornarão uma reta, geralmente representada pela equação $y = mx + y_0$, onde estamos interessados em encontrar os valores $m$ e $y_0$. Na biblioteca `sklearn`, esses valores são chamados de `coef_` e `intercept_`."
   ]
  },
  {
   "cell_type": "markdown",
   "metadata": {
    "colab_type": "text",
    "id": "h6M4RK2OLGZ2"
   },
   "source": [
    "## Regressão linear simples"
   ]
  },
  {
   "cell_type": "code",
   "execution_count": 24,
   "metadata": {
    "colab": {
     "autoexec": {
      "startup": false,
      "wait_interval": 0
     }
    },
    "colab_type": "code",
    "id": "VQ0oLyk6LGZ4",
    "outputId": "abc2728b-5cac-4057-a08e-f43f7612ba40"
   },
   "outputs": [
    {
     "data": {
      "text/plain": [
       "(array([34.55384088]), array([-0.95004935]))"
      ]
     },
     "execution_count": 24,
     "metadata": {},
     "output_type": "execute_result"
    }
   ],
   "source": [
    "regressor = LinearRegression()\n",
    "regressor.fit(renda, preco)\n",
    "y0 = regressor.intercept_\n",
    "m = regressor.coef_[0]\n",
    "y0, m"
   ]
  },
  {
   "cell_type": "code",
   "execution_count": 25,
   "metadata": {
    "colab": {
     "autoexec": {
      "startup": false,
      "wait_interval": 0
     }
    },
    "colab_type": "code",
    "id": "tANPCDDZLGZ6",
    "outputId": "8f9490bc-6563-4129-a273-d0d6fdfd0753"
   },
   "outputs": [
    {
     "data": {
      "text/plain": [
       "array([[34.55384088]])"
      ]
     },
     "execution_count": 25,
     "metadata": {},
     "output_type": "execute_result"
    },
    {
     "data": {
      "image/png": "[encoded data removed]",
      "text/plain": [
       "<Figure size 432x288 with 1 Axes>"
      ]
     },
     "metadata": {},
     "output_type": "display_data"
    }
   ],
   "source": [
    "plt.scatter(renda, preco, marker='.')\n",
    "\n",
    "x = np.linspace(0, 40, 2).reshape(-1, 1)\n",
    "plt.plot(x, regressor.predict(x), c='r')\n",
    "\n",
    "plt.axvline(0, c='gray')\n",
    "f0 = regressor.predict(np.array([0]).reshape(-1, 1))\n",
    "plt.axhline(f0, c='gray')\n",
    "\n",
    "f0"
   ]
  },
  {
   "cell_type": "markdown",
   "metadata": {
    "colab_type": "text",
    "id": "In_0GMd5LGZ9"
   },
   "source": [
    "### Avaliando uma regressão\n",
    "\n",
    "Existem diversos cálculos para avaliar a qualidade de uma regressão. Comumente utilizados temos o fator $R^2$, a média dos erros absolutos, e a média dos erros quadrados. Todas essas funções estão disponíveis no módulo `sklearn.metrics`.\n",
    "\n",
    "O fator $R^2$, chamado de coeficiente de determinação, pode ser visto como quanto uma variável tem poder de predição sobre a outra. Para o caso da regressão linear, o $R^2$ é equivalente ao quadrado do coeficiente de Pearson.\n",
    "\n",
    "Utilizaremos a função `predict` do nosso regressor para encontrar os valores de `y` da reta nos pontos específicos onde há exemplos."
   ]
  },
  {
   "cell_type": "code",
   "execution_count": null,
   "metadata": {
    "colab": {
     "autoexec": {
      "startup": false,
      "wait_interval": 0
     }
    },
    "colab_type": "code",
    "id": "8w1gT_LKLGZ9",
    "outputId": "32a1b44a-142a-4b94-9cc6-d93c6d5161ce"
   },
   "outputs": [],
   "source": [
    "predito = regressor.predict(renda)\n",
    "r2_score(preco, predito)"
   ]
  },
  {
   "cell_type": "code",
   "execution_count": null,
   "metadata": {
    "colab": {
     "autoexec": {
      "startup": false,
      "wait_interval": 0
     }
    },
    "colab_type": "code",
    "id": "5TaylBTLLGZ_",
    "outputId": "37ea35b1-75db-4a99-d9e6-02b55a3748d5"
   },
   "outputs": [],
   "source": [
    "pearsonr(preco, renda)[0] ** 2"
   ]
  },
  {
   "cell_type": "code",
   "execution_count": null,
   "metadata": {
    "colab": {
     "autoexec": {
      "startup": false,
      "wait_interval": 0
     }
    },
    "colab_type": "code",
    "id": "CtgV682lLGaC",
    "outputId": "bce4c635-65d5-42cd-c59c-ce14da050089"
   },
   "outputs": [],
   "source": [
    "mean_absolute_error(preco, predito)"
   ]
  },
  {
   "cell_type": "code",
   "execution_count": null,
   "metadata": {
    "colab": {
     "autoexec": {
      "startup": false,
      "wait_interval": 0
     }
    },
    "colab_type": "code",
    "id": "XPHBd6_FLGaE",
    "outputId": "ab28bd08-e052-43cd-d21a-21dedec28745"
   },
   "outputs": [],
   "source": [
    "mean_squared_error(preco, predito)"
   ]
  },
  {
   "cell_type": "markdown",
   "metadata": {
    "colab_type": "text",
    "id": "MK06e1cjLGaJ"
   },
   "source": [
    "## Regressão linear com penalidade L1 (Lasso)\n",
    "\n",
    "Outros algoritmo comuns para regressão são Lasso e Ridge, que utilizam as penalidades L1 e L2, respectivamente, para regularizar os dados. Também existe o Elastic Net, que combina as duas penalidades.\n",
    "\n",
    "Esse tipo de regularização fazem com que valores muito fora do comum (_outliers_) sejam menos considerados, e os coeficientes tendem a ficar mais simples. Essa regularização é muito comum para quando há mais de uma variável preditora, mas utilizaremos aqui para mostrar o funcionamento.\n",
    "\n",
    "O algoritmo Lasso utiliza um hiper-parâmetro $\\alpha$ (alfa), com valor padrão 1.0, que determina quanto de penalidade deve ser aplicado. Quando esse valor tende a zero, o algoritmo se aproxima do algoritmo de regressão simples (mas não é recomendado fazer isso pois há instabilidade numérica)."
   ]
  },
  {
   "cell_type": "code",
   "execution_count": null,
   "metadata": {
    "colab": {
     "autoexec": {
      "startup": false,
      "wait_interval": 0
     }
    },
    "colab_type": "code",
    "id": "zPJLfrUQLGaJ",
    "outputId": "c8386d1c-61ea-4840-c8ec-01627b364d14"
   },
   "outputs": [],
   "source": [
    "regressor = Lasso(alpha=1.0).fit(renda, preco)\n",
    "y0 = regressor.intercept_\n",
    "m = regressor.coef_\n",
    "print(y0, m)\n",
    "\n",
    "x = np.linspace(0, 40, 2).reshape(-1, 1)\n",
    "plt.scatter(renda, preco, marker='.')\n",
    "plt.plot(x, regressor.predict(x), color='red');"
   ]
  },
  {
   "cell_type": "code",
   "execution_count": null,
   "metadata": {
    "colab": {
     "autoexec": {
      "startup": false,
      "wait_interval": 0
     }
    },
    "colab_type": "code",
    "id": "t5z2VcELLGaL",
    "outputId": "e252f965-8bd4-4d26-d53b-26dcd3d48b15"
   },
   "outputs": [],
   "source": [
    "predito = regressor.predict(renda)\n",
    "print('R^2', r2_score(preco, predito))\n",
    "print('MAE', mean_absolute_error(preco, predito))\n",
    "print('MSE', mean_squared_error(preco, predito))"
   ]
  },
  {
   "cell_type": "markdown",
   "metadata": {
    "colab_type": "text",
    "id": "GAuZoevkLGaN"
   },
   "source": [
    "Como podemos ver, o coeficiente mudou muito pouco, de -0.95 para -0.93. Os valores de erro também continuam praticamente iguais. Tentemos agora com valores diferentes de $\\alpha$."
   ]
  },
  {
   "cell_type": "code",
   "execution_count": null,
   "metadata": {
    "colab": {
     "autoexec": {
      "startup": false,
      "wait_interval": 0
     }
    },
    "colab_type": "code",
    "id": "KcjaIR-kLGaP",
    "outputId": "148592d9-712f-4209-ae47-9db558f15d36"
   },
   "outputs": [],
   "source": [
    "cores = ['red', 'green', 'black', 'gray']\n",
    "alfas = [0.1, 0.5, 0.8, 1.5]\n",
    "\n",
    "plt.scatter(renda, preco, marker='.')\n",
    "\n",
    "for cor, alfa in zip(cores, alfas):\n",
    "    regressor = Lasso(alpha=alfa).fit(renda, preco)\n",
    "    y0 = regressor.intercept_\n",
    "    m = regressor.coef_[0]\n",
    "    \n",
    "    predito = regressor.predict(renda)\n",
    "    r2 = r2_score(preco, predito)\n",
    "    mae = mean_absolute_error(preco, predito)\n",
    "    mse = mean_squared_error(preco, predito)\n",
    "    print(f'''\n",
    "    y0: {y0}\n",
    "    m: {m}\n",
    "    R^2: {r2}\n",
    "    Erro absoluto: {mae}\n",
    "    Erro quadrado: {mse}\n",
    "    ''')\n",
    "    \n",
    "    plt.plot(x, regressor.predict(x), color=cor)"
   ]
  },
  {
   "cell_type": "markdown",
   "metadata": {
    "colab_type": "text",
    "id": "SoFjHJbtLGaT"
   },
   "source": [
    "Alterações em $\\alpha$ causam poucas variações da reta gerada.\n",
    "\n",
    "É importante notar que as avaliações de algoritmos de aprendizado geralmente não são aplicadas no mesmo conjunto de dados utilizado para treinar o algoritmo, como estamos fazendo aqui. Mais para frente utilizaremos avaliações menos ingênuas."
   ]
  },
  {
   "cell_type": "markdown",
   "metadata": {
    "colab_type": "text",
    "id": "eYACWcisLGaU"
   },
   "source": [
    "## Alteração de atributos / atributos não-lineares\n",
    "\n",
    "Um problema comum em ciência de dados é encontrar os atributos corretos. Muitas vezes, podemos aplicar funções matemáticas para alterar ou combinar os atributos que temos em mãos para encontrar modelos superiores.\n",
    "\n",
    "Podemos pensar, existe algum outro tipo de função que se adequaria melhor aos nossos dados do que uma reta? Para quem está acostumado com a função $\\log$, a distribuição dos nossos dados se assemelha um pouco com a função $\\log$ aplicada no inverso do número, como podemos visualizar abaixo."
   ]
  },
  {
   "cell_type": "code",
   "execution_count": null,
   "metadata": {
    "colab": {
     "autoexec": {
      "startup": false,
      "wait_interval": 0
     }
    },
    "colab_type": "code",
    "id": "-xkpycPoLGaW",
    "outputId": "ddec3e93-96a8-41a2-85a3-b81ffc7f58db"
   },
   "outputs": [],
   "source": [
    "x = np.linspace(3, 100, 100)\n",
    "y = np.log(1 / x)\n",
    "plt.plot(x, y);"
   ]
  },
  {
   "cell_type": "markdown",
   "metadata": {
    "colab_type": "text",
    "id": "CuOdnDwjLGab"
   },
   "source": [
    "Como podemos fazer para ajustar uma curva logarítmica aos nossos dados? A resposta é que não precisamos! Basta alterar os atributos para que estejam em espaço log, e então aplicar uma regressão linear."
   ]
  },
  {
   "cell_type": "code",
   "execution_count": null,
   "metadata": {
    "colab": {
     "autoexec": {
      "startup": false,
      "wait_interval": 0
     }
    },
    "colab_type": "code",
    "id": "FDMw8hfeLGab",
    "outputId": "065f85e6-5b72-455f-8611-380b0795a6ae"
   },
   "outputs": [],
   "source": [
    "plt.scatter(np.log(renda), preco, marker='.');"
   ]
  },
  {
   "cell_type": "code",
   "execution_count": null,
   "metadata": {
    "colab": {
     "autoexec": {
      "startup": false,
      "wait_interval": 0
     }
    },
    "colab_type": "code",
    "id": "0PZYCNu3LGae",
    "outputId": "49c626ca-9ea6-4984-aec3-fa9dc04a5f9a"
   },
   "outputs": [],
   "source": [
    "pearsonr(np.log(renda), preco)[0]"
   ]
  },
  {
   "cell_type": "markdown",
   "metadata": {
    "colab_type": "text",
    "id": "U0hU0tXsLGag"
   },
   "source": [
    "Como podemos ver, o coeficiente de correlação foi de -0.737 para -0.815, indicando que agora há uma relação _linear_ mais forte entre as variáveis."
   ]
  },
  {
   "cell_type": "code",
   "execution_count": null,
   "metadata": {
    "colab": {
     "autoexec": {
      "startup": false,
      "wait_interval": 0
     }
    },
    "colab_type": "code",
    "id": "4pJifg1yLGaj",
    "outputId": "ba2f6e09-7495-4767-8064-61756cb4a67f"
   },
   "outputs": [],
   "source": [
    "cores = ['red', 'green', 'black', 'gray', 'yellow']\n",
    "alfas = [0.1, 0.5, 0.8, 1.0, 1.5]\n",
    "\n",
    "plt.scatter(np.log(renda), preco, marker='.')\n",
    "\n",
    "for cor, alfa in zip(cores, alfas):\n",
    "    regressor = Lasso(alpha=alfa).fit(np.log(renda), preco)\n",
    "    y0 = regressor.intercept_\n",
    "    m = regressor.coef_[0]\n",
    "    \n",
    "    predito = regressor.predict(np.log(renda))\n",
    "    r2 = r2_score(preco, predito)\n",
    "    mae = mean_absolute_error(preco, predito)\n",
    "    mse = mean_squared_error(preco, predito)\n",
    "    print(f'''\n",
    "    y0: {y0}\n",
    "    m: {m}\n",
    "    R^2: {r2}\n",
    "    Erro absoluto: {mae}\n",
    "    Erro quadrado: {mse}\n",
    "    ''')\n",
    "    \n",
    "    x = np.linspace(0, np.log(40), 200).reshape(-1, 1)\n",
    "    plt.plot(x, regressor.predict(x), color=cor)"
   ]
  },
  {
   "cell_type": "code",
   "execution_count": null,
   "metadata": {
    "colab": {
     "autoexec": {
      "startup": false,
      "wait_interval": 0
     }
    },
    "colab_type": "code",
    "id": "XTVyHdmmLGan",
    "outputId": "d9268843-75fc-46cb-eccc-20b48f3a70ea"
   },
   "outputs": [],
   "source": [
    "regressor = LinearRegression().fit(np.log(renda), preco)\n",
    "x = np.linspace(renda.min(), renda.max(), 300).reshape(-1, 1)\n",
    "y = regressor.predict(np.log(x))\n",
    "\n",
    "plt.scatter(renda, preco, marker='.')\n",
    "plt.plot(x, y, c='r');"
   ]
  },
  {
   "cell_type": "markdown",
   "metadata": {
    "colab_type": "text",
    "id": "M5Dio72uLGap"
   },
   "source": [
    "## Regressão polinomial\n",
    "\n",
    "Contraintuitivamente, regressão polinomial é só um caso específico de regressão linear. A regressão linear pode ser, e geralmente é feita, utilizando mais de uma variável preditora, permitindo modelos mais complexos. Nesse caso, a equação da reta em múltiplas dimensões passa a ser $y = y_0 + m_0x_0 + m_1x_1 + m_2x_2 + \\ldots + m_nx_n$. Os valores de $x$ são os valores observados das variáveis; o algoritmo de regressão é responsável por achar o valor $y_0$ e todos os valores dos coeficientes $m$.\n",
    "\n",
    "Consideremos agora que temos somente uma variável preditora, como no conjunto de dados que estamos tratando. Podemos modificar a variável preditora como fizemos com a operação $\\log$, gerando várias variáveis que podem ser usadas em uma regressão linear multidimensional, como acima. No caso específico que modificamos nossa variável preditora $x$ utilizando suas potências, ficamos com as variáveis preditoras $x, x^2, x^3, ..., x^n$, para um determinado $n$ que escolhermos. Assim, a equação da \"reta\" ajustada passa a ser $y = y_0 + m_0x + m_1x^2 + m_2x^3 + ... + m_nx^{n+1}$, um polinômio de grau $n+1$.\n",
    "\n",
    "Vamos começar ajustando um polinômio de grau 2 (uma parábola) aos nossos dados, e comparar com um polinômio de grau 14.\n",
    "\n",
    "Trivia: o nome regressão linear se refere a uma combinação linear entre as variáveis, e não porque se ajusta uma linha. Por isso a regressão polinomial é uma regressão linear. A equação da regressão polinomial no primeiro parágrafo dessa célula também pode ser escrita como $y - y_0 = \\vec{m} \\cdot \\vec{x} = \\sum m_i x_i$, onde o lado direito da equação é a forma canônica da combinação linear. Mesmo que as variáveis sejam alteradas por diversas funções não-lineares, como fizemos com $\\log$ anteriormente, a combinação entre os atributos é sempre feita nessa forma linear, multiplicando os coeficientes pelos valores de atributos, e somando o resultado. No caso polinomial, temos $x_i = x^i$."
   ]
  },
  {
   "cell_type": "code",
   "execution_count": null,
   "metadata": {
    "colab": {
     "autoexec": {
      "startup": false,
      "wait_interval": 0
     }
    },
    "colab_type": "code",
    "id": "hDDzTY-4LGap",
    "outputId": "6e76fd51-683f-4d2f-8d85-dba0e59748b7"
   },
   "outputs": [],
   "source": [
    "x1 = renda\n",
    "x2 = renda ** 2\n",
    "x = np.hstack([x1, x2])\n",
    "regressor = LinearRegression().fit(x, preco)\n",
    "y0 = regressor.intercept_\n",
    "m = regressor.coef_\n",
    "print(y0, m)\n",
    "\n",
    "curva = regressor.predict(x)\n",
    "print(r2_score(preco, curva), mean_absolute_error(preco, curva), mean_squared_error(preco, curva))\n",
    "\n",
    "plt.scatter(renda, preco)\n",
    "plt.plot(renda, curva, c='red');"
   ]
  },
  {
   "cell_type": "code",
   "execution_count": null,
   "metadata": {
    "colab": {
     "autoexec": {
      "startup": false,
      "wait_interval": 0
     }
    },
    "colab_type": "code",
    "id": "6YxqY91oLGar",
    "outputId": "43e701fc-472b-4ad0-9085-4b4ba99605af"
   },
   "outputs": [],
   "source": [
    "x_l = [renda]\n",
    "for potencia in range(2, 15):\n",
    "    x_l.append(renda ** potencia)\n",
    "\n",
    "x = np.hstack(x_l)\n",
    "regressor = LinearRegression().fit(x, preco)\n",
    "print(regressor.coef_)\n",
    "curva = regressor.predict(x)\n",
    "print(r2_score(preco, curva), mean_absolute_error(preco, curva), mean_squared_error(preco, curva))\n",
    "plt.scatter(renda, preco)\n",
    "plt.plot(renda, curva, c='red');"
   ]
  },
  {
   "cell_type": "markdown",
   "metadata": {
    "colab_type": "text",
    "id": "_GQCeFTKLGau"
   },
   "source": [
    "Apesar do polinômio de grau 14 ser um modelo mais complexo, seu erro é maior que os polinômios de grau 1 (reta) e 2. Isso acontece porque o modelo está _superajustado_ (_overfitted_) aos dados representados, e não generaliza a tendência dos dados. Nesses casos, podemos utilizar as penalidades L1 e L2 como discutidos anteriormente.\n",
    "\n",
    "(Pode ser que um aviso de `ConvergenceWarning` seja mostrado; não é um erro do programa, mas sim um aviso de que o resultado pode ser numericamente instável devido à alta dimensão)."
   ]
  },
  {
   "cell_type": "code",
   "execution_count": null,
   "metadata": {
    "colab": {
     "autoexec": {
      "startup": false,
      "wait_interval": 0
     }
    },
    "colab_type": "code",
    "id": "sXSjpS1vLGav",
    "outputId": "7f21e58d-54b6-4f06-f97a-125a471860c8"
   },
   "outputs": [],
   "source": [
    "cores = ['red', 'green', 'black', 'gray', 'yellow']\n",
    "alfas = [0.1, 0.5, 0.8, 1.0, 1.5]\n",
    "\n",
    "plt.scatter(renda, preco)\n",
    "\n",
    "for cor, alfa in zip(cores, alfas):\n",
    "    regressor = Lasso(alpha=alfa)\n",
    "    regressor.fit(x, preco)\n",
    "    \n",
    "    predito = regressor.predict(x)\n",
    "    print(r2_score(preco, predito), mean_squared_error(preco, predito))\n",
    "    \n",
    "    graphx = np.linspace(0, np.log(40), 200).reshape(-1, 1)\n",
    "    plt.plot(renda, predito, color=cor)"
   ]
  },
  {
   "cell_type": "markdown",
   "metadata": {
    "colab_type": "text",
    "id": "Ftsw3mqQLGax"
   },
   "source": [
    "Apesar da curva gerada ser um polinômio de grau 14, sua aparência é muito similar à parabola que geramos anteriormente. Dessa forma, o modelo consegue representar curvas mais complexas, mas tem uma tendência a utilizar formas mais simples, generalizando a tendência dos dados."
   ]
  }
 ],
 "metadata": {
  "colab": {
   "default_view": {},
   "name": "regressao-linear.ipynb",
   "provenance": [],
   "version": "0.3.2",
   "views": {}
  },
  "kernelspec": {
   "display_name": "Python 3",
   "language": "python",
   "name": "python3"
  },
  "language_info": {
   "codemirror_mode": {
    "name": "ipython",
    "version": 3
   },
   "file_extension": ".py",
   "mimetype": "text/x-python",
   "name": "python",
   "nbconvert_exporter": "python",
   "pygments_lexer": "ipython3",
   "version": "3.6.6"
  }
 },
 "nbformat": 4,
 "nbformat_minor": 1
}
