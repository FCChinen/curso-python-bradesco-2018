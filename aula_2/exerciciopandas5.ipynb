{
 "cells": [
  {
   "cell_type": "code",
   "execution_count": 40,
   "metadata": {},
   "outputs": [
    {
     "name": "stdout",
     "output_type": "stream",
     "text": [
      "True\n",
      "True\n",
      "True\n",
      "True\n"
     ]
    }
   ],
   "source": [
    "import numpy as np\n",
    "import pandas as pd\n",
    "from sklearn.datasets import load_iris\n",
    "\n",
    "iris = load_iris()\n",
    "\n",
    "dados = pd.DataFrame(iris.data, columns=['sepal length', 'sepal width', 'petal length', 'petal width'])\n",
    "\n",
    "IQRsl = dados['sepal length'].quantile(.75) - dados['sepal length'].quantile(.25)\n",
    "IQRsw = dados['sepal width'].quantile(.75) - dados['sepal width'].quantile(.25)\n",
    "IQRpl = dados['petal length'].quantile(.75) - dados['petal length'].quantile(.25)\n",
    "IQRpw = dados['petal width'].quantile(.75) - dados['petal width'].quantile(.25)\n",
    "\n",
    "x = dados.describe()\n",
    "\n",
    "iqrSepalLength = x['sepal length'][6] - x['sepal length'][4]\n",
    "iqrSepalWidth = x['sepal width'][6] - x['sepal width'][4]\n",
    "iqrPetalWidth = x['petal width'][6] - x['petal width'][4]\n",
    "iqrPetalLength = x['petal length'][6] - x['petal length'][4]\n",
    "\n",
    "#Checkando\n",
    "\n",
    "print(IQRsl == iqrSepalLength)\n",
    "print(IQRsw == iqrSepalWidth)\n",
    "print(IQRpl == iqrPetalLength)\n",
    "print(IQRpw == iqrPetalWidth)"
   ]
  },
  {
   "cell_type": "code",
   "execution_count": null,
   "metadata": {},
   "outputs": [],
   "source": []
  }
 ],
 "metadata": {
  "kernelspec": {
   "display_name": "Python 3",
   "language": "python",
   "name": "python3"
  },
  "language_info": {
   "codemirror_mode": {
    "name": "ipython",
    "version": 3
   },
   "file_extension": ".py",
   "mimetype": "text/x-python",
   "name": "python",
   "nbconvert_exporter": "python",
   "pygments_lexer": "ipython3",
   "version": "3.6.6"
  }
 },
 "nbformat": 4,
 "nbformat_minor": 2
}
