{
 "cells": [
  {
   "cell_type": "markdown",
   "metadata": {
    "colab_type": "text",
    "id": "Ey9im6-sczJf"
   },
   "source": [
    "**Exercício 1**: Crie um `DataFrame` com 20 linhas e 3 colunas, onde\n",
    "\n",
    "- uma coluna \"x\" possui números reais aleatórios entre 1 e 10\n",
    "- uma coluna \"y\" possui os inteiros entre 0 e 19, em ordem\n",
    "- uma coluna \"z\" categórica com o valor \"Maior\" onde $x > 4$ e \"Menor\" onde $x \\leq 4$\n",
    "\n",
    "Dica: a função `np.vectorize` pode ajudar a transformar um vetor de números em um de texto.\n",
    "\n",
    "**Exercício 2**: calcule quantas linhas tem o valor z Maior e y é par\n",
    "\n",
    "**Exercício 3**: calcule a média dos valores de x onde z é Menor"
   ]
  },
  {
   "cell_type": "markdown",
   "metadata": {
    "colab_type": "text",
    "id": "_kssRdEUg3PR"
   },
   "source": [
    "Para os próximos exercícios, utilize o código abaixo para importar a base de dados Iris em um DataFrame (não é necessário fazer `import`s que você já fez)."
   ]
  },
  {
   "cell_type": "code",
   "execution_count": 12,
   "metadata": {
    "colab": {
     "autoexec": {
      "startup": false,
      "wait_interval": 0
     }
    },
    "colab_type": "code",
    "id": "4uSyJDKQcqJm"
   },
   "outputs": [],
   "source": [
    "import numpy as np\n",
    "import pandas as pd\n",
    "from sklearn.datasets import load_iris"
   ]
  },
  {
   "cell_type": "code",
   "execution_count": 13,
   "metadata": {
    "colab": {
     "autoexec": {
      "startup": false,
      "wait_interval": 0
     },
     "base_uri": "https://localhost:8080/",
     "height": 206
    },
    "colab_type": "code",
    "executionInfo": {
     "elapsed": 602,
     "status": "ok",
     "timestamp": 1530544255870,
     "user": {
      "displayName": "Diorge Brognara",
      "photoUrl": "https://lh3.googleusercontent.com/a/default-user=s128",
      "userId": "102180740426822979922"
     },
     "user_tz": 180
    },
    "id": "2S-lS4PVhPbf",
    "outputId": "117fe7c8-2c0e-4fac-d28a-43ce782b7b64"
   },
   "outputs": [
    {
     "data": {
      "text/html": [
       "<div>\n",
       "<style scoped>\n",
       "    .dataframe tbody tr th:only-of-type {\n",
       "        vertical-align: middle;\n",
       "    }\n",
       "\n",
       "    .dataframe tbody tr th {\n",
       "        vertical-align: top;\n",
       "    }\n",
       "\n",
       "    .dataframe thead th {\n",
       "        text-align: right;\n",
       "    }\n",
       "</style>\n",
       "<table border=\"1\" class=\"dataframe\">\n",
       "  <thead>\n",
       "    <tr style=\"text-align: right;\">\n",
       "      <th></th>\n",
       "      <th>sepal length</th>\n",
       "      <th>sepal width</th>\n",
       "      <th>petal length</th>\n",
       "      <th>petal width</th>\n",
       "      <th>classe</th>\n",
       "    </tr>\n",
       "  </thead>\n",
       "  <tbody>\n",
       "    <tr>\n",
       "      <th>0</th>\n",
       "      <td>5.1</td>\n",
       "      <td>3.5</td>\n",
       "      <td>1.4</td>\n",
       "      <td>0.2</td>\n",
       "      <td>Setosa</td>\n",
       "    </tr>\n",
       "    <tr>\n",
       "      <th>1</th>\n",
       "      <td>4.9</td>\n",
       "      <td>3.0</td>\n",
       "      <td>1.4</td>\n",
       "      <td>0.2</td>\n",
       "      <td>Setosa</td>\n",
       "    </tr>\n",
       "    <tr>\n",
       "      <th>2</th>\n",
       "      <td>4.7</td>\n",
       "      <td>3.2</td>\n",
       "      <td>1.3</td>\n",
       "      <td>0.2</td>\n",
       "      <td>Setosa</td>\n",
       "    </tr>\n",
       "    <tr>\n",
       "      <th>3</th>\n",
       "      <td>4.6</td>\n",
       "      <td>3.1</td>\n",
       "      <td>1.5</td>\n",
       "      <td>0.2</td>\n",
       "      <td>Setosa</td>\n",
       "    </tr>\n",
       "    <tr>\n",
       "      <th>4</th>\n",
       "      <td>5.0</td>\n",
       "      <td>3.6</td>\n",
       "      <td>1.4</td>\n",
       "      <td>0.2</td>\n",
       "      <td>Setosa</td>\n",
       "    </tr>\n",
       "  </tbody>\n",
       "</table>\n",
       "</div>"
      ],
      "text/plain": [
       "   sepal length  sepal width  petal length  petal width  classe\n",
       "0           5.1          3.5           1.4          0.2  Setosa\n",
       "1           4.9          3.0           1.4          0.2  Setosa\n",
       "2           4.7          3.2           1.3          0.2  Setosa\n",
       "3           4.6          3.1           1.5          0.2  Setosa\n",
       "4           5.0          3.6           1.4          0.2  Setosa"
      ]
     },
     "execution_count": 13,
     "metadata": {},
     "output_type": "execute_result"
    }
   ],
   "source": [
    "iris = load_iris()\n",
    "dados = pd.DataFrame(iris.data, columns=['sepal length', 'sepal width', 'petal length', 'petal width'])\n",
    "\n",
    "def classe(c):\n",
    "  if c == 0:\n",
    "    return 'Setosa'\n",
    "  elif c == 1:\n",
    "    return 'Versicolor'\n",
    "  else:\n",
    "    return 'Virginica'\n",
    "\n",
    "dados['classe'] = pd.Categorical(np.vectorize(classe)(iris.target))\n",
    "dados.head()"
   ]
  },
  {
   "cell_type": "markdown",
   "metadata": {
    "colab_type": "text",
    "id": "4qmZWAJNlDsp"
   },
   "source": [
    "**Exercício 4**: Utilizando somente as variáveis \"petal length\" e \"petal width\", é possível com uma única reta separar perfeitamente uma das três classes? Responda gerando o gráfico de dispersão dessas variáveis, colocando os marcadores de cada classe com uma cor diferente.\n",
    "\n",
    "Dica: lembre-se de usar o parâmetro `ax` para juntar os gráficos em uma única imagem.\n",
    "\n",
    "**Exercício 5**: Chamamos de intervalo inter-quartil (_interquartile range_, IQR) a diferença entre o terceiro quartil (75%, $Q_3$) e o primeiro quartil (25%, $Q_1$): ${IQR} = Q_3 - Q_1$. Calcule o IQR das quatro variáveis da base Iris.\n",
    "\n",
    "Dica: A função `describe` retorna um DataFrame onde ambos os índices são textuais."
   ]
  },
  {
   "cell_type": "code",
   "execution_count": 14,
   "metadata": {},
   "outputs": [
    {
     "name": "stdout",
     "output_type": "stream",
     "text": [
      "X: [7 8 5 3 2 7 7 5 6 3 3 2 5 3 2 4 3 5 2 2]\n",
      "Y: [ 0  1  2  3  4  5  6  7  8  9 10 11 12 13 14 15 16 17 18 19]\n",
      "Z: ['Maior' 'Maior' 'Maior' 'Menor' 'Menor' 'Maior' 'Maior' 'Maior' 'Maior'\n",
      " 'Menor' 'Menor' 'Menor' 'Maior' 'Menor' 'Menor' 'Menor' 'Menor' 'Maior'\n",
      " 'Menor' 'Menor']\n"
     ]
    }
   ],
   "source": [
    "# Exercicio 1\n",
    "\n",
    "# Definindo a função para categorizar a coluna z\n",
    "def acharz(x):\n",
    "    if x > 4:\n",
    "        return \"Maior\"\n",
    "    else:\n",
    "        return \"Menor\"\n",
    "    \n",
    "# Criando um vetor de tamanho 20 com valores aleatórios no intervalo [1,10], do tipo int64, c\n",
    "x = np.random.randint(1,10,20, dtype = \"int64\")\n",
    "\n",
    "# Criando um vetor em ordem, com passo 1, de 0 a 19(Ou [0,20[)\n",
    "y = np.arange(0,20)\n",
    "\n",
    "# Utilizando a função vectorize da biblioteca numpy, para categorizar o vetor z\n",
    "z = np.vectorize(acharz)(x)\n",
    "\n",
    "# Print dos vetores\n",
    "print(\"X:\",x)\n",
    "print(\"Y:\",y)\n",
    "print(\"Z:\",z)"
   ]
  },
  {
   "cell_type": "code",
   "execution_count": 15,
   "metadata": {},
   "outputs": [
    {
     "name": "stdout",
     "output_type": "stream",
     "text": [
      "['Maior' 'Maior' 'Maior' 'Menor' 'Menor' 'Maior' 'Maior' 'Maior' 'Maior'\n",
      " 'Menor' 'Menor' 'Menor' 'Maior' 'Menor' 'Menor' 'Menor' 'Menor' 'Maior'\n",
      " 'Menor' 'Menor']\n",
      "[ 0  1  2  3  4  5  6  7  8  9 10 11 12 13 14 15 16 17 18 19]\n",
      "5\n"
     ]
    }
   ],
   "source": [
    "# Exercicio 2\n",
    "\n",
    "# Criando a variavel contador e inicializando o seu valor para 0\n",
    "contador = 0\n",
    "# Para cada valor i na range do tamanho do vetor y\n",
    "for i in range(len(y)):\n",
    "    # Se o valor armazenado no vetor y de indice i for par E o o vetor z tem armazenado nessa posição \"Maior\", então\n",
    "    #é adicionado mais 1 ao contador\n",
    "    if (((y[i] % 2) == 0) and (z[i] == \"Maior\")):\n",
    "        contador += 1\n",
    "        \n",
    "# Prints dos vetores\n",
    "print(z)\n",
    "print(y)\n",
    "\n",
    "# Print do contador\n",
    "print(contador)"
   ]
  },
  {
   "cell_type": "code",
   "execution_count": 16,
   "metadata": {},
   "outputs": [
    {
     "name": "stdout",
     "output_type": "stream",
     "text": [
      "12.0\n"
     ]
    }
   ],
   "source": [
    "# Exercício 3\n",
    "\n",
    "# Calcula a média dos valores em que o vetor z tem o valor \"Menor\"\n",
    "media = y[z == \"Menor\"].mean()\n",
    "print(media)"
   ]
  },
  {
   "cell_type": "code",
   "execution_count": 17,
   "metadata": {},
   "outputs": [
    {
     "data": {
      "text/plain": [
       "<matplotlib.axes._subplots.AxesSubplot at 0x7f85ca8bcda0>"
      ]
     },
     "execution_count": 17,
     "metadata": {},
     "output_type": "execute_result"
    },
    {
     "data": {
      "image/png": "[encoded data removed]",
      "text/plain": [
       "<Figure size 432x288 with 1 Axes>"
      ]
     },
     "metadata": {},
     "output_type": "display_data"
    }
   ],
   "source": [
    "# Exercício 4\n",
    "\n",
    "# Armazenando as plantas de mesmo tipo em classes diferentes.\n",
    "classe1 = dados[dados['classe'] == 'Setosa']\n",
    "classe2 = dados[dados['classe'] == 'Versicolor']\n",
    "classe3 = dados[dados['classe'] == 'Virginica']\n",
    "\n",
    "#Plotando no mesmo gráfico, no entanto, com cores diferentes, as diferentes plantas\n",
    "ax = classe1.plot.scatter(['petal length'], ['petal width'], color = 'red')\n",
    "classe2.plot.scatter(['petal length'], ['petal width'], color = 'blue', ax = ax)\n",
    "classe3.plot.scatter(['petal length'], ['petal width'], color = 'black', ax = ax)"
   ]
  },
  {
   "cell_type": "code",
   "execution_count": null,
   "metadata": {},
   "outputs": [],
   "source": [
    "# Exercício 5\n",
    "\n",
    "# Calculando o IQR utilizando a função quantile da bibliotera pandas\n",
    "IQRsl = dados['sepal length'].quantile(.75) - dados['sepal length'].quantile(.25)\n",
    "IQRsw = dados['sepal width'].quantile(.75) - dados['sepal width'].quantile(.25)\n",
    "IQRpl = dados['petal length'].quantile(.75) - dados['petal length'].quantile(.25)\n",
    "IQRpw = dados['petal width'].quantile(.75) - dados['petal width'].quantile(.25)\n",
    "\n",
    "# Armazenando no vetor plantas, a descrição dos dados\n",
    "plantas = dados.describe()\n",
    "\n",
    "# Utilizando os valores recebidos pela descrição para obter o IQR\n",
    "iqrSepalLength = plantas['sepal length'][6] - plantas['sepal length'][4]\n",
    "iqrSepalWidth = plantas['sepal width'][6] - plantas['sepal width'][4]\n",
    "iqrPetalWidth = plantas['petal width'][6] - plantas['petal width'][4]\n",
    "iqrPetalLength = plantas['petal length'][6] - plantas['petal length'][4]\n",
    "\n",
    "# Checando os valores\n",
    "\n",
    "print(IQRsl == iqrSepalLength)\n",
    "print(IQRsw == iqrSepalWidth)\n",
    "print(IQRpl == iqrPetalLength)\n",
    "print(IQRpw == iqrPetalWidth)"
   ]
  }
 ],
 "metadata": {
  "colab": {
   "collapsed_sections": [],
   "default_view": {},
   "name": "exercicios-pandas-aula2.ipynb",
   "provenance": [],
   "version": "0.3.2",
   "views": {}
  },
  "kernelspec": {
   "display_name": "Python 3",
   "language": "python",
   "name": "python3"
  },
  "language_info": {
   "codemirror_mode": {
    "name": "ipython",
    "version": 3
   },
   "file_extension": ".py",
   "mimetype": "text/x-python",
   "name": "python",
   "nbconvert_exporter": "python",
   "pygments_lexer": "ipython3",
   "version": "3.6.6"
  }
 },
 "nbformat": 4,
 "nbformat_minor": 1
}
