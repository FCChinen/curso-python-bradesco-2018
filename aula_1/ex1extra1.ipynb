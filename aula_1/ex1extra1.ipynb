{
 "cells": [
  {
   "cell_type": "code",
   "execution_count": 1,
   "metadata": {},
   "outputs": [
    {
     "name": "stdout",
     "output_type": "stream",
     "text": [
      "Desvio do numpy: 2.0\n",
      "Desvio padrao 1: 2.0\n",
      "Desvio padrao 2: 2.0\n"
     ]
    }
   ],
   "source": [
    "import numpy as np\n",
    "\n",
    "def desviopadrao1(array_pontos):\n",
    "\tdesv = 0\n",
    "\tmed = np.mean(array_pontos)\n",
    "\tfor ponto in array_pontos:\n",
    "\t\taux = ponto - med\n",
    "\t\taux = np.power(aux,2)\n",
    "\t\tdesv += aux\n",
    "\tdesv = desv/len(array_pontos)\n",
    "\tdesv = np.power(desv,0.5)\n",
    "\treturn desv\n",
    "\n",
    "def desviopadrao2(array_pontos):\n",
    "\tmed1 = np.power(np.mean(array_pontos),2)\n",
    "\tmed2 = np.mean(np.power(array_pontos,2))\n",
    "\tdesv = med2 - med1\n",
    "\tdesv = np.power(desv,0.5)\n",
    "\treturn desv\n",
    "\n",
    "def main():\t\n",
    "\ta = np.array([2, 4, 4, 4, 5, 5, 7, 9])\n",
    "\tprint(\"Desvio do numpy: \"+ str(np.std(a)))\n",
    "\tprint(\"Desvio padrao 1: \"+ str(desviopadrao1(a)))\n",
    "\tprint(\"Desvio padrao 2: \"+ str(desviopadrao2(a)))\t\n",
    "if __name__ == \"__main__\":\n",
    "\tmain()"
   ]
  },
  {
   "cell_type": "code",
   "execution_count": null,
   "metadata": {},
   "outputs": [],
   "source": []
  }
 ],
 "metadata": {
  "kernelspec": {
   "display_name": "Python 3",
   "language": "python",
   "name": "python3"
  },
  "language_info": {
   "codemirror_mode": {
    "name": "ipython",
    "version": 3
   },
   "file_extension": ".py",
   "mimetype": "text/x-python",
   "name": "python",
   "nbconvert_exporter": "python",
   "pygments_lexer": "ipython3",
   "version": "3.6.6"
  }
 },
 "nbformat": 4,
 "nbformat_minor": 2
}
