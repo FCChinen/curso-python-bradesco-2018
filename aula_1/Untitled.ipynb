{
 "cells": [
  {
   "cell_type": "code",
   "execution_count": 2,
   "metadata": {},
   "outputs": [
    {
     "name": "stdout",
     "output_type": "stream",
     "text": [
      "-0.03640211862242012\n"
     ]
    }
   ],
   "source": [
    "import numpy as np\n",
    "N = 500\n",
    "div = N * 0.25\n",
    "vetor_aleatorio = np.random.rand(N, 2)\n",
    "vetor_aleatorio -= 0.5\n",
    "vetor_aleatorio = np.power(vetor_aleatorio,2)\n",
    "vetor_auxiliar = \n",
    "vet_bol = vetor_aleatorio[np.power(vetor_aleatorio,2) <= 0.25]\n",
    "contador = np.sum(vet_bol)\n",
    "aprox = contador/div\n",
    "print(str(aprox))"
   ]
  },
  {
   "cell_type": "code",
   "execution_count": null,
   "metadata": {},
   "outputs": [],
   "source": []
  }
 ],
 "metadata": {
  "kernelspec": {
   "display_name": "Python 3",
   "language": "python",
   "name": "python3"
  },
  "language_info": {
   "codemirror_mode": {
    "name": "ipython",
    "version": 3
   },
   "file_extension": ".py",
   "mimetype": "text/x-python",
   "name": "python",
   "nbconvert_exporter": "python",
   "pygments_lexer": "ipython3",
   "version": "3.6.6"
  }
 },
 "nbformat": 4,
 "nbformat_minor": 2
}
