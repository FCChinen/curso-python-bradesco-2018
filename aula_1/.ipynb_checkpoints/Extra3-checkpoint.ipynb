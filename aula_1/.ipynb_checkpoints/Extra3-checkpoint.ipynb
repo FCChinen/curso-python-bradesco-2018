{
 "cells": [
  {
   "cell_type": "code",
   "execution_count": 9,
   "metadata": {},
   "outputs": [
    {
     "name": "stdout",
     "output_type": "stream",
     "text": [
      "3.128\n"
     ]
    }
   ],
   "source": [
    "import numpy as np\n",
    "\n",
    "N = 500\n",
    "div = N * 0.25\n",
    "\n",
    "vetor_aleatorio = np.random.rand(N, 2)\n",
    "vetor_aleatorio -= 0.5\n",
    "\n",
    "vetor_aleatorio = np.power(vetor_aleatorio,2)\n",
    "\n",
    "vetor_auxiliar1 = vetor_aleatorio[:,0]\n",
    "vetor_auxiliar2 = vetor_aleatorio[:,1]\n",
    "vetor_auxiliar3 = vetor_auxiliar1 + vetor_auxiliar2\n",
    "\n",
    "vetor_bool = vetor_auxiliar3 <= 0.25\n",
    "contador = np.sum(vetor_bool)\n",
    "\n",
    "contador = contador/div\n",
    "print(str(contador))"
   ]
  },
  {
   "cell_type": "code",
   "execution_count": null,
   "metadata": {},
   "outputs": [],
   "source": []
  }
 ],
 "metadata": {
  "kernelspec": {
   "display_name": "Python 3",
   "language": "python",
   "name": "python3"
  },
  "language_info": {
   "codemirror_mode": {
    "name": "ipython",
    "version": 3
   },
   "file_extension": ".py",
   "mimetype": "text/x-python",
   "name": "python",
   "nbconvert_exporter": "python",
   "pygments_lexer": "ipython3",
   "version": "3.6.6"
  }
 },
 "nbformat": 4,
 "nbformat_minor": 2
}
