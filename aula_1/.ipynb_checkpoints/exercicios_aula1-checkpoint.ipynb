{
 "cells": [
  {
   "cell_type": "markdown",
   "metadata": {
    "colab_type": "text",
    "id": "Kp6cQwS4YCtl"
   },
   "source": [
    "# Exercícios de fixação\n",
    "## Operações básicas e vetoriais"
   ]
  },
  {
   "cell_type": "markdown",
   "metadata": {
    "colab_type": "text",
    "id": "T6dzMqZDYLYo"
   },
   "source": [
    "### Cálculo de desvio padrão\n",
    "\n",
    "Desvio padrão é uma medida estatística de dispersão, usada para avaliar quão \"separado\" os dados estão, em relação a uma medida de centralidade (geralmente, a média). Vamos representá-la pelo símbolo $\\sigma$.\n",
    "\n",
    "O desvio padrão de uma população é dada por $\\sigma = \\sqrt{\\dfrac{\\sum(x_i - \\bar{x})^2}{N}}$, onde $x_i$ é cada elemento da população, $\\bar{x}$ é a média da população, e $N$ o total de elementos. (Nota: no caso do desvio padrão de uma amostra, é utilizado $N - 1$ no denominador).\n",
    "\n",
    "Outra definição equivalente do desvio padrão é $\\sigma = \\sqrt{E[X^2] - (E[X]^2)}$, onde $X$ são os dados, e $E$ representa a esperança, ou média, de um conjunto de dados.\n",
    "\n",
    "**Exercício 1**: Escreva uma função que calcule o desvio padrão de um vetor unidimensional. Não vale usar a função pronta `np.std` para escrever sua função, mas use ela para verificar seu resultado.\n",
    " \n",
    "**Extra 1**: Faça outra função pro desvio padrão, mas usando a outra definição. Verifique que os resultados são iguais.\n",
    "\n",
    "Dicas:\n",
    "\n",
    "- Lembre-se de usar o `return` para retornar o resultado da sua função\n",
    "- A função `len` funciona para vetores assim como para listas\n",
    "- A função `np.sqrt` tira a raíz quadrada de um vetor (ou equivalentemente, utilize a exponenciação por meio, `x ** 0.5`)\n",
    "- Utilize `np.sum` para reduzir um vetor à sua soma e `np.mean` para reduzir à sua média\n",
    "- Cuidado ao utilizar o símbolo `==` para comparar sua resposta. Podem haver erros numéricos que causam a resposta a ser 1.9999999 em vez de 2; verifique os resultados manualmente"
   ]
  },
  {
   "cell_type": "code",
   "execution_count": 36,
   "metadata": {
    "colab": {
     "autoexec": {
      "startup": false,
      "wait_interval": 0
     },
     "base_uri": "https://localhost:8080/",
     "height": 0
    },
    "colab_type": "code",
    "executionInfo": {
     "elapsed": 810,
     "status": "ok",
     "timestamp": 1529504242914,
     "user": {
      "displayName": "Diorge Brognara",
      "photoUrl": "https://lh3.googleusercontent.com/a/default-user=s128",
      "userId": "102180740426822979922"
     },
     "user_tz": 180
    },
    "id": "Sfg5Y-tHbEeG",
    "outputId": "ebeb3fbc-2c2b-4a08-a17e-0f9974330c78"
   },
   "outputs": [
    {
     "data": {
      "text/plain": [
       "[<matplotlib.lines.Line2D at 0x7f02513cbb70>]"
      ]
     },
     "execution_count": 36,
     "metadata": {},
     "output_type": "execute_result"
    },
    {
     "data": {
      "image/png": "[encoded data removed]",
      "text/plain": [
       "<Figure size 432x288 with 1 Axes>"
      ]
     },
     "metadata": {},
     "output_type": "display_data"
    }
   ],
   "source": [
    "import numpy as np\n",
    "import matplotlib.pyplot as plt\n",
    "%matplotlib inline\n",
    "\n",
    "def densidadedeprobabilidade(x, u, v):\n",
    "    return np.exp(-(np.power((x-u),2))/2*np.power(v,2))/np.sqrt(2*np.pi*np.power(v,2))\n",
    "\n",
    "x = np.linspace(-5,5,100)\n",
    "for i, xis in enumerate(x):\n",
    "    y[i] = densidadedeprobabilidade(xis, 0, 1)\n",
    "\n",
    "plt.plot(x, y)"
   ]
  },
  {
   "cell_type": "code",
   "execution_count": 8,
   "metadata": {
    "colab": {
     "autoexec": {
      "startup": false,
      "wait_interval": 0
     },
     "base_uri": "https://localhost:8080/",
     "height": 36
    },
    "colab_type": "code",
    "executionInfo": {
     "elapsed": 597,
     "status": "ok",
     "timestamp": 1529502010108,
     "user": {
      "displayName": "Diorge Brognara",
      "photoUrl": "https://lh3.googleusercontent.com/a/default-user=s128",
      "userId": "102180740426822979922"
     },
     "user_tz": 180
    },
    "id": "YaUzexwNX6Pn",
    "outputId": "597b8afc-d9f9-4168-a7b7-2a29b6f98330"
   },
   "outputs": [
    {
     "name": "stdout",
     "output_type": "stream",
     "text": [
      "Desvio padrao numpy: 2.0\n",
      "Desvio padrao 1: 2.0\n",
      "Desvio padrao 2: 2.0\n"
     ]
    }
   ],
   "source": [
    "import numpy as np\n",
    "\n",
    "def desviopadrao1(array_pontos):\n",
    "\tdesv = 0\n",
    "\tmed = np.mean(array_pontos)\n",
    "\tfor ponto in array_pontos:\n",
    "\t\taux = ponto - med\n",
    "\t\taux = np.power(aux,2)\n",
    "\t\tdesv += aux\n",
    "\tdesv = desv/len(array_pontos)\n",
    "\tdesv = np.power(desv,0.5)\n",
    "\treturn desv\n",
    "\n",
    "def desviopadrao2(array_pontos):\n",
    "\tmed1 = np.power(np.mean(array_pontos),2)\n",
    "\tmed2 = np.mean(np.power(array_pontos,2))\n",
    "\tdesv = med2 - med1\n",
    "\tdesv = np.power(desv,0.5)\n",
    "\treturn desv\n",
    "\n",
    "a = np.array([2, 4, 4, 4, 5, 5, 7, 9])\n",
    "print(\"Desvio padrao numpy: \"+str(np.std(a)))\n",
    "print(\"Desvio padrao 1: \"+str(desviopadrao1(a)))\n",
    "print(\"Desvio padrao 2: \"+str(desviopadrao2(a)))"
   ]
  },
  {
   "cell_type": "markdown",
   "metadata": {
    "colab_type": "text",
    "id": "WzDu2AMDdPGG"
   },
   "source": [
    "## Visualizando a distribuição normal\n",
    "\n",
    "A distribuição normal é uma das distribuições estatísticas mais utilizadas. Sua forma é chamada de \"sino\". Podemos definir sua função de densidade de probabilidade como $f(x | \\mu, \\sigma^2) = \\dfrac{e^{-\\dfrac{(x - \\mu)^2}{2\\sigma^2}}}{\\sqrt{2\\pi\\sigma^2}}$, onde $\\mu$ é a média da distribuição e $\\sigma$ é o desvio padrão ($\\sigma^2$ é chamado de variância).\n",
    "\n",
    "**Exercício 2**: Construa o gráfico da distribuição normal com média 0 e desvio padrão 1, com x variando de -5 a 5. O gráfico deve conter pelo menos 100 amostras de x.\n",
    "\n",
    "Dicas:\n",
    "\n",
    "- $e^x$ é representado em numpy como `np.exp(x)`\n",
    "- Como vimos anteriormente, $\\pi$ é acessado pela constante `np.pi`\n",
    "- Para gerar a amostragem de x, utilize a função `np.linspace`, como fizemos no gráfico do seno\n",
    "- Como sabemos de antemão os valores de $\\mu$ e $\\sigma$, você pode facilitar seu código simplificando a função manualmente\n",
    "\n",
    "**Extra 2**: Coloque no mesmo gráfico (mas em outras cores) o gráfico da distribuição normal com os seguintes parâmetros: $\\mu=0, \\sigma=5$, $\\mu=0, \\sigma=0.2$, e $\\mu=5, \\sigma=1$, juntamente com o gráfico anterior; para todos, o valor de x deve variar de -10 a 10 (aumente a amostragem para 500 pontos)."
   ]
  },
  {
   "cell_type": "markdown",
   "metadata": {
    "colab_type": "text",
    "id": "dzGqlEi6ho5J"
   },
   "source": [
    "## Aproximando o valor de $\\pi$ através de simulação\n",
    "\n",
    "Um modo de gerar valores aproximados para $\\pi$ é utilizando o método de simulação de Monte Carlo. A ideia do método é o seguinte:\n",
    "\n",
    "- Crie um quadrado com lado 1 (e portanto área 1), centrado na origem\n",
    "- Crie uma circunferência inscrita nesse quadrado (e portanto com raio 0.5 e área $0.25\\pi$). A equação dessa circunferência é $x^2 + y^2 = r^2 = 0.25$\n",
    "- Podemos verificar se um ponto está dentro da circunferência utilizando a inequação $x^2 + y^2 \\leq 0.25$\n",
    "- Se gerarmos N pontos aleatórios uniformemente distribuídos nesse quadrado, é esperado que $0.25\\pi N$ estejam dentro do círculo\n",
    "- Assim, se contarmos a proporção de pontos dentro do círculo para o total de pontos, esse número se aproxima de $0.25 \\pi$, e se multiplicarmos essa proporção por 4, teremos uma aproximação de $\\pi$.\n",
    "\n",
    "A figura abaixo mostra como é este círculo inscrito."
   ]
  },
  {
   "cell_type": "code",
   "execution_count": 3,
   "metadata": {
    "colab": {
     "autoexec": {
      "startup": false,
      "wait_interval": 0
     },
     "base_uri": "https://localhost:8080/",
     "height": 320
    },
    "colab_type": "code",
    "executionInfo": {
     "elapsed": 651,
     "status": "ok",
     "timestamp": 1529504489034,
     "user": {
      "displayName": "Diorge Brognara",
      "photoUrl": "https://lh3.googleusercontent.com/a/default-user=s128",
      "userId": "102180740426822979922"
     },
     "user_tz": 180
    },
    "id": "VyPQY4T8bbX6",
    "outputId": "4b55e6fc-878a-4613-fdd7-453af4c529a3"
   },
   "outputs": [
    {
     "data": {
      "image/png": "[encoded data removed]",
      "text/plain": [
       "<matplotlib.figure.Figure at 0x7faa53e16f28>"
      ]
     },
     "metadata": {},
     "output_type": "display_data"
    }
   ],
   "source": [
    "fig, ax = plt.subplots()\n",
    "fig.set_size_inches((5, 5))\n",
    "circ = plt.Circle((0, 0), 0.5)\n",
    "ax.add_artist(circ)\n",
    "ax.set_xlim((-0.5, 0.5))\n",
    "ax.set_ylim((-0.5, 0.5))\n",
    "\n",
    "plt.show();"
   ]
  },
  {
   "cell_type": "markdown",
   "metadata": {
    "colab_type": "text",
    "id": "esjH0p4jkvYi"
   },
   "source": [
    "**Exercício 3**: aproxime $\\pi$ utilizando o método de Monte Carlo, com $N=500$.\n",
    "\n",
    "Dica:\n",
    "\n",
    "- Uma matriz uniformemente com valores uniformementre distribuídos entre 0 e 1, com i linhas e j colunas, é gerado pela função `np.random.rand(i, j)`\n",
    "- Quando uma matriz é utilizada como iterador do comando `for`, itera-se as linhas da matriz\n",
    "\n",
    "**Extra 3**: resolva o exercício 3 utilizando somente operações vetoriais, sem utilizar o comando `for`.\n",
    "\n",
    "Dica:\n",
    "- Utilize máscaras booleanas\n",
    "- A função `np.sum` em um vetor de booleanos retorna a contagem de verdadeiros."
   ]
  }
 ],
 "metadata": {
  "colab": {
   "collapsed_sections": [],
   "default_view": {},
   "name": "exercicios_aula1.ipynb",
   "provenance": [],
   "version": "0.3.2",
   "views": {}
  },
  "kernelspec": {
   "display_name": "Python 3",
   "language": "python",
   "name": "python3"
  },
  "language_info": {
   "codemirror_mode": {
    "name": "ipython",
    "version": 3
   },
   "file_extension": ".py",
   "mimetype": "text/x-python",
   "name": "python",
   "nbconvert_exporter": "python",
   "pygments_lexer": "ipython3",
   "version": "3.6.6"
  }
 },
 "nbformat": 4,
 "nbformat_minor": 1
}
