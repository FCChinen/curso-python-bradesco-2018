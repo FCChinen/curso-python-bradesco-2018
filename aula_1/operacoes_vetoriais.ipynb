{
 "cells": [
  {
   "cell_type": "markdown",
   "metadata": {
    "colab_type": "text",
    "id": "Gk4fQgzynXAF"
   },
   "source": [
    "# Operações vetoriais\n",
    "\n",
    "Muitas das operações matemáticas que desejamos fazer com nossos dados são melhores servidas por operações vetoriais. Esse método de processamento torna muito conveniente o uso de dados em série ou formato tabular, representações comuns para dados numéricos, além de serem computacionalmente mais rápidas que processamento iterativo (utilizando `for`).\n",
    "\n",
    "O primeiro passo para utilizar operações vetoriais é a utilização da biblioteca Numpy. É comum importar essa biblioteca utilizando um _alias_ ou apelido, geralmente `np`, para facilitar digitar. Para visualizarmos algumas operações em gráficos, também utilizaremos a biblioteca Matplotlib; similarmente, é convencional apelidar a importação dessa biblioteca como `plt`. Finalmente, adicionaremos uma diretiva inline para que os gráficos sejam mostrados dentro do próprio Jupyter."
   ]
  },
  {
   "cell_type": "code",
   "execution_count": 1,
   "metadata": {
    "colab": {
     "autoexec": {
      "startup": false,
      "wait_interval": 0
     },
     "base_uri": "https://localhost:8080/",
     "height": 17
    },
    "colab_type": "code",
    "executionInfo": {
     "elapsed": 879,
     "status": "ok",
     "timestamp": 1530101913030,
     "user": {
      "displayName": "Diorge Brognara",
      "photoUrl": "https://lh3.googleusercontent.com/a/default-user=s128",
      "userId": "102180740426822979922"
     },
     "user_tz": 180
    },
    "id": "ecouc-xenEuT",
    "outputId": "a59cd668-1d0c-4261-b678-78b523af13e7"
   },
   "outputs": [],
   "source": [
    "import numpy as np\n",
    "import matplotlib.pyplot as plt\n",
    "%matplotlib inline"
   ]
  },
  {
   "cell_type": "markdown",
   "metadata": {
    "colab_type": "text",
    "id": "XAx2ADOto9cy"
   },
   "source": [
    "Em vez de utilizarmos listas, colocaremos nossos dados no formato `ndarray` do Numpy. O funcionamento é parecido com listas, incluindo as operações de indexação. A principal diferença é que `ndarray`s possuem um tamanho fixo, enquanto listas são modificáveis (é possível adicionar e remover itens); e também que os `ndarray`s podem ser multidimensionais (a primeira dimensão é um vetor/lista, a segunda é uma matrix/tabela, e assim por diante).\n",
    "\n",
    "A forma mais básica de criar um `ndarray` é converter a partir de uma lista."
   ]
  },
  {
   "cell_type": "code",
   "execution_count": null,
   "metadata": {
    "colab": {
     "autoexec": {
      "startup": false,
      "wait_interval": 0
     },
     "base_uri": "https://localhost:8080/",
     "height": 36
    },
    "colab_type": "code",
    "executionInfo": {
     "elapsed": 650,
     "status": "ok",
     "timestamp": 1530101914812,
     "user": {
      "displayName": "Diorge Brognara",
      "photoUrl": "https://lh3.googleusercontent.com/a/default-user=s128",
      "userId": "102180740426822979922"
     },
     "user_tz": 180
    },
    "id": "6lHFJqphojKS",
    "outputId": "1027e453-eb57-4ba7-cfc4-c6ee16f92176"
   },
   "outputs": [],
   "source": [
    "arr1 = np.array([1, 2, 3, 4, 5])\n",
    "arr1"
   ]
  },
  {
   "cell_type": "markdown",
   "metadata": {
    "colab_type": "text",
    "id": "44frwrocpsVy"
   },
   "source": [
    "Outras formas comuns de criar arrays incluem:\n",
    "\n",
    "- pontos equidistantes em um intervalo, pela função `linspace`\n",
    "- um vetor somente com zeros, pela função `zeros`\n",
    "- a matriz identidade, pela função `identity`\n",
    "- um vetor com valores aleatórios, pela função `rand`"
   ]
  },
  {
   "cell_type": "code",
   "execution_count": null,
   "metadata": {
    "colab": {
     "autoexec": {
      "startup": false,
      "wait_interval": 0
     },
     "base_uri": "https://localhost:8080/",
     "height": 36
    },
    "colab_type": "code",
    "executionInfo": {
     "elapsed": 614,
     "status": "ok",
     "timestamp": 1530101965109,
     "user": {
      "displayName": "Diorge Brognara",
      "photoUrl": "https://lh3.googleusercontent.com/a/default-user=s128",
      "userId": "102180740426822979922"
     },
     "user_tz": 180
    },
    "id": "VxGCPq82pr2X",
    "outputId": "a58749a1-7537-43c8-9ac0-ca17ed1af000"
   },
   "outputs": [],
   "source": [
    "# nove pontos equidistantes, começando em 1 e terminando em 5\n",
    "np.linspace(1, 5, 9)"
   ]
  },
  {
   "cell_type": "code",
   "execution_count": null,
   "metadata": {
    "colab": {
     "autoexec": {
      "startup": false,
      "wait_interval": 0
     },
     "base_uri": "https://localhost:8080/",
     "height": 74
    },
    "colab_type": "code",
    "executionInfo": {
     "elapsed": 622,
     "status": "ok",
     "timestamp": 1530101916890,
     "user": {
      "displayName": "Diorge Brognara",
      "photoUrl": "https://lh3.googleusercontent.com/a/default-user=s128",
      "userId": "102180740426822979922"
     },
     "user_tz": 180
    },
    "id": "sOgiuIa5pgaC",
    "outputId": "383f8ede-5bc2-4696-cdbe-05ac5c2cdb6a"
   },
   "outputs": [],
   "source": [
    "# uma matriz 3x3 somente com zeros\n",
    "# é necessário usar dois parêntesis porque só há um argumento, que é uma tupla\n",
    "np.zeros((3, 3))"
   ]
  },
  {
   "cell_type": "code",
   "execution_count": null,
   "metadata": {
    "colab": {
     "autoexec": {
      "startup": false,
      "wait_interval": 0
     },
     "base_uri": "https://localhost:8080/",
     "height": 111
    },
    "colab_type": "code",
    "executionInfo": {
     "elapsed": 633,
     "status": "ok",
     "timestamp": 1530101918080,
     "user": {
      "displayName": "Diorge Brognara",
      "photoUrl": "https://lh3.googleusercontent.com/a/default-user=s128",
      "userId": "102180740426822979922"
     },
     "user_tz": 180
    },
    "id": "RA7zbKUjqWA-",
    "outputId": "156bd179-0d21-415d-854d-a3cf4d6f85d4"
   },
   "outputs": [],
   "source": [
    "# a matriz identidade de dimensão 5\n",
    "np.identity(5)"
   ]
  },
  {
   "cell_type": "code",
   "execution_count": null,
   "metadata": {
    "colab": {
     "autoexec": {
      "startup": false,
      "wait_interval": 0
     },
     "base_uri": "https://localhost:8080/",
     "height": 111
    },
    "colab_type": "code",
    "executionInfo": {
     "elapsed": 868,
     "status": "ok",
     "timestamp": 1530102013772,
     "user": {
      "displayName": "Diorge Brognara",
      "photoUrl": "https://lh3.googleusercontent.com/a/default-user=s128",
      "userId": "102180740426822979922"
     },
     "user_tz": 180
    },
    "id": "yo2IzrXdqYaR",
    "outputId": "a5f8e10d-7d9d-492d-cc2a-8cbd14615872"
   },
   "outputs": [],
   "source": [
    "# uma matriz 5x3 de valores aleatórios uniformes entre 0 e 1\n",
    "# cada vez que for executado gerará valores distintos\n",
    "np.random.rand(5, 3)"
   ]
  },
  {
   "cell_type": "markdown",
   "metadata": {
    "colab_type": "text",
    "id": "9M7Ti1RNSNuA"
   },
   "source": [
    "## Aritmética de vetores\n",
    "\n",
    "Os vetores do numpy tem propriedades interessantes em relação aos operadores aritméticos tradicionais.\n",
    "\n",
    "Os operadores `+, -, *, /, **` entre um vetor e um número aplicam a operação a todos os elementos do vetor (\"*broadcasting*\")."
   ]
  },
  {
   "cell_type": "code",
   "execution_count": 3,
   "metadata": {
    "colab": {
     "autoexec": {
      "startup": false,
      "wait_interval": 0
     },
     "base_uri": "https://localhost:8080/",
     "height": 17
    },
    "colab_type": "code",
    "executionInfo": {
     "elapsed": 543,
     "status": "ok",
     "timestamp": 1530101920101,
     "user": {
      "displayName": "Diorge Brognara",
      "photoUrl": "https://lh3.googleusercontent.com/a/default-user=s128",
      "userId": "102180740426822979922"
     },
     "user_tz": 180
    },
    "id": "HFHv8vh9Sp-U",
    "outputId": "0f356183-9aa6-48f5-d654-d4d0505775c0"
   },
   "outputs": [],
   "source": [
    "a = np.array([1, 2, 3])"
   ]
  },
  {
   "cell_type": "code",
   "execution_count": 4,
   "metadata": {
    "colab": {
     "autoexec": {
      "startup": false,
      "wait_interval": 0
     },
     "base_uri": "https://localhost:8080/",
     "height": 36
    },
    "colab_type": "code",
    "executionInfo": {
     "elapsed": 755,
     "status": "ok",
     "timestamp": 1530101921418,
     "user": {
      "displayName": "Diorge Brognara",
      "photoUrl": "https://lh3.googleusercontent.com/a/default-user=s128",
      "userId": "102180740426822979922"
     },
     "user_tz": 180
    },
    "id": "DaE-_p1YSt3X",
    "outputId": "87a02446-6216-44e0-f7bb-e29d388c7807"
   },
   "outputs": [
    {
     "data": {
      "text/plain": [
       "array([2, 3, 4])"
      ]
     },
     "execution_count": 4,
     "metadata": {},
     "output_type": "execute_result"
    }
   ],
   "source": [
    "a + 1"
   ]
  },
  {
   "cell_type": "code",
   "execution_count": 5,
   "metadata": {
    "colab": {
     "autoexec": {
      "startup": false,
      "wait_interval": 0
     },
     "base_uri": "https://localhost:8080/",
     "height": 36
    },
    "colab_type": "code",
    "executionInfo": {
     "elapsed": 569,
     "status": "ok",
     "timestamp": 1530101922438,
     "user": {
      "displayName": "Diorge Brognara",
      "photoUrl": "https://lh3.googleusercontent.com/a/default-user=s128",
      "userId": "102180740426822979922"
     },
     "user_tz": 180
    },
    "id": "YYr6Fa5LS-0n",
    "outputId": "e551ffdd-c793-43d6-cb8a-91d6b2d8648e"
   },
   "outputs": [
    {
     "data": {
      "text/plain": [
       "array([0.5, 1.5, 2.5])"
      ]
     },
     "execution_count": 5,
     "metadata": {},
     "output_type": "execute_result"
    }
   ],
   "source": [
    "a - 0.5"
   ]
  },
  {
   "cell_type": "code",
   "execution_count": 6,
   "metadata": {
    "colab": {
     "autoexec": {
      "startup": false,
      "wait_interval": 0
     },
     "base_uri": "https://localhost:8080/",
     "height": 36
    },
    "colab_type": "code",
    "executionInfo": {
     "elapsed": 771,
     "status": "ok",
     "timestamp": 1530101923672,
     "user": {
      "displayName": "Diorge Brognara",
      "photoUrl": "https://lh3.googleusercontent.com/a/default-user=s128",
      "userId": "102180740426822979922"
     },
     "user_tz": 180
    },
    "id": "eUm_cz8xTBAd",
    "outputId": "f63199e5-0802-4621-977d-306c741309de"
   },
   "outputs": [
    {
     "data": {
      "text/plain": [
       "array([2, 4, 6])"
      ]
     },
     "execution_count": 6,
     "metadata": {},
     "output_type": "execute_result"
    }
   ],
   "source": [
    "a * 2"
   ]
  },
  {
   "cell_type": "code",
   "execution_count": 7,
   "metadata": {
    "colab": {
     "autoexec": {
      "startup": false,
      "wait_interval": 0
     },
     "base_uri": "https://localhost:8080/",
     "height": 36
    },
    "colab_type": "code",
    "executionInfo": {
     "elapsed": 585,
     "status": "ok",
     "timestamp": 1530101924613,
     "user": {
      "displayName": "Diorge Brognara",
      "photoUrl": "https://lh3.googleusercontent.com/a/default-user=s128",
      "userId": "102180740426822979922"
     },
     "user_tz": 180
    },
    "id": "mGJ1gXm4TGXK",
    "outputId": "d347f353-ab4d-4d93-ce55-565643b9360a"
   },
   "outputs": [
    {
     "data": {
      "text/plain": [
       "array([0.5, 1. , 1.5])"
      ]
     },
     "execution_count": 7,
     "metadata": {},
     "output_type": "execute_result"
    }
   ],
   "source": [
    "a / 2"
   ]
  },
  {
   "cell_type": "code",
   "execution_count": 8,
   "metadata": {
    "colab": {
     "autoexec": {
      "startup": false,
      "wait_interval": 0
     },
     "base_uri": "https://localhost:8080/",
     "height": 36
    },
    "colab_type": "code",
    "executionInfo": {
     "elapsed": 607,
     "status": "ok",
     "timestamp": 1530101925853,
     "user": {
      "displayName": "Diorge Brognara",
      "photoUrl": "https://lh3.googleusercontent.com/a/default-user=s128",
      "userId": "102180740426822979922"
     },
     "user_tz": 180
    },
    "id": "TGYa4k3FTHvg",
    "outputId": "45ecfee4-abf3-4f74-c17f-b39e1a05c68c"
   },
   "outputs": [
    {
     "data": {
      "text/plain": [
       "array([1, 4, 9])"
      ]
     },
     "execution_count": 8,
     "metadata": {},
     "output_type": "execute_result"
    }
   ],
   "source": [
    "a ** 2"
   ]
  },
  {
   "cell_type": "markdown",
   "metadata": {
    "colab_type": "text",
    "id": "1IFB9Z44TKfH"
   },
   "source": [
    "Quando esses operadores são usados entre dois vetores com o mesmo tamanho, a operação é aplicada entre os pares de elementos na mesma posição (\"*element-wise*\")."
   ]
  },
  {
   "cell_type": "code",
   "execution_count": 9,
   "metadata": {
    "colab": {
     "autoexec": {
      "startup": false,
      "wait_interval": 0
     },
     "base_uri": "https://localhost:8080/",
     "height": 36
    },
    "colab_type": "code",
    "executionInfo": {
     "elapsed": 580,
     "status": "ok",
     "timestamp": 1530101926882,
     "user": {
      "displayName": "Diorge Brognara",
      "photoUrl": "https://lh3.googleusercontent.com/a/default-user=s128",
      "userId": "102180740426822979922"
     },
     "user_tz": 180
    },
    "id": "mop7QegkTUWF",
    "outputId": "d84f1b01-eadb-41ee-cfb1-f53896664707"
   },
   "outputs": [
    {
     "data": {
      "text/plain": [
       "array([ 6,  8, 10])"
      ]
     },
     "execution_count": 9,
     "metadata": {},
     "output_type": "execute_result"
    }
   ],
   "source": [
    "b = np.array([5, 6, 7])\n",
    "a + b"
   ]
  },
  {
   "cell_type": "code",
   "execution_count": 10,
   "metadata": {
    "colab": {
     "autoexec": {
      "startup": false,
      "wait_interval": 0
     },
     "base_uri": "https://localhost:8080/",
     "height": 36
    },
    "colab_type": "code",
    "executionInfo": {
     "elapsed": 557,
     "status": "ok",
     "timestamp": 1530101927912,
     "user": {
      "displayName": "Diorge Brognara",
      "photoUrl": "https://lh3.googleusercontent.com/a/default-user=s128",
      "userId": "102180740426822979922"
     },
     "user_tz": 180
    },
    "id": "hUs8IY6lTXY1",
    "outputId": "9fb32193-8e63-48ce-bf82-d6b980058237"
   },
   "outputs": [
    {
     "data": {
      "text/plain": [
       "array([ 5, 12, 21])"
      ]
     },
     "execution_count": 10,
     "metadata": {},
     "output_type": "execute_result"
    }
   ],
   "source": [
    "a * b"
   ]
  },
  {
   "cell_type": "markdown",
   "metadata": {
    "colab_type": "text",
    "id": "j5t55nBJT0ek"
   },
   "source": [
    "### Operador @\n",
    "\n",
    "O operador `@` pode ser utilizado entre dois vetores para fazer a operação de multiplicação matricial ou de produto interno. (Pode ser inicialmente confuso, mas uma multiplicação matricial é um _broadcasting_ de produtos internos)."
   ]
  },
  {
   "cell_type": "code",
   "execution_count": 11,
   "metadata": {
    "colab": {
     "autoexec": {
      "startup": false,
      "wait_interval": 0
     },
     "base_uri": "https://localhost:8080/",
     "height": 74
    },
    "colab_type": "code",
    "executionInfo": {
     "elapsed": 578,
     "status": "ok",
     "timestamp": 1530101928997,
     "user": {
      "displayName": "Diorge Brognara",
      "photoUrl": "https://lh3.googleusercontent.com/a/default-user=s128",
      "userId": "102180740426822979922"
     },
     "user_tz": 180
    },
    "id": "xiGGdA4STZXg",
    "outputId": "05c45689-cdb2-410e-c711-f44030f7767c"
   },
   "outputs": [
    {
     "data": {
      "text/plain": [
       "array([[13],\n",
       "       [31],\n",
       "       [29]])"
      ]
     },
     "execution_count": 11,
     "metadata": {},
     "output_type": "execute_result"
    }
   ],
   "source": [
    "m1 = np.array([[3, 5, -2],\n",
    "               [6, 0, 1],\n",
    "               [4, 1, 9]])\n",
    "m2 = np.array([[5],\n",
    "               [0],\n",
    "               [1]])\n",
    "\n",
    "m1 @ m2"
   ]
  },
  {
   "cell_type": "code",
   "execution_count": 12,
   "metadata": {
    "colab": {
     "autoexec": {
      "startup": false,
      "wait_interval": 0
     },
     "base_uri": "https://localhost:8080/",
     "height": 36
    },
    "colab_type": "code",
    "executionInfo": {
     "elapsed": 563,
     "status": "ok",
     "timestamp": 1530101930118,
     "user": {
      "displayName": "Diorge Brognara",
      "photoUrl": "https://lh3.googleusercontent.com/a/default-user=s128",
      "userId": "102180740426822979922"
     },
     "user_tz": 180
    },
    "id": "FvSygJeVUbQ_",
    "outputId": "bc90e9a6-8f16-40c6-e15f-d77b7cfe91a0"
   },
   "outputs": [
    {
     "data": {
      "text/plain": [
       "38"
      ]
     },
     "execution_count": 12,
     "metadata": {},
     "output_type": "execute_result"
    }
   ],
   "source": [
    "a @ b"
   ]
  },
  {
   "cell_type": "code",
   "execution_count": 13,
   "metadata": {
    "colab": {
     "autoexec": {
      "startup": false,
      "wait_interval": 0
     },
     "base_uri": "https://localhost:8080/",
     "height": 36
    },
    "colab_type": "code",
    "executionInfo": {
     "elapsed": 605,
     "status": "ok",
     "timestamp": 1530101931250,
     "user": {
      "displayName": "Diorge Brognara",
      "photoUrl": "https://lh3.googleusercontent.com/a/default-user=s128",
      "userId": "102180740426822979922"
     },
     "user_tz": 180
    },
    "id": "56CjoS3MUd8n",
    "outputId": "de6512d0-45c6-4a9f-ff51-19725b6dc0c6"
   },
   "outputs": [
    {
     "data": {
      "text/plain": [
       "38"
      ]
     },
     "execution_count": 13,
     "metadata": {},
     "output_type": "execute_result"
    }
   ],
   "source": [
    "# calculando produto interno \"manualmente\"\n",
    "(a * b).sum()"
   ]
  },
  {
   "cell_type": "code",
   "execution_count": 14,
   "metadata": {
    "colab": {
     "autoexec": {
      "startup": false,
      "wait_interval": 0
     },
     "base_uri": "https://localhost:8080/",
     "height": 36
    },
    "colab_type": "code",
    "executionInfo": {
     "elapsed": 612,
     "status": "ok",
     "timestamp": 1530102475617,
     "user": {
      "displayName": "Diorge Brognara",
      "photoUrl": "https://lh3.googleusercontent.com/a/default-user=s128",
      "userId": "102180740426822979922"
     },
     "user_tz": 180
    },
    "id": "XHWKAAcqNpn5",
    "outputId": "e30f4579-3f48-4e33-f87f-8c1ed354c247"
   },
   "outputs": [
    {
     "data": {
      "text/plain": [
       "13"
      ]
     },
     "execution_count": 14,
     "metadata": {},
     "output_type": "execute_result"
    }
   ],
   "source": [
    "np.array([3, 5, -2]) @ np.array([5, 0, 1])"
   ]
  },
  {
   "cell_type": "markdown",
   "metadata": {
    "colab_type": "text",
    "id": "XI_9zu6rV3e2"
   },
   "source": [
    "## Indexação de vetores multidimensionais (matrizes)\n",
    "\n",
    "A indexação de vetores multidimensionais funciona igual ao de vetores unidimensionais, mas utilizaremos tuplas como índice; no entanto não é necessário o uso de parêntesis, sua existência é implícita."
   ]
  },
  {
   "cell_type": "code",
   "execution_count": 15,
   "metadata": {
    "colab": {
     "autoexec": {
      "startup": false,
      "wait_interval": 0
     },
     "base_uri": "https://localhost:8080/",
     "height": 36
    },
    "colab_type": "code",
    "executionInfo": {
     "elapsed": 565,
     "status": "ok",
     "timestamp": 1530101932185,
     "user": {
      "displayName": "Diorge Brognara",
      "photoUrl": "https://lh3.googleusercontent.com/a/default-user=s128",
      "userId": "102180740426822979922"
     },
     "user_tz": 180
    },
    "id": "z21gDcAMWIhs",
    "outputId": "805c8b7b-655e-4654-b138-77322107522a"
   },
   "outputs": [
    {
     "data": {
      "text/plain": [
       "3"
      ]
     },
     "execution_count": 15,
     "metadata": {},
     "output_type": "execute_result"
    }
   ],
   "source": [
    "m = np.array([[5, 3, 1, 2],\n",
    "              [-1, 2, 4, 1],\n",
    "              [0, 3, 0, -3]])\n",
    "m[0, 1]"
   ]
  },
  {
   "cell_type": "markdown",
   "metadata": {
    "colab_type": "text",
    "id": "-l6hNPzsWkew"
   },
   "source": [
    "Ainda é possível usar slicing."
   ]
  },
  {
   "cell_type": "code",
   "execution_count": 16,
   "metadata": {
    "colab": {
     "autoexec": {
      "startup": false,
      "wait_interval": 0
     },
     "base_uri": "https://localhost:8080/",
     "height": 36
    },
    "colab_type": "code",
    "executionInfo": {
     "elapsed": 638,
     "status": "ok",
     "timestamp": 1530101933147,
     "user": {
      "displayName": "Diorge Brognara",
      "photoUrl": "https://lh3.googleusercontent.com/a/default-user=s128",
      "userId": "102180740426822979922"
     },
     "user_tz": 180
    },
    "id": "UGD8Na3ZWnQt",
    "outputId": "e8baf490-a97f-4035-dd23-4651ae8a03cc"
   },
   "outputs": [
    {
     "data": {
      "text/plain": [
       "array([1, 4, 0])"
      ]
     },
     "execution_count": 16,
     "metadata": {},
     "output_type": "execute_result"
    }
   ],
   "source": [
    "m[:, 2]"
   ]
  },
  {
   "cell_type": "code",
   "execution_count": 17,
   "metadata": {
    "colab": {
     "autoexec": {
      "startup": false,
      "wait_interval": 0
     },
     "base_uri": "https://localhost:8080/",
     "height": 36
    },
    "colab_type": "code",
    "executionInfo": {
     "elapsed": 592,
     "status": "ok",
     "timestamp": 1530101934095,
     "user": {
      "displayName": "Diorge Brognara",
      "photoUrl": "https://lh3.googleusercontent.com/a/default-user=s128",
      "userId": "102180740426822979922"
     },
     "user_tz": 180
    },
    "id": "4-RoWQWxWrlA",
    "outputId": "c7688743-2fcb-4732-d395-6379e472fac2"
   },
   "outputs": [
    {
     "data": {
      "text/plain": [
       "array([-1,  2,  4])"
      ]
     },
     "execution_count": 17,
     "metadata": {},
     "output_type": "execute_result"
    }
   ],
   "source": [
    "m[1, :3]"
   ]
  },
  {
   "cell_type": "code",
   "execution_count": 18,
   "metadata": {
    "colab": {
     "autoexec": {
      "startup": false,
      "wait_interval": 0
     },
     "base_uri": "https://localhost:8080/",
     "height": 55
    },
    "colab_type": "code",
    "executionInfo": {
     "elapsed": 656,
     "status": "ok",
     "timestamp": 1530101935586,
     "user": {
      "displayName": "Diorge Brognara",
      "photoUrl": "https://lh3.googleusercontent.com/a/default-user=s128",
      "userId": "102180740426822979922"
     },
     "user_tz": 180
    },
    "id": "gKeYkXGzWxVq",
    "outputId": "b7af40a6-bce0-4b01-93fa-3cdd3bafb2d0"
   },
   "outputs": [
    {
     "data": {
      "text/plain": [
       "array([[1, 2],\n",
       "       [4, 1]])"
      ]
     },
     "execution_count": 18,
     "metadata": {},
     "output_type": "execute_result"
    }
   ],
   "source": [
    "m[:2, 2:]"
   ]
  },
  {
   "cell_type": "markdown",
   "metadata": {
    "colab_type": "text",
    "id": "xVX7f6K-rPGP"
   },
   "source": [
    "## Funções vetoriais\n",
    "\n",
    "A biblioteca padrão do Python nos dá acesso a várias funções. Por exemplo, o pacote math tem a função seno. No entanto, essas funções recebem somente um número. A biblioteca Numpy também oferece muitas funções, muitas vezes repetindo com as que já existem, mas essas são formas vetoriais, que funcionam em todo o array."
   ]
  },
  {
   "cell_type": "code",
   "execution_count": 19,
   "metadata": {
    "colab": {
     "autoexec": {
      "startup": false,
      "wait_interval": 0
     },
     "base_uri": "https://localhost:8080/",
     "height": 36
    },
    "colab_type": "code",
    "executionInfo": {
     "elapsed": 815,
     "status": "ok",
     "timestamp": 1530101936776,
     "user": {
      "displayName": "Diorge Brognara",
      "photoUrl": "https://lh3.googleusercontent.com/a/default-user=s128",
      "userId": "102180740426822979922"
     },
     "user_tz": 180
    },
    "id": "pX0IYvB1qhTm",
    "outputId": "71fb8b02-2c15-4259-ffee-f9b456085987"
   },
   "outputs": [
    {
     "data": {
      "text/plain": [
       "array([0.84147098, 0.90929743, 0.14112001])"
      ]
     },
     "execution_count": 19,
     "metadata": {},
     "output_type": "execute_result"
    }
   ],
   "source": [
    "a = np.array([1, 2, 3])\n",
    "np.sin(a)"
   ]
  },
  {
   "cell_type": "markdown",
   "metadata": {
    "colab_type": "text",
    "id": "kbf4sGpgs2G2"
   },
   "source": [
    "Utilizando essas operações, podemos criar vetores derivados de outros. Usaremos isso para criar um gráfico da função seno."
   ]
  },
  {
   "cell_type": "code",
   "execution_count": 20,
   "metadata": {
    "colab": {
     "autoexec": {
      "startup": false,
      "wait_interval": 0
     },
     "base_uri": "https://localhost:8080/",
     "height": 265
    },
    "colab_type": "code",
    "executionInfo": {
     "elapsed": 742,
     "status": "ok",
     "timestamp": 1530101938159,
     "user": {
      "displayName": "Diorge Brognara",
      "photoUrl": "https://lh3.googleusercontent.com/a/default-user=s128",
      "userId": "102180740426822979922"
     },
     "user_tz": 180
    },
    "id": "w7SZoT7cs0Xf",
    "outputId": "a5376113-4bfd-4472-dd83-3fef41a95bcb"
   },
   "outputs": [
    {
     "data": {
      "image/png": "[encoded data removed]",
      "text/plain": [
       "<Figure size 432x288 with 1 Axes>"
      ]
     },
     "metadata": {},
     "output_type": "display_data"
    }
   ],
   "source": [
    "x = np.linspace(0, 4 * np.pi, 100)\n",
    "y = np.sin(x)\n",
    "plt.plot(x, y); # o ponto-e-vírgula é opcional, só serve pra esconder o output textual"
   ]
  },
  {
   "cell_type": "code",
   "execution_count": 21,
   "metadata": {
    "colab": {
     "autoexec": {
      "startup": false,
      "wait_interval": 0
     },
     "base_uri": "https://localhost:8080/",
     "height": 265
    },
    "colab_type": "code",
    "executionInfo": {
     "elapsed": 642,
     "status": "ok",
     "timestamp": 1530101939246,
     "user": {
      "displayName": "Diorge Brognara",
      "photoUrl": "https://lh3.googleusercontent.com/a/default-user=s128",
      "userId": "102180740426822979922"
     },
     "user_tz": 180
    },
    "id": "OoX1SSONrvwg",
    "outputId": "d9327795-6a8f-47a7-f1e7-ab9a5672efe8"
   },
   "outputs": [
    {
     "data": {
      "image/png": "[encoded data removed]",
      "text/plain": [
       "<Figure size 432x288 with 1 Axes>"
      ]
     },
     "metadata": {},
     "output_type": "display_data"
    }
   ],
   "source": [
    "  # é possível criar mais de um plot na mesma célula\n",
    "  y2 = np.cos(x)\n",
    "  plt.plot(x, y, c='red') # criar a curva seno acima, em vermelho\n",
    "  plt.plot(x, y2, c='blue'); # criar a curva cosseno, em azul"
   ]
  },
  {
   "cell_type": "markdown",
   "metadata": {
    "colab_type": "text",
    "id": "j59vYMebtrmw"
   },
   "source": [
    "## Operações de redução\n",
    "\n",
    "Muitas vezes estamos preocupados com operações de redução, que sumarizam o conjunto de dados que temos em mãos. Por exemplo, podemos calcular os valores mínimo e máximo, a média, etc."
   ]
  },
  {
   "cell_type": "code",
   "execution_count": 22,
   "metadata": {
    "colab": {
     "autoexec": {
      "startup": false,
      "wait_interval": 0
     },
     "base_uri": "https://localhost:8080/",
     "height": 74
    },
    "colab_type": "code",
    "executionInfo": {
     "elapsed": 814,
     "status": "ok",
     "timestamp": 1530101940388,
     "user": {
      "displayName": "Diorge Brognara",
      "photoUrl": "https://lh3.googleusercontent.com/a/default-user=s128",
      "userId": "102180740426822979922"
     },
     "user_tz": 180
    },
    "id": "DwbVLOiatNKB",
    "outputId": "d7071ac1-ab51-4ff5-d26c-58bc0556d13f"
   },
   "outputs": [
    {
     "data": {
      "text/plain": [
       "array([0.57261388, 0.68673817, 0.31270412, 0.99671233, 0.78718097,\n",
       "       0.84938306, 0.11975398, 0.09464558, 0.74282003, 0.12167244,\n",
       "       0.42508596, 0.70669449, 0.90509059, 0.98703665, 0.69843376])"
      ]
     },
     "execution_count": 22,
     "metadata": {},
     "output_type": "execute_result"
    }
   ],
   "source": [
    "# criar 15 números aleatórios\n",
    "x = np.random.rand(15)\n",
    "x"
   ]
  },
  {
   "cell_type": "code",
   "execution_count": 23,
   "metadata": {
    "colab": {
     "autoexec": {
      "startup": false,
      "wait_interval": 0
     },
     "base_uri": "https://localhost:8080/",
     "height": 36
    },
    "colab_type": "code",
    "executionInfo": {
     "elapsed": 594,
     "status": "ok",
     "timestamp": 1530101941260,
     "user": {
      "displayName": "Diorge Brognara",
      "photoUrl": "https://lh3.googleusercontent.com/a/default-user=s128",
      "userId": "102180740426822979922"
     },
     "user_tz": 180
    },
    "id": "XkahwgQDt-8T",
    "outputId": "55952159-74f8-48d8-c49d-0bff077ee454"
   },
   "outputs": [
    {
     "name": "stdout",
     "output_type": "stream",
     "text": [
      "0.09464557546380847 0.3688950398416182 0.6984337640064493 0.8182820116197428 0.9967123287509364\n"
     ]
    }
   ],
   "source": [
    "# cálculo de quartis\n",
    "print(x.min(), np.percentile(x, 25), np.percentile(x, 50), np.percentile(x, 75), x.max())"
   ]
  },
  {
   "cell_type": "code",
   "execution_count": null,
   "metadata": {
    "colab": {
     "autoexec": {
      "startup": false,
      "wait_interval": 0
     },
     "base_uri": "https://localhost:8080/",
     "height": 36
    },
    "colab_type": "code",
    "executionInfo": {
     "elapsed": 635,
     "status": "ok",
     "timestamp": 1530102722841,
     "user": {
      "displayName": "Diorge Brognara",
      "photoUrl": "https://lh3.googleusercontent.com/a/default-user=s128",
      "userId": "102180740426822979922"
     },
     "user_tz": 180
    },
    "id": "792LxvyTuDTG",
    "outputId": "8818e8da-a0ea-4e59-f47d-24e29c1c91b2"
   },
   "outputs": [],
   "source": [
    "x.mean()"
   ]
  },
  {
   "cell_type": "code",
   "execution_count": null,
   "metadata": {
    "colab": {
     "autoexec": {
      "startup": false,
      "wait_interval": 0
     },
     "base_uri": "https://localhost:8080/",
     "height": 36
    },
    "colab_type": "code",
    "executionInfo": {
     "elapsed": 594,
     "status": "ok",
     "timestamp": 1530102724673,
     "user": {
      "displayName": "Diorge Brognara",
      "photoUrl": "https://lh3.googleusercontent.com/a/default-user=s128",
      "userId": "102180740426822979922"
     },
     "user_tz": 180
    },
    "id": "-3HETmrau4f8",
    "outputId": "d764eb8b-a32e-47be-bc51-c6a1b27dcfcf"
   },
   "outputs": [],
   "source": [
    "x.sum()"
   ]
  },
  {
   "cell_type": "code",
   "execution_count": null,
   "metadata": {
    "colab": {
     "autoexec": {
      "startup": false,
      "wait_interval": 0
     },
     "base_uri": "https://localhost:8080/",
     "height": 36
    },
    "colab_type": "code",
    "executionInfo": {
     "elapsed": 635,
     "status": "ok",
     "timestamp": 1530102742771,
     "user": {
      "displayName": "Diorge Brognara",
      "photoUrl": "https://lh3.googleusercontent.com/a/default-user=s128",
      "userId": "102180740426822979922"
     },
     "user_tz": 180
    },
    "id": "6OIWQckWOrU0",
    "outputId": "23871ea5-b0c1-4a66-fe08-43606c20f3b6"
   },
   "outputs": [],
   "source": [
    "x.sum() / len(x)"
   ]
  },
  {
   "cell_type": "markdown",
   "metadata": {
    "colab_type": "text",
    "id": "5O5HqtPCPa1u"
   },
   "source": [
    "## Iteração\n",
    "\n",
    "Embora seja sempre preferível utilizar funções vetoriais, às vezes precisamos acessar todos os valores de um vetor manualmente. O comando `for` funciona para vetores assim como para listas. No caso de matrizes, cada elemento retornado no `for` é o vetor-linha.\n",
    "\n",
    "A operação `for` é geralmente muito mais lenta que as operações vetoriais, e muitas vezes também é mais difícil de compreender o código."
   ]
  },
  {
   "cell_type": "code",
   "execution_count": null,
   "metadata": {
    "colab": {
     "autoexec": {
      "startup": false,
      "wait_interval": 0
     },
     "base_uri": "https://localhost:8080/",
     "height": 74
    },
    "colab_type": "code",
    "executionInfo": {
     "elapsed": 621,
     "status": "ok",
     "timestamp": 1530103015489,
     "user": {
      "displayName": "Diorge Brognara",
      "photoUrl": "https://lh3.googleusercontent.com/a/default-user=s128",
      "userId": "102180740426822979922"
     },
     "user_tz": 180
    },
    "id": "uJ0rqZbBOvvF",
    "outputId": "9a549004-83c0-4fd6-d656-6c6a7d5d0245"
   },
   "outputs": [],
   "source": [
    "for elem in b:\n",
    "  print(elem)"
   ]
  },
  {
   "cell_type": "code",
   "execution_count": null,
   "metadata": {
    "colab": {
     "autoexec": {
      "startup": false,
      "wait_interval": 0
     },
     "base_uri": "https://localhost:8080/",
     "height": 243
    },
    "colab_type": "code",
    "executionInfo": {
     "elapsed": 479,
     "status": "ok",
     "timestamp": 1530103037226,
     "user": {
      "displayName": "Diorge Brognara",
      "photoUrl": "https://lh3.googleusercontent.com/a/default-user=s128",
      "userId": "102180740426822979922"
     },
     "user_tz": 180
    },
    "id": "4l96QcEsPxKB",
    "outputId": "a66e6bc6-f403-4f26-eb97-d261ab479125"
   },
   "outputs": [],
   "source": [
    "for linha in m1:\n",
    "  print(linha)\n",
    "  for elem in linha:\n",
    "    print(elem)"
   ]
  },
  {
   "cell_type": "markdown",
   "metadata": {
    "colab_type": "text",
    "id": "RQEvqpNnQTaJ"
   },
   "source": [
    "## Tipos de dados dentro de um vetor\n",
    "\n",
    "Os vetores armazenam dados das mais diferentes formas, embora geralmente trabalhamos com números reais. Essa informação é guardada na variável `dtype` (de _data type_)."
   ]
  },
  {
   "cell_type": "code",
   "execution_count": null,
   "metadata": {
    "colab": {
     "autoexec": {
      "startup": false,
      "wait_interval": 0
     },
     "base_uri": "https://localhost:8080/",
     "height": 36
    },
    "colab_type": "code",
    "executionInfo": {
     "elapsed": 773,
     "status": "ok",
     "timestamp": 1530103236433,
     "user": {
      "displayName": "Diorge Brognara",
      "photoUrl": "https://lh3.googleusercontent.com/a/default-user=s128",
      "userId": "102180740426822979922"
     },
     "user_tz": 180
    },
    "id": "I7EaepuyP0vt",
    "outputId": "831648fd-5085-4e30-ea5d-2f846a0ed680"
   },
   "outputs": [],
   "source": [
    "b.dtype"
   ]
  },
  {
   "cell_type": "code",
   "execution_count": null,
   "metadata": {
    "colab": {
     "autoexec": {
      "startup": false,
      "wait_interval": 0
     },
     "base_uri": "https://localhost:8080/",
     "height": 36
    },
    "colab_type": "code",
    "executionInfo": {
     "elapsed": 781,
     "status": "ok",
     "timestamp": 1530103246356,
     "user": {
      "displayName": "Diorge Brognara",
      "photoUrl": "https://lh3.googleusercontent.com/a/default-user=s128",
      "userId": "102180740426822979922"
     },
     "user_tz": 180
    },
    "id": "PX0eAeF4QoOW",
    "outputId": "6b16de68-a1e6-4d99-8099-e2a914701622"
   },
   "outputs": [],
   "source": [
    "x.dtype"
   ]
  },
  {
   "cell_type": "markdown",
   "metadata": {
    "colab_type": "text",
    "id": "bFKbSNsBQrpt"
   },
   "source": [
    "Nesses dois exemplos, o vetor `b = [5, 6, 7]` contém valores do tipo `int64`, um número inteiro de 64-bits. O vetor `x` que contém os 15 números aleatórios contém valores `float64`, números reais de 64-bits. Não há a necessidade de se preocupar com o fato de um número ser guardado como inteiro; qualquer operação que produza números reais faz com que o tipo seja convertido."
   ]
  },
  {
   "cell_type": "code",
   "execution_count": null,
   "metadata": {
    "colab": {
     "autoexec": {
      "startup": false,
      "wait_interval": 0
     },
     "base_uri": "https://localhost:8080/",
     "height": 55
    },
    "colab_type": "code",
    "executionInfo": {
     "elapsed": 631,
     "status": "ok",
     "timestamp": 1530103356028,
     "user": {
      "displayName": "Diorge Brognara",
      "photoUrl": "https://lh3.googleusercontent.com/a/default-user=s128",
      "userId": "102180740426822979922"
     },
     "user_tz": 180
    },
    "id": "phHi08qlQqop",
    "outputId": "486ad982-c7b9-4a52-f0ed-2a74515a27ca"
   },
   "outputs": [],
   "source": [
    "print(b / 2)\n",
    "print((b / 2).dtype)"
   ]
  },
  {
   "cell_type": "markdown",
   "metadata": {
    "colab_type": "text",
    "id": "0K-nJjhYRgkp"
   },
   "source": [
    "É possível forçar o tipo de um vetor passando o parâmetro dtype quando o vetor é criado."
   ]
  },
  {
   "cell_type": "code",
   "execution_count": null,
   "metadata": {
    "colab": {
     "autoexec": {
      "startup": false,
      "wait_interval": 0
     },
     "base_uri": "https://localhost:8080/",
     "height": 36
    },
    "colab_type": "code",
    "executionInfo": {
     "elapsed": 881,
     "status": "ok",
     "timestamp": 1530103502116,
     "user": {
      "displayName": "Diorge Brognara",
      "photoUrl": "https://lh3.googleusercontent.com/a/default-user=s128",
      "userId": "102180740426822979922"
     },
     "user_tz": 180
    },
    "id": "B2lMhJlKRlrV",
    "outputId": "33f63504-7268-47e5-d9b4-dae34af7f307"
   },
   "outputs": [],
   "source": [
    "c = np.array([5, 6, 7], dtype=np.float32)\n",
    "c"
   ]
  },
  {
   "cell_type": "markdown",
   "metadata": {
    "colab_type": "text",
    "id": "XtGwQyPBRIUU"
   },
   "source": [
    "Embora seja muito difícil encontrar aplicações disso, o numpy nos deixa guardar qualquer tipo de dados utilizando o dtype `object`. Esse tipo de dado será mais útil quando trabalharmos com a biblioteca pandas."
   ]
  },
  {
   "cell_type": "code",
   "execution_count": null,
   "metadata": {
    "colab": {
     "autoexec": {
      "startup": false,
      "wait_interval": 0
     },
     "base_uri": "https://localhost:8080/",
     "height": 36
    },
    "colab_type": "code",
    "executionInfo": {
     "elapsed": 660,
     "status": "ok",
     "timestamp": 1530103451244,
     "user": {
      "displayName": "Diorge Brognara",
      "photoUrl": "https://lh3.googleusercontent.com/a/default-user=s128",
      "userId": "102180740426822979922"
     },
     "user_tz": 180
    },
    "id": "ZkxgO3lxRFcz",
    "outputId": "871b96f4-0fb4-4df2-ad31-75c837facbdf"
   },
   "outputs": [],
   "source": [
    "np.array(['a', 'banana', 5, True], dtype=np.object)"
   ]
  },
  {
   "cell_type": "markdown",
   "metadata": {
    "colab_type": "text",
    "id": "xjTI3kA6Rrvq"
   },
   "source": [
    "Um outro tipo de dado muito utilizado é o valor booleano, que aceita somente os valores True e False. Também podemos tratar os valores True como o número 1 e os valores False como o número 0."
   ]
  },
  {
   "cell_type": "code",
   "execution_count": null,
   "metadata": {
    "colab": {
     "autoexec": {
      "startup": false,
      "wait_interval": 0
     },
     "base_uri": "https://localhost:8080/",
     "height": 36
    },
    "colab_type": "code",
    "executionInfo": {
     "elapsed": 806,
     "status": "ok",
     "timestamp": 1530103553128,
     "user": {
      "displayName": "Diorge Brognara",
      "photoUrl": "https://lh3.googleusercontent.com/a/default-user=s128",
      "userId": "102180740426822979922"
     },
     "user_tz": 180
    },
    "id": "CuDkLOhERW6Y",
    "outputId": "a7f3edf8-21c3-47dd-e7c4-e3d65cbd1e0c"
   },
   "outputs": [],
   "source": [
    "d = np.array([True, True, False, True])\n",
    "d"
   ]
  },
  {
   "cell_type": "code",
   "execution_count": null,
   "metadata": {
    "colab": {
     "autoexec": {
      "startup": false,
      "wait_interval": 0
     },
     "base_uri": "https://localhost:8080/",
     "height": 36
    },
    "colab_type": "code",
    "executionInfo": {
     "elapsed": 743,
     "status": "ok",
     "timestamp": 1530103558198,
     "user": {
      "displayName": "Diorge Brognara",
      "photoUrl": "https://lh3.googleusercontent.com/a/default-user=s128",
      "userId": "102180740426822979922"
     },
     "user_tz": 180
    },
    "id": "Bkx5IZ4lR1h_",
    "outputId": "d92b8824-48ce-40bc-d90d-699a391a6059"
   },
   "outputs": [],
   "source": [
    "d.dtype"
   ]
  },
  {
   "cell_type": "code",
   "execution_count": null,
   "metadata": {
    "colab": {
     "autoexec": {
      "startup": false,
      "wait_interval": 0
     },
     "base_uri": "https://localhost:8080/",
     "height": 36
    },
    "colab_type": "code",
    "executionInfo": {
     "elapsed": 709,
     "status": "ok",
     "timestamp": 1530103564304,
     "user": {
      "displayName": "Diorge Brognara",
      "photoUrl": "https://lh3.googleusercontent.com/a/default-user=s128",
      "userId": "102180740426822979922"
     },
     "user_tz": 180
    },
    "id": "KE-CRUNpR2yC",
    "outputId": "d62a5b76-46fa-4f36-9cdd-2c3daf6f6d2f"
   },
   "outputs": [],
   "source": [
    "d.sum()"
   ]
  },
  {
   "cell_type": "markdown",
   "metadata": {
    "colab_type": "text",
    "id": "T6ygWP_WR7AQ"
   },
   "source": [
    "## Máscaras booleanas\n",
    "\n",
    "Uma operação muito poderosa de numpy e pandas é a possibilidade de fazer a indexação de um vetor utilizando um outro vetor de mesmo tamanho, sendo esse segundo do tipo booleano. Essa operação é chamada de \"máscara\"."
   ]
  },
  {
   "cell_type": "code",
   "execution_count": null,
   "metadata": {
    "colab": {
     "autoexec": {
      "startup": false,
      "wait_interval": 0
     },
     "base_uri": "https://localhost:8080/",
     "height": 36
    },
    "colab_type": "code",
    "executionInfo": {
     "elapsed": 839,
     "status": "ok",
     "timestamp": 1530103715089,
     "user": {
      "displayName": "Diorge Brognara",
      "photoUrl": "https://lh3.googleusercontent.com/a/default-user=s128",
      "userId": "102180740426822979922"
     },
     "user_tz": 180
    },
    "id": "TGzpb5fZR4SK",
    "outputId": "51d49761-bfb7-4784-aafc-a0209f1f8400"
   },
   "outputs": [],
   "source": [
    "v = np.array([5,    7,    1,     8,     4,    3,    8])\n",
    "m = np.array([True, True, False, False, True, True, False])\n",
    "v[m]"
   ]
  },
  {
   "cell_type": "markdown",
   "metadata": {
    "colab_type": "text",
    "id": "jbs6m4KGSr1_"
   },
   "source": [
    "A principal vantagem disso é que podemos gerar máscaras booleanas utilizando o _broadcasting_ dos operadores de comparação."
   ]
  },
  {
   "cell_type": "code",
   "execution_count": null,
   "metadata": {
    "colab": {
     "autoexec": {
      "startup": false,
      "wait_interval": 0
     },
     "base_uri": "https://localhost:8080/",
     "height": 36
    },
    "colab_type": "code",
    "executionInfo": {
     "elapsed": 742,
     "status": "ok",
     "timestamp": 1530103813019,
     "user": {
      "displayName": "Diorge Brognara",
      "photoUrl": "https://lh3.googleusercontent.com/a/default-user=s128",
      "userId": "102180740426822979922"
     },
     "user_tz": 180
    },
    "id": "_oW3euaQSdD-",
    "outputId": "7de2fac8-fff6-47ca-fadc-70af51359575"
   },
   "outputs": [],
   "source": [
    "v > 5"
   ]
  },
  {
   "cell_type": "code",
   "execution_count": null,
   "metadata": {
    "colab": {
     "autoexec": {
      "startup": false,
      "wait_interval": 0
     },
     "base_uri": "https://localhost:8080/",
     "height": 36
    },
    "colab_type": "code",
    "executionInfo": {
     "elapsed": 782,
     "status": "ok",
     "timestamp": 1530103819961,
     "user": {
      "displayName": "Diorge Brognara",
      "photoUrl": "https://lh3.googleusercontent.com/a/default-user=s128",
      "userId": "102180740426822979922"
     },
     "user_tz": 180
    },
    "id": "gpooVcBLS0-l",
    "outputId": "90d07bb6-7788-4e86-86d8-1ee9005208e4"
   },
   "outputs": [],
   "source": [
    "v[v > 5]"
   ]
  },
  {
   "cell_type": "code",
   "execution_count": null,
   "metadata": {
    "colab": {
     "autoexec": {
      "startup": false,
      "wait_interval": 0
     },
     "base_uri": "https://localhost:8080/",
     "height": 36
    },
    "colab_type": "code",
    "executionInfo": {
     "elapsed": 601,
     "status": "ok",
     "timestamp": 1530103871862,
     "user": {
      "displayName": "Diorge Brognara",
      "photoUrl": "https://lh3.googleusercontent.com/a/default-user=s128",
      "userId": "102180740426822979922"
     },
     "user_tz": 180
    },
    "id": "RmC6BFpAS2rD",
    "outputId": "1ffcc25f-f294-4023-cdc2-c81244aa6a6a"
   },
   "outputs": [],
   "source": [
    "v[v % 2 == 1]"
   ]
  },
  {
   "cell_type": "code",
   "execution_count": null,
   "metadata": {
    "colab": {
     "autoexec": {
      "startup": false,
      "wait_interval": 0
     },
     "base_uri": "https://localhost:8080/",
     "height": 55
    },
    "colab_type": "code",
    "executionInfo": {
     "elapsed": 876,
     "status": "ok",
     "timestamp": 1530104324046,
     "user": {
      "displayName": "Diorge Brognara",
      "photoUrl": "https://lh3.googleusercontent.com/a/default-user=s128",
      "userId": "102180740426822979922"
     },
     "user_tz": 180
    },
    "id": "KsAutqEiTCTL",
    "outputId": "5549409b-55af-484f-baed-1074041bd1f4"
   },
   "outputs": [],
   "source": [
    "# selecionando 3 números aleatórios do vetor v\n",
    "selecao = np.zeros(len(v), dtype=np.bool)\n",
    "selecao[:3] = True\n",
    "np.random.shuffle(selecao)\n",
    "print(selecao)\n",
    "v[selecao]"
   ]
  }
 ],
 "metadata": {
  "colab": {
   "collapsed_sections": [],
   "default_view": {},
   "name": "operacoes_vetoriais.ipynb",
   "provenance": [],
   "version": "0.3.2",
   "views": {}
  },
  "kernelspec": {
   "display_name": "Python 3",
   "language": "python",
   "name": "python3"
  },
  "language_info": {
   "codemirror_mode": {
    "name": "ipython",
    "version": 3
   },
   "file_extension": ".py",
   "mimetype": "text/x-python",
   "name": "python",
   "nbconvert_exporter": "python",
   "pygments_lexer": "ipython3",
   "version": "3.6.6"
  }
 },
 "nbformat": 4,
 "nbformat_minor": 1
}
