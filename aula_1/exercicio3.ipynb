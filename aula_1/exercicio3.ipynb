{
 "cells": [
  {
   "cell_type": "code",
   "execution_count": 12,
   "metadata": {},
   "outputs": [
    {
     "name": "stdout",
     "output_type": "stream",
     "text": [
      "3.048\n"
     ]
    }
   ],
   "source": [
    "import numpy as np\n",
    "N = 500\n",
    "div = N * 0.25\n",
    "vetor_aleatorio = np.random.rand(N, 2)\n",
    "vetor_aleatorio -= 0.5\n",
    "contador = 0\n",
    "for obj in vetor_aleatorio:\n",
    "    if (((np.power(obj[0],2)) + (np.power(obj[1],2))) <= 0.25):\n",
    "        contador += 1\n",
    "aprox = contador/div\n",
    "print(str(aprox))"
   ]
  },
  {
   "cell_type": "code",
   "execution_count": null,
   "metadata": {},
   "outputs": [],
   "source": []
  },
  {
   "cell_type": "code",
   "execution_count": null,
   "metadata": {},
   "outputs": [],
   "source": []
  }
 ],
 "metadata": {
  "kernelspec": {
   "display_name": "Python 3",
   "language": "python",
   "name": "python3"
  },
  "language_info": {
   "codemirror_mode": {
    "name": "ipython",
    "version": 3
   },
   "file_extension": ".py",
   "mimetype": "text/x-python",
   "name": "python",
   "nbconvert_exporter": "python",
   "pygments_lexer": "ipython3",
   "version": "3.6.6"
  }
 },
 "nbformat": 4,
 "nbformat_minor": 2
}
